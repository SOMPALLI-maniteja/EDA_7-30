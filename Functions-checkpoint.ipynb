{
 "cells": [
  {
   "cell_type": "markdown",
   "id": "58befaa2",
   "metadata": {},
   "source": [
    "# **Functions**"
   ]
  },
  {
   "cell_type": "markdown",
   "id": "11198973",
   "metadata": {},
   "source": [
    "**functions without arguments**\n",
    "\n",
    "- a block of code which we can use many tinmes"
   ]
  },
  {
   "cell_type": "code",
   "execution_count": null,
   "id": "c1eabeaf",
   "metadata": {},
   "outputs": [],
   "source": [
    "def <functio_name>():\n",
    "    code lines\n",
    "    "
   ]
  },
  {
   "cell_type": "code",
   "execution_count": 10,
   "id": "8f4d9eff",
   "metadata": {},
   "outputs": [],
   "source": [
    "def addition():\n",
    "    num1=10\n",
    "    num2=20\n",
    "    add=num1+num2\n",
    "    print(add)"
   ]
  },
  {
   "cell_type": "code",
   "execution_count": 11,
   "id": "fd0dc829",
   "metadata": {},
   "outputs": [
    {
     "name": "stdout",
     "output_type": "stream",
     "text": [
      "30\n"
     ]
    }
   ],
   "source": [
    "addition()"
   ]
  },
  {
   "cell_type": "code",
   "execution_count": 12,
   "id": "07568e19",
   "metadata": {},
   "outputs": [],
   "source": [
    "def addition():\n",
    "    num1=10\n",
    "    print(\"num1 is: \", num1)\n",
    "    num2=20\n",
    "    print(\"num2 is: \", num2)\n",
    "    add=num1+num2\n",
    "    print(f\"the addition of {num1} and {num2} is {add}\")"
   ]
  },
  {
   "cell_type": "code",
   "execution_count": 13,
   "id": "3a79b612",
   "metadata": {},
   "outputs": [
    {
     "name": "stdout",
     "output_type": "stream",
     "text": [
      "num1 is:  10\n",
      "num2 is:  20\n",
      "the addition of 10 and 20 is 30\n"
     ]
    }
   ],
   "source": [
    "addition()"
   ]
  },
  {
   "cell_type": "markdown",
   "id": "dcdc29df",
   "metadata": {},
   "source": [
    "**Note**\n",
    "\n",
    "- function name can be anything \n",
    "\n",
    "- same rules applicable as variable rules\n",
    "\n",
    "- when ever you create the function make sure theb indentation correctly\n",
    "\n",
    "- starting the keyword, ending with colon then code lines\n",
    "\n",
    "- brackets means functions\n",
    "\n",
    "- never ,issed the brackets whenever youb call the function \n",
    "\n",
    "- if you want to execute the functioncif you see function or bound method\n",
    "\n",
    "- which means you missed the brackets"
   ]
  },
  {
   "cell_type": "markdown",
   "id": "c9ee42f4",
   "metadata": {},
   "source": [
    "# - whenever we define the function it does not throw any error untill unless we call the funtion"
   ]
  },
  {
   "cell_type": "code",
   "execution_count": 16,
   "id": "9a2d0c95",
   "metadata": {},
   "outputs": [],
   "source": [
    "# wap to create a funtion to avevrage\n",
    "\n",
    "def avg():\n",
    "    num1=10\n",
    "    num2=20\n",
    "    num3=30\n",
    "    avg1=(num1+num2+num3)/3\n",
    "    print(avg1)"
   ]
  },
  {
   "cell_type": "code",
   "execution_count": 17,
   "id": "fdb95bbb",
   "metadata": {},
   "outputs": [
    {
     "name": "stdout",
     "output_type": "stream",
     "text": [
      "20.0\n"
     ]
    }
   ],
   "source": [
    "avg()"
   ]
  },
  {
   "cell_type": "code",
   "execution_count": 20,
   "id": "f562613d",
   "metadata": {},
   "outputs": [
    {
     "name": "stdout",
     "output_type": "stream",
     "text": [
      "314.0\n"
     ]
    }
   ],
   "source": [
    "# wap radius of a circle\n",
    "\n",
    "def radius_circle():\n",
    "    pi=3.14\n",
    "    radius=10\n",
    "    circle_r=pi*radius*radius\n",
    "    print(circle_r)\n",
    "radius_circle()"
   ]
  },
  {
   "cell_type": "code",
   "execution_count": 21,
   "id": "b8f12e64",
   "metadata": {},
   "outputs": [
    {
     "name": "stdout",
     "output_type": "stream",
     "text": [
      "tip for the waiter: 100.0\n",
      "total bill is: 1100.0\n"
     ]
    }
   ],
   "source": [
    "#tip percentage\n",
    "def total_bill():\n",
    "    bill_amount=1000\n",
    "    tip_percentage=10\n",
    "    tip_bill = bill_amount*(tip_percentage)/100\n",
    "    print(\"tip for the waiter:\",tip_bill)\n",
    "    print(\"total bill is:\",bill_amount+tip_bill)\n",
    "total_bill()"
   ]
  },
  {
   "cell_type": "code",
   "execution_count": 22,
   "id": "de6aca43",
   "metadata": {},
   "outputs": [
    {
     "name": "stdout",
     "output_type": "stream",
     "text": [
      "810\n"
     ]
    }
   ],
   "source": [
    "# wap ask the user bill amount in dollars ask the user one dollar print bill amount in rupees\n",
    "def converting_rupees():\n",
    "    dolars=10\n",
    "    rupees=81\n",
    "    converting_indianrupees=dolars*rupees\n",
    "    print(converting_indianrupees)\n",
    "converting_rupees()"
   ]
  },
  {
   "cell_type": "code",
   "execution_count": 24,
   "id": "b1bb82cf",
   "metadata": {},
   "outputs": [
    {
     "name": "stdout",
     "output_type": "stream",
     "text": [
      "50.0\n"
     ]
    }
   ],
   "source": [
    "# area of triangle\n",
    "def triangle():\n",
    "    base=10\n",
    "    height=10\n",
    "    area_tri=1/2*base*height\n",
    "    print(area_tri)\n",
    "triangle()"
   ]
  },
  {
   "cell_type": "code",
   "execution_count": 27,
   "id": "1282a363",
   "metadata": {},
   "outputs": [
    {
     "name": "stdout",
     "output_type": "stream",
     "text": [
      "15.0\n"
     ]
    }
   ],
   "source": [
    "# area o frectangle\n",
    "def rectangle():\n",
    "    length=10\n",
    "    breadth=20\n",
    "    area_rect=1/2*(length+breadth)\n",
    "    print(area_rect)\n",
    "rectangle()"
   ]
  },
  {
   "cell_type": "markdown",
   "id": "8d1e9f92",
   "metadata": {},
   "source": [
    "- while we are defing functions if nothing mentioned means \n",
    "\n",
    "- it is called as functions without arguments"
   ]
  },
  {
   "cell_type": "markdown",
   "id": "5143f0bd",
   "metadata": {},
   "source": [
    "**functions with arguments**\n",
    "\n",
    "- first look at how many variable are there \n",
    "\n",
    "- in that how many input variables are there \n",
    "\n",
    "- how many output variable are there\n",
    "\n",
    "- input variable means user can define \n",
    "\n",
    "- output means pyhton gives output \n",
    "\n",
    "- we can use only input variables as argument inside the function"
   ]
  },
  {
   "cell_type": "code",
   "execution_count": 29,
   "id": "d410f273",
   "metadata": {},
   "outputs": [
    {
     "name": "stdout",
     "output_type": "stream",
     "text": [
      "addition of the 10 and 20 is 30\n"
     ]
    }
   ],
   "source": [
    "def addition1(num1,num2):\n",
    "    add=num1+num2\n",
    "    print(f\"addition of the {num1} and {num2} is {add}\")\n",
    "addition1(10,20)"
   ]
  },
  {
   "cell_type": "code",
   "execution_count": 31,
   "id": "435d465b",
   "metadata": {},
   "outputs": [
    {
     "name": "stdout",
     "output_type": "stream",
     "text": [
      "100.0\n"
     ]
    }
   ],
   "source": [
    "#area of triangle\n",
    "def triangle1(base,height):\n",
    "    area_tri=1/2*base*height\n",
    "    print(area_tri)\n",
    "triangle1(10,20)"
   ]
  },
  {
   "cell_type": "code",
   "execution_count": 35,
   "id": "2f9f5fda",
   "metadata": {},
   "outputs": [
    {
     "name": "stdout",
     "output_type": "stream",
     "text": [
      "20.0\n"
     ]
    }
   ],
   "source": [
    "def avg1(num1,num2,num3):\n",
    "    avg1=(num1+num2+num3)/3\n",
    "    print(avg1)\n",
    "avg1(10,20,30)"
   ]
  },
  {
   "cell_type": "markdown",
   "id": "a4e8f2be",
   "metadata": {},
   "source": [
    "**Default arguments**"
   ]
  },
  {
   "cell_type": "code",
   "execution_count": 3,
   "id": "ec1ed96f",
   "metadata": {},
   "outputs": [
    {
     "name": "stdout",
     "output_type": "stream",
     "text": [
      "2200.0\n"
     ]
    }
   ],
   "source": [
    "# with arguments\n",
    "#whenever we provide the arguments \n",
    "#those provided arguments we are using inside code or not \n",
    "#bill amount\n",
    "def bill_pay(bill,tip_percentage):\n",
    "    total_amount=bill*tip_percentage/100\n",
    "    total_bill=total_amount+bill\n",
    "    print(total_bill)\n",
    "bill_pay(2000,10)"
   ]
  },
  {
   "cell_type": "code",
   "execution_count": 6,
   "id": "ee6f0fe2",
   "metadata": {},
   "outputs": [
    {
     "name": "stdout",
     "output_type": "stream",
     "text": [
      "bill is:  2000\n",
      "tip percentage is:  20\n",
      "2400.0\n"
     ]
    }
   ],
   "source": [
    "#default arguments\n",
    "\n",
    "def bill_pay(bill,tip_percentage=20):\n",
    "    print(\"bill is: \",bill)\n",
    "    print(\"tip percentage is: \", tip_percentage)\n",
    "    total_amount=bill*tip_percentage/100\n",
    "    total_bill=total_amount+bill\n",
    "    print(total_bill)\n",
    "bill_pay(2000)"
   ]
  },
  {
   "cell_type": "code",
   "execution_count": 10,
   "id": "a38cbb74",
   "metadata": {},
   "outputs": [
    {
     "name": "stdout",
     "output_type": "stream",
     "text": [
      "27\n"
     ]
    }
   ],
   "source": [
    "\n",
    "def avg(num1,num2,num3=50):\n",
    "    avg1=(num1+num2+num3)/3\n",
    "    print(round(avg1))\n",
    "avg(10,20)\n",
    "\n",
    "# num1 and num2 are the positional arguments"
   ]
  },
  {
   "cell_type": "code",
   "execution_count": 11,
   "id": "59babc60",
   "metadata": {},
   "outputs": [
    {
     "ename": "SyntaxError",
     "evalue": "non-default argument follows default argument (197559846.py, line 1)",
     "output_type": "error",
     "traceback": [
      "\u001b[1;36m  File \u001b[1;32m\"C:\\Users\\maniteja\\AppData\\Local\\Temp\\ipykernel_7652\\197559846.py\"\u001b[1;36m, line \u001b[1;32m1\u001b[0m\n\u001b[1;33m    def avg(num1,num2=50,num3):\u001b[0m\n\u001b[1;37m                             ^\u001b[0m\n\u001b[1;31mSyntaxError\u001b[0m\u001b[1;31m:\u001b[0m non-default argument follows default argument\n"
     ]
    }
   ],
   "source": [
    "def avg(num1,num2=50,num3):\n",
    "    avg1=(num1+num2+num3)/3\n",
    "    print(round(avg1))\n",
    "avg(num1=10,num3=20)\n",
    "\n",
    "# default arguments should always be in last"
   ]
  },
  {
   "cell_type": "markdown",
   "id": "5d8b4ade",
   "metadata": {},
   "source": [
    "**Note**\n",
    "\n",
    "- default arguments should always be in last"
   ]
  },
  {
   "cell_type": "code",
   "execution_count": null,
   "id": "6ae4a05a",
   "metadata": {},
   "outputs": [],
   "source": [
    "avg(num1,num2=50,num3)#f\n",
    "avg(num1,num2=50,num3=10)#w\n",
    "avg(num1=20,num2=10,num3=30)#w\n",
    "avg(num1=100,num2,num3):#f\n",
    "avg(num1=100,num2,num3=200)#f\n"
   ]
  },
  {
   "cell_type": "code",
   "execution_count": 13,
   "id": "5dd10797",
   "metadata": {},
   "outputs": [
    {
     "name": "stdout",
     "output_type": "stream",
     "text": [
      "1500\n"
     ]
    }
   ],
   "source": [
    "def addition(n1,n2=600):\n",
    "    add=n1+n2\n",
    "    print(add)\n",
    "addition(500,1000)\n",
    "\n",
    "# first we defining the function \n",
    "#while we define the we given n2=600\n",
    "# now we are calling function\n",
    "# while we are calling n2=1000\n",
    "# so values shiuld be override\n",
    "# python should take only latest values"
   ]
  },
  {
   "cell_type": "code",
   "execution_count": 15,
   "id": "362196cf",
   "metadata": {},
   "outputs": [
    {
     "name": "stdout",
     "output_type": "stream",
     "text": [
      "700\n"
     ]
    }
   ],
   "source": [
    "def addition1(n1,n2=600):\n",
    "    n2=200                     # it should only take the latest values for a  variables in a function\n",
    "    add=n1+n2\n",
    "    print(add)\n",
    "addition1(500,1000)"
   ]
  },
  {
   "cell_type": "code",
   "execution_count": 17,
   "id": "90232948",
   "metadata": {},
   "outputs": [
    {
     "name": "stdout",
     "output_type": "stream",
     "text": [
      "700\n"
     ]
    }
   ],
   "source": [
    "def addition2(n1,n2=600):\n",
    "    n2=200                     #\n",
    "    add=n1+n2\n",
    "    print(add)\n",
    "n2=3000\n",
    "addition2(500,1000)"
   ]
  },
  {
   "cell_type": "markdown",
   "id": "2fdaf7f3",
   "metadata": {},
   "source": [
    "**Local variable and Global varaiables**"
   ]
  },
  {
   "cell_type": "markdown",
   "id": "d7311486",
   "metadata": {},
   "source": [
    "- Local variable means: the variable insdide the function\n",
    "\n",
    "- global variables means : the variables outside of the function\n",
    "    \n",
    "- once a define a variables outside means, you can use those varaiables anywhare\n",
    "\n",
    "- you can use global variable inside the function also\n",
    "\n",
    "- but you can not use local variables outside the function"
   ]
  },
  {
   "cell_type": "code",
   "execution_count": 19,
   "id": "1c1f8842",
   "metadata": {},
   "outputs": [
    {
     "name": "stdout",
     "output_type": "stream",
     "text": [
      "200\n"
     ]
    }
   ],
   "source": [
    "def mul():\n",
    "    a=10\n",
    "    b=20\n",
    "    multiplication=a*b\n",
    "    print(multiplication)\n",
    "mul()"
   ]
  },
  {
   "cell_type": "code",
   "execution_count": 24,
   "id": "d27ae9c3",
   "metadata": {},
   "outputs": [
    {
     "name": "stdout",
     "output_type": "stream",
     "text": [
      "20000\n"
     ]
    }
   ],
   "source": [
    "a=100\n",
    "b=200\n",
    "def mul():\n",
    "    multiplication=a*b\n",
    "    print(multiplication)\n",
    "mul()\n",
    "# a,b are the local variable these we cant use outside of the function"
   ]
  },
  {
   "cell_type": "code",
   "execution_count": 25,
   "id": "079d3aa0",
   "metadata": {},
   "outputs": [
    {
     "name": "stdout",
     "output_type": "stream",
     "text": [
      "1100\n"
     ]
    }
   ],
   "source": [
    "n1=100\n",
    "n2=500\n",
    "\n",
    "def addition3(n1=600):                     #\n",
    "    add=n1+n2\n",
    "    print(add)\n",
    "addition3()"
   ]
  },
  {
   "cell_type": "code",
   "execution_count": 27,
   "id": "788d02ac",
   "metadata": {},
   "outputs": [
    {
     "ename": "TypeError",
     "evalue": "addition3() got an unexpected keyword argument 'a1'",
     "output_type": "error",
     "traceback": [
      "\u001b[1;31m---------------------------------------------------------------------------\u001b[0m",
      "\u001b[1;31mTypeError\u001b[0m                                 Traceback (most recent call last)",
      "\u001b[1;32m~\\AppData\\Local\\Temp\\ipykernel_7652\\3602969790.py\u001b[0m in \u001b[0;36m<module>\u001b[1;34m\u001b[0m\n\u001b[0;32m      5\u001b[0m     \u001b[0madd11\u001b[0m\u001b[1;33m=\u001b[0m\u001b[0mn1\u001b[0m\u001b[1;33m+\u001b[0m\u001b[0mn2\u001b[0m\u001b[1;33m\u001b[0m\u001b[1;33m\u001b[0m\u001b[0m\n\u001b[0;32m      6\u001b[0m     \u001b[0mprint\u001b[0m\u001b[1;33m(\u001b[0m\u001b[0madd11\u001b[0m\u001b[1;33m)\u001b[0m\u001b[1;33m\u001b[0m\u001b[1;33m\u001b[0m\u001b[0m\n\u001b[1;32m----> 7\u001b[1;33m \u001b[0maddition3\u001b[0m\u001b[1;33m(\u001b[0m\u001b[0ma1\u001b[0m\u001b[1;33m=\u001b[0m\u001b[1;36m2000\u001b[0m\u001b[1;33m,\u001b[0m\u001b[0mb1\u001b[0m\u001b[1;33m=\u001b[0m\u001b[1;36m2000\u001b[0m\u001b[1;33m)\u001b[0m\u001b[1;33m\u001b[0m\u001b[1;33m\u001b[0m\u001b[0m\n\u001b[0m",
      "\u001b[1;31mTypeError\u001b[0m: addition3() got an unexpected keyword argument 'a1'"
     ]
    }
   ],
   "source": [
    "n1=100\n",
    "n2=500\n",
    "\n",
    "def addition4(n1=600):                     #\n",
    "    add11=n1+n2\n",
    "    print(add11)\n",
    "addition3(n1=2000,n2=2000)\n",
    "\n",
    "# while defing function only one argumemt is there\n",
    "# but when we are calling we provinding the twonarguments\n",
    "# it is not possible"
   ]
  },
  {
   "cell_type": "code",
   "execution_count": 31,
   "id": "d5bb8089",
   "metadata": {},
   "outputs": [
    {
     "name": "stdout",
     "output_type": "stream",
     "text": [
      "5500\n"
     ]
    }
   ],
   "source": [
    "n1=100\n",
    "n2=500\n",
    "\n",
    "def addition5(n1=600):  \n",
    "    n1=5000           #\n",
    "    add11=n1+n2\n",
    "    print(add11)\n",
    "n1=6000\n",
    "addition5(n1=2000)\n",
    "\n",
    "\n"
   ]
  },
  {
   "cell_type": "code",
   "execution_count": 32,
   "id": "317d9217",
   "metadata": {},
   "outputs": [
    {
     "name": "stdout",
     "output_type": "stream",
     "text": [
      "6500\n"
     ]
    }
   ],
   "source": [
    "n2=500\n",
    "\n",
    "def addition6():  \n",
    "    add11=n1+n2\n",
    "    print(add11)\n",
    "n1=6000\n",
    "addition6()"
   ]
  },
  {
   "cell_type": "code",
   "execution_count": 1,
   "id": "b0171cf2",
   "metadata": {},
   "outputs": [],
   "source": [
    "# indeed ,cutshot==== for startups\n",
    "#,iimjobs,glassdoor,shine.com,fishpools"
   ]
  },
  {
   "cell_type": "code",
   "execution_count": 6,
   "id": "15b33859",
   "metadata": {},
   "outputs": [
    {
     "ename": "UnboundLocalError",
     "evalue": "local variable 's' referenced before assignment",
     "output_type": "error",
     "traceback": [
      "\u001b[1;31m---------------------------------------------------------------------------\u001b[0m",
      "\u001b[1;31mUnboundLocalError\u001b[0m                         Traceback (most recent call last)",
      "\u001b[1;32m~\\AppData\\Local\\Temp\\ipykernel_6088\\3608946033.py\u001b[0m in \u001b[0;36m<module>\u001b[1;34m\u001b[0m\n\u001b[0;32m      3\u001b[0m     \u001b[0ms\u001b[0m\u001b[1;33m=\u001b[0m\u001b[0ms\u001b[0m\u001b[1;33m+\u001b[0m\u001b[1;36m10\u001b[0m\u001b[1;33m\u001b[0m\u001b[1;33m\u001b[0m\u001b[0m\n\u001b[0;32m      4\u001b[0m     \u001b[0mprint\u001b[0m\u001b[1;33m(\u001b[0m\u001b[0ms\u001b[0m\u001b[1;33m)\u001b[0m\u001b[1;33m\u001b[0m\u001b[1;33m\u001b[0m\u001b[0m\n\u001b[1;32m----> 5\u001b[1;33m \u001b[0madd17\u001b[0m\u001b[1;33m(\u001b[0m\u001b[1;33m)\u001b[0m\u001b[1;33m\u001b[0m\u001b[1;33m\u001b[0m\u001b[0m\n\u001b[0m",
      "\u001b[1;32m~\\AppData\\Local\\Temp\\ipykernel_6088\\3608946033.py\u001b[0m in \u001b[0;36madd17\u001b[1;34m()\u001b[0m\n\u001b[0;32m      1\u001b[0m \u001b[0ms\u001b[0m\u001b[1;33m=\u001b[0m\u001b[1;36m0\u001b[0m\u001b[1;33m\u001b[0m\u001b[1;33m\u001b[0m\u001b[0m\n\u001b[0;32m      2\u001b[0m \u001b[1;32mdef\u001b[0m \u001b[0madd17\u001b[0m\u001b[1;33m(\u001b[0m\u001b[1;33m)\u001b[0m\u001b[1;33m:\u001b[0m\u001b[1;33m\u001b[0m\u001b[1;33m\u001b[0m\u001b[0m\n\u001b[1;32m----> 3\u001b[1;33m     \u001b[0ms\u001b[0m\u001b[1;33m=\u001b[0m\u001b[0ms\u001b[0m\u001b[1;33m+\u001b[0m\u001b[1;36m10\u001b[0m\u001b[1;33m\u001b[0m\u001b[1;33m\u001b[0m\u001b[0m\n\u001b[0m\u001b[0;32m      4\u001b[0m     \u001b[0mprint\u001b[0m\u001b[1;33m(\u001b[0m\u001b[0ms\u001b[0m\u001b[1;33m)\u001b[0m\u001b[1;33m\u001b[0m\u001b[1;33m\u001b[0m\u001b[0m\n\u001b[0;32m      5\u001b[0m \u001b[0madd17\u001b[0m\u001b[1;33m(\u001b[0m\u001b[1;33m)\u001b[0m\u001b[1;33m\u001b[0m\u001b[1;33m\u001b[0m\u001b[0m\n",
      "\u001b[1;31mUnboundLocalError\u001b[0m: local variable 's' referenced before assignment"
     ]
    }
   ],
   "source": [
    "s=0\n",
    "def add17():\n",
    "    s=s+10\n",
    "    print(s)\n",
    "add17()"
   ]
  },
  {
   "cell_type": "code",
   "execution_count": 5,
   "id": "7e87c473",
   "metadata": {},
   "outputs": [
    {
     "name": "stdout",
     "output_type": "stream",
     "text": [
      "10\n"
     ]
    }
   ],
   "source": [
    "s=0\n",
    "def add17():\n",
    "    m=s+10\n",
    "    print(m)\n",
    "add17()"
   ]
  },
  {
   "cell_type": "code",
   "execution_count": 7,
   "id": "4c9cc96e",
   "metadata": {},
   "outputs": [
    {
     "ename": "UnboundLocalError",
     "evalue": "local variable 's' referenced before assignment",
     "output_type": "error",
     "traceback": [
      "\u001b[1;31m---------------------------------------------------------------------------\u001b[0m",
      "\u001b[1;31mUnboundLocalError\u001b[0m                         Traceback (most recent call last)",
      "\u001b[1;32m~\\AppData\\Local\\Temp\\ipykernel_6088\\692034270.py\u001b[0m in \u001b[0;36m<module>\u001b[1;34m\u001b[0m\n\u001b[0;32m      4\u001b[0m     \u001b[0ms\u001b[0m\u001b[1;33m=\u001b[0m\u001b[0mm\u001b[0m\u001b[1;33m\u001b[0m\u001b[1;33m\u001b[0m\u001b[0m\n\u001b[0;32m      5\u001b[0m     \u001b[0mprint\u001b[0m\u001b[1;33m(\u001b[0m\u001b[0ms\u001b[0m\u001b[1;33m)\u001b[0m\u001b[1;33m\u001b[0m\u001b[1;33m\u001b[0m\u001b[0m\n\u001b[1;32m----> 6\u001b[1;33m \u001b[0madd17\u001b[0m\u001b[1;33m(\u001b[0m\u001b[1;33m)\u001b[0m\u001b[1;33m\u001b[0m\u001b[1;33m\u001b[0m\u001b[0m\n\u001b[0m",
      "\u001b[1;32m~\\AppData\\Local\\Temp\\ipykernel_6088\\692034270.py\u001b[0m in \u001b[0;36madd17\u001b[1;34m()\u001b[0m\n\u001b[0;32m      1\u001b[0m \u001b[0ms\u001b[0m\u001b[1;33m=\u001b[0m\u001b[1;36m0\u001b[0m\u001b[1;33m\u001b[0m\u001b[1;33m\u001b[0m\u001b[0m\n\u001b[0;32m      2\u001b[0m \u001b[1;32mdef\u001b[0m \u001b[0madd17\u001b[0m\u001b[1;33m(\u001b[0m\u001b[1;33m)\u001b[0m\u001b[1;33m:\u001b[0m\u001b[1;33m\u001b[0m\u001b[1;33m\u001b[0m\u001b[0m\n\u001b[1;32m----> 3\u001b[1;33m     \u001b[0mm\u001b[0m\u001b[1;33m=\u001b[0m\u001b[0ms\u001b[0m\u001b[1;33m+\u001b[0m\u001b[1;36m10\u001b[0m\u001b[1;33m\u001b[0m\u001b[1;33m\u001b[0m\u001b[0m\n\u001b[0m\u001b[0;32m      4\u001b[0m     \u001b[0ms\u001b[0m\u001b[1;33m=\u001b[0m\u001b[0mm\u001b[0m\u001b[1;33m\u001b[0m\u001b[1;33m\u001b[0m\u001b[0m\n\u001b[0;32m      5\u001b[0m     \u001b[0mprint\u001b[0m\u001b[1;33m(\u001b[0m\u001b[0ms\u001b[0m\u001b[1;33m)\u001b[0m\u001b[1;33m\u001b[0m\u001b[1;33m\u001b[0m\u001b[0m\n",
      "\u001b[1;31mUnboundLocalError\u001b[0m: local variable 's' referenced before assignment"
     ]
    }
   ],
   "source": [
    "s=0\n",
    "def add17():\n",
    "    m=s+10\n",
    "    s=m\n",
    "9    print(s)\n",
    "add17()"
   ]
  },
  {
   "cell_type": "code",
   "execution_count": 8,
   "id": "76151f72",
   "metadata": {},
   "outputs": [
    {
     "name": "stdout",
     "output_type": "stream",
     "text": [
      "100 200 300\n"
     ]
    }
   ],
   "source": [
    "n1=10\n",
    "def addition11():\n",
    "    n1=100\n",
    "    n2=200\n",
    "    n3=n1+n2\n",
    "    print(n1,n2,n3)\n",
    "addition11()"
   ]
  },
  {
   "cell_type": "markdown",
   "id": "9f607bf6",
   "metadata": {},
   "source": [
    "**Note**\n",
    "\n",
    "- if you give same variable as global and local make sure that that variable should not use as value inside the function"
   ]
  },
  {
   "cell_type": "code",
   "execution_count": 12,
   "id": "cb2369de",
   "metadata": {},
   "outputs": [
    {
     "name": "stdout",
     "output_type": "stream",
     "text": [
      "10 210 220\n"
     ]
    }
   ],
   "source": [
    "n11=10\n",
    "def addition12():\n",
    "    n22=200+n11\n",
    "    n33=n11+n22\n",
    "    print(n11,n22,n33)\n",
    "addition12()\n",
    "\n",
    "\n",
    "# n11=10\n",
    "# define the fnction\n",
    "# call the function\n",
    "# run the function n22=200+10\n",
    "  #          n11 is the global variable       n22=210\n",
    "#            n33=10+210 ==>220\n",
    "#print(10,210,220)"
   ]
  },
  {
   "cell_type": "code",
   "execution_count": 13,
   "id": "f2c12849",
   "metadata": {},
   "outputs": [
    {
     "ename": "UnboundLocalError",
     "evalue": "local variable 's' referenced before assignment",
     "output_type": "error",
     "traceback": [
      "\u001b[1;31m---------------------------------------------------------------------------\u001b[0m",
      "\u001b[1;31mUnboundLocalError\u001b[0m                         Traceback (most recent call last)",
      "\u001b[1;32m~\\AppData\\Local\\Temp\\ipykernel_6088\\2966687917.py\u001b[0m in \u001b[0;36m<module>\u001b[1;34m\u001b[0m\n\u001b[0;32m      4\u001b[0m     \u001b[0ms\u001b[0m\u001b[1;33m=\u001b[0m\u001b[0mm\u001b[0m\u001b[1;33m\u001b[0m\u001b[1;33m\u001b[0m\u001b[0m\n\u001b[0;32m      5\u001b[0m     \u001b[0mprint\u001b[0m\u001b[1;33m(\u001b[0m\u001b[0ms\u001b[0m\u001b[1;33m)\u001b[0m\u001b[1;33m\u001b[0m\u001b[1;33m\u001b[0m\u001b[0m\n\u001b[1;32m----> 6\u001b[1;33m \u001b[0madd17\u001b[0m\u001b[1;33m(\u001b[0m\u001b[1;33m)\u001b[0m\u001b[1;33m\u001b[0m\u001b[1;33m\u001b[0m\u001b[0m\n\u001b[0m\u001b[0;32m      7\u001b[0m \u001b[1;33m\u001b[0m\u001b[0m\n\u001b[0;32m      8\u001b[0m \u001b[1;33m\u001b[0m\u001b[0m\n",
      "\u001b[1;32m~\\AppData\\Local\\Temp\\ipykernel_6088\\2966687917.py\u001b[0m in \u001b[0;36madd17\u001b[1;34m()\u001b[0m\n\u001b[0;32m      1\u001b[0m \u001b[0ms\u001b[0m\u001b[1;33m=\u001b[0m\u001b[1;36m0\u001b[0m\u001b[1;33m\u001b[0m\u001b[1;33m\u001b[0m\u001b[0m\n\u001b[0;32m      2\u001b[0m \u001b[1;32mdef\u001b[0m \u001b[0madd17\u001b[0m\u001b[1;33m(\u001b[0m\u001b[1;33m)\u001b[0m\u001b[1;33m:\u001b[0m\u001b[1;33m\u001b[0m\u001b[1;33m\u001b[0m\u001b[0m\n\u001b[1;32m----> 3\u001b[1;33m     \u001b[0mm\u001b[0m\u001b[1;33m=\u001b[0m\u001b[0ms\u001b[0m\u001b[1;33m+\u001b[0m\u001b[1;36m10\u001b[0m\u001b[1;33m\u001b[0m\u001b[1;33m\u001b[0m\u001b[0m\n\u001b[0m\u001b[0;32m      4\u001b[0m     \u001b[0ms\u001b[0m\u001b[1;33m=\u001b[0m\u001b[0mm\u001b[0m\u001b[1;33m\u001b[0m\u001b[1;33m\u001b[0m\u001b[0m\n\u001b[0;32m      5\u001b[0m     \u001b[0mprint\u001b[0m\u001b[1;33m(\u001b[0m\u001b[0ms\u001b[0m\u001b[1;33m)\u001b[0m\u001b[1;33m\u001b[0m\u001b[1;33m\u001b[0m\u001b[0m\n",
      "\u001b[1;31mUnboundLocalError\u001b[0m: local variable 's' referenced before assignment"
     ]
    }
   ],
   "source": [
    "s=0\n",
    "def add17():\n",
    "    m=s+10\n",
    "    s=m\n",
    "    print(s)\n",
    "add17()\n",
    "\n",
    "\n",
    "# we creating the same variable name as the global variable so it gives mistake"
   ]
  },
  {
   "cell_type": "markdown",
   "id": "9a12aa51",
   "metadata": {},
   "source": [
    "**global keyword**\n",
    "\n",
    "- global keyword is used to take the local variable value outside the function"
   ]
  },
  {
   "cell_type": "code",
   "execution_count": 14,
   "id": "972f4ebc",
   "metadata": {},
   "outputs": [
    {
     "name": "stdout",
     "output_type": "stream",
     "text": [
      "200\n"
     ]
    }
   ],
   "source": [
    "value=0\n",
    "def add18():\n",
    "    global value\n",
    "    value=200\n",
    "    print(value)\n",
    "add18()\n"
   ]
  },
  {
   "cell_type": "code",
   "execution_count": 15,
   "id": "40e34363",
   "metadata": {},
   "outputs": [
    {
     "data": {
      "text/plain": [
       "200"
      ]
     },
     "execution_count": 15,
     "metadata": {},
     "output_type": "execute_result"
    }
   ],
   "source": [
    "value"
   ]
  },
  {
   "cell_type": "code",
   "execution_count": 18,
   "id": "38811f6d",
   "metadata": {},
   "outputs": [
    {
     "name": "stdout",
     "output_type": "stream",
     "text": [
      "10 210 220\n"
     ]
    }
   ],
   "source": [
    "n11=10\n",
    "def addition12():\n",
    "    global n33\n",
    "    global n22\n",
    "    n22=200+n11\n",
    "    n33=n11+n22\n",
    "    print(n11,n22,n33)\n",
    "addition12()"
   ]
  },
  {
   "cell_type": "code",
   "execution_count": 17,
   "id": "dd8463e4",
   "metadata": {},
   "outputs": [
    {
     "data": {
      "text/plain": [
       "220"
      ]
     },
     "execution_count": 17,
     "metadata": {},
     "output_type": "execute_result"
    }
   ],
   "source": [
    "n33"
   ]
  },
  {
   "cell_type": "code",
   "execution_count": 19,
   "id": "fa65504a",
   "metadata": {},
   "outputs": [
    {
     "data": {
      "text/plain": [
       "210"
      ]
     },
     "execution_count": 19,
     "metadata": {},
     "output_type": "execute_result"
    }
   ],
   "source": [
    "n22"
   ]
  },
  {
   "cell_type": "code",
   "execution_count": 24,
   "id": "0ecf1048",
   "metadata": {},
   "outputs": [
    {
     "name": "stdout",
     "output_type": "stream",
     "text": [
      "10 210 220\n"
     ]
    }
   ],
   "source": [
    "n66=10\n",
    "def addition13():\n",
    "    global n44,n55\n",
    "    n55=200+n66\n",
    "    n44=n66+n55\n",
    "    print(n66,n55,n44)\n",
    "addition13()"
   ]
  },
  {
   "cell_type": "code",
   "execution_count": 25,
   "id": "b75d8319",
   "metadata": {},
   "outputs": [
    {
     "data": {
      "text/plain": [
       "210"
      ]
     },
     "execution_count": 25,
     "metadata": {},
     "output_type": "execute_result"
    }
   ],
   "source": [
    "n55"
   ]
  },
  {
   "cell_type": "code",
   "execution_count": 26,
   "id": "c7f149a8",
   "metadata": {},
   "outputs": [
    {
     "data": {
      "text/plain": [
       "220"
      ]
     },
     "execution_count": 26,
     "metadata": {},
     "output_type": "execute_result"
    }
   ],
   "source": [
    "n44"
   ]
  },
  {
   "cell_type": "markdown",
   "id": "b748c8ca",
   "metadata": {},
   "source": [
    "- outside the function is called the global variables.\n",
    "\n",
    "- inside the function is called the local variable\n",
    "\n",
    "- local variable can not use outside the function\n",
    "\n",
    "- if want to use we use global keyword \n"
   ]
  },
  {
   "cell_type": "code",
   "execution_count": 30,
   "id": "0851c1c2",
   "metadata": {},
   "outputs": [
    {
     "name": "stdout",
     "output_type": "stream",
     "text": [
      "20\n",
      "30\n",
      "600\n"
     ]
    }
   ],
   "source": [
    "def mul1(a,b):\n",
    "    print(a*b)\n",
    "mul1(eval(input()),eval(input()))"
   ]
  },
  {
   "cell_type": "markdown",
   "id": "cca4ee75",
   "metadata": {},
   "source": [
    "- we can use the local varible function  outputs outside the function using return\n",
    "\n",
    "- print is different\n",
    "\n",
    "- return is differnt \n",
    "\n",
    "- print is used to print the value only \n",
    "\n",
    "- that value you can see but not use\n",
    "\n",
    "- if you want to use outside  we will use return (it is also possible using global)"
   ]
  },
  {
   "cell_type": "code",
   "execution_count": 32,
   "id": "dc95ef36",
   "metadata": {},
   "outputs": [
    {
     "data": {
      "text/plain": [
       "20.0"
      ]
     },
     "execution_count": 32,
     "metadata": {},
     "output_type": "execute_result"
    }
   ],
   "source": [
    "def avg11():\n",
    "    num1=10\n",
    "    num2=20\n",
    "    num3=30\n",
    "    avg12=(num1+num2+num3)/3\n",
    "    return avg12\n",
    "avg11()\n",
    "\n",
    "# funtion is ready to give the returm the value to me "
   ]
  },
  {
   "cell_type": "code",
   "execution_count": 38,
   "id": "704a70bf",
   "metadata": {},
   "outputs": [
    {
     "name": "stdout",
     "output_type": "stream",
     "text": [
      "(20.0, 30)\n"
     ]
    }
   ],
   "source": [
    "def avg13():\n",
    "    num1=10\n",
    "    num2=20\n",
    "    num3=30\n",
    "    avg14=(num1+num2+num3)/3\n",
    "    return (avg14,num3)\n",
    "mani=avg13()\n",
    "print(mani)"
   ]
  },
  {
   "cell_type": "code",
   "execution_count": 39,
   "id": "7997eec2",
   "metadata": {},
   "outputs": [],
   "source": [
    "def avg13():\n",
    "    num1=10\n",
    "    num2=20\n",
    "    num3=30\n",
    "    avg14=(num1+num2+num3)/3\n",
    "    return (avg14,num3)\n",
    "avg14,num3=avg13()\n"
   ]
  },
  {
   "cell_type": "code",
   "execution_count": 42,
   "id": "9a870f10",
   "metadata": {},
   "outputs": [
    {
     "name": "stdout",
     "output_type": "stream",
     "text": [
      "20.0 30\n"
     ]
    }
   ],
   "source": [
    "print(avg14,num3)"
   ]
  },
  {
   "cell_type": "code",
   "execution_count": 45,
   "id": "013d1a47",
   "metadata": {},
   "outputs": [],
   "source": [
    "def sub():\n",
    "    a=10\n",
    "    b=20\n",
    "    subb=b-a\n",
    "    return(subb)\n",
    "subb=sub()"
   ]
  },
  {
   "cell_type": "code",
   "execution_count": 46,
   "id": "d539a71f",
   "metadata": {},
   "outputs": [
    {
     "data": {
      "text/plain": [
       "10"
      ]
     },
     "execution_count": 46,
     "metadata": {},
     "output_type": "execute_result"
    }
   ],
   "source": [
    "subb"
   ]
  },
  {
   "cell_type": "code",
   "execution_count": 47,
   "id": "b500913d",
   "metadata": {},
   "outputs": [],
   "source": [
    "#return is always at last line of the function \n",
    "# not in the middle of the funtion"
   ]
  },
  {
   "cell_type": "code",
   "execution_count": 49,
   "id": "76aca435",
   "metadata": {},
   "outputs": [],
   "source": [
    "def sub():\n",
    "    a=10\n",
    "    b=20\n",
    "    cary=b-a\n",
    "    return(cary,a,b)\n",
    "cary=sub()"
   ]
  },
  {
   "cell_type": "code",
   "execution_count": 50,
   "id": "5d271f17",
   "metadata": {},
   "outputs": [
    {
     "data": {
      "text/plain": [
       "(10, 10, 20)"
      ]
     },
     "execution_count": 50,
     "metadata": {},
     "output_type": "execute_result"
    }
   ],
   "source": [
    "cary"
   ]
  },
  {
   "cell_type": "code",
   "execution_count": 5,
   "id": "91e33f25",
   "metadata": {
    "scrolled": true
   },
   "outputs": [
    {
     "ename": "UnboundLocalError",
     "evalue": "local variable 'num1' referenced before assignment",
     "output_type": "error",
     "traceback": [
      "\u001b[1;31m---------------------------------------------------------------------------\u001b[0m",
      "\u001b[1;31mUnboundLocalError\u001b[0m                         Traceback (most recent call last)",
      "\u001b[1;32m~\\AppData\\Local\\Temp\\ipykernel_2396\\4198829889.py\u001b[0m in \u001b[0;36m<module>\u001b[1;34m\u001b[0m\n\u001b[0;32m      3\u001b[0m     \u001b[0mprint\u001b[0m\u001b[1;33m(\u001b[0m\u001b[0mnum1\u001b[0m\u001b[1;33m)\u001b[0m\u001b[1;33m\u001b[0m\u001b[1;33m\u001b[0m\u001b[0m\n\u001b[0;32m      4\u001b[0m     \u001b[0mnum1\u001b[0m\u001b[1;33m=\u001b[0m\u001b[1;36m100\u001b[0m\u001b[1;33m\u001b[0m\u001b[1;33m\u001b[0m\u001b[0m\n\u001b[1;32m----> 5\u001b[1;33m \u001b[0mfun1\u001b[0m\u001b[1;33m(\u001b[0m\u001b[1;33m)\u001b[0m\u001b[1;33m\u001b[0m\u001b[1;33m\u001b[0m\u001b[0m\n\u001b[0m\u001b[0;32m      6\u001b[0m \u001b[1;33m\u001b[0m\u001b[0m\n\u001b[0;32m      7\u001b[0m \u001b[1;31m# loacl variable amd global variable both names are the same\u001b[0m\u001b[1;33m\u001b[0m\u001b[1;33m\u001b[0m\u001b[0m\n",
      "\u001b[1;32m~\\AppData\\Local\\Temp\\ipykernel_2396\\4198829889.py\u001b[0m in \u001b[0;36mfun1\u001b[1;34m()\u001b[0m\n\u001b[0;32m      1\u001b[0m \u001b[0mnum1\u001b[0m\u001b[1;33m=\u001b[0m\u001b[1;36m10\u001b[0m\u001b[1;33m\u001b[0m\u001b[1;33m\u001b[0m\u001b[0m\n\u001b[0;32m      2\u001b[0m \u001b[1;32mdef\u001b[0m \u001b[0mfun1\u001b[0m\u001b[1;33m(\u001b[0m\u001b[1;33m)\u001b[0m\u001b[1;33m:\u001b[0m\u001b[1;33m\u001b[0m\u001b[1;33m\u001b[0m\u001b[0m\n\u001b[1;32m----> 3\u001b[1;33m     \u001b[0mprint\u001b[0m\u001b[1;33m(\u001b[0m\u001b[0mnum1\u001b[0m\u001b[1;33m)\u001b[0m\u001b[1;33m\u001b[0m\u001b[1;33m\u001b[0m\u001b[0m\n\u001b[0m\u001b[0;32m      4\u001b[0m     \u001b[0mnum1\u001b[0m\u001b[1;33m=\u001b[0m\u001b[1;36m100\u001b[0m\u001b[1;33m\u001b[0m\u001b[1;33m\u001b[0m\u001b[0m\n\u001b[0;32m      5\u001b[0m \u001b[0mfun1\u001b[0m\u001b[1;33m(\u001b[0m\u001b[1;33m)\u001b[0m\u001b[1;33m\u001b[0m\u001b[1;33m\u001b[0m\u001b[0m\n",
      "\u001b[1;31mUnboundLocalError\u001b[0m: local variable 'num1' referenced before assignment"
     ]
    }
   ],
   "source": [
    "num1=10\n",
    "def fun1():\n",
    "    print(num1)\n",
    "    num1=100\n",
    "fun1()]0.\n",
    "\n",
    "# loacl variable amd global variable both names are the same\n",
    "#you are trying to access local variable before assign\n",
    "# these both condition will gives the UnboundLocalError"
   ]
  },
  {
   "cell_type": "code",
   "execution_count": 7,
   "id": "3405c5bb",
   "metadata": {},
   "outputs": [
    {
     "name": "stdout",
     "output_type": "stream",
     "text": [
      "300\n"
     ]
    }
   ],
   "source": [
    "# case1\n",
    "a1=100\n",
    "b1=200\n",
    "def add11():\n",
    "    add1=a1+b1\n",
    "    print(add1)\n",
    "add11()\n"
   ]
  },
  {
   "cell_type": "code",
   "execution_count": 11,
   "id": "739d8214",
   "metadata": {},
   "outputs": [
    {
     "ename": "UnboundLocalError",
     "evalue": "local variable 'a11' referenced before assignment",
     "output_type": "error",
     "traceback": [
      "\u001b[1;31m---------------------------------------------------------------------------\u001b[0m",
      "\u001b[1;31mUnboundLocalError\u001b[0m                         Traceback (most recent call last)",
      "\u001b[1;32m~\\AppData\\Local\\Temp\\ipykernel_2396\\2562376222.py\u001b[0m in \u001b[0;36m<module>\u001b[1;34m\u001b[0m\n\u001b[0;32m      6\u001b[0m     \u001b[0mb11\u001b[0m\u001b[1;33m=\u001b[0m\u001b[1;36m2000\u001b[0m\u001b[1;33m\u001b[0m\u001b[1;33m\u001b[0m\u001b[0m\n\u001b[0;32m      7\u001b[0m     \u001b[0mprint\u001b[0m\u001b[1;33m(\u001b[0m\u001b[0madd2\u001b[0m\u001b[1;33m)\u001b[0m\u001b[1;33m\u001b[0m\u001b[1;33m\u001b[0m\u001b[0m\n\u001b[1;32m----> 8\u001b[1;33m \u001b[0madd12\u001b[0m\u001b[1;33m(\u001b[0m\u001b[1;33m)\u001b[0m\u001b[1;33m\u001b[0m\u001b[1;33m\u001b[0m\u001b[0m\n\u001b[0m",
      "\u001b[1;32m~\\AppData\\Local\\Temp\\ipykernel_2396\\2562376222.py\u001b[0m in \u001b[0;36madd12\u001b[1;34m()\u001b[0m\n\u001b[0;32m      2\u001b[0m \u001b[0mb11\u001b[0m\u001b[1;33m=\u001b[0m\u001b[1;36m200\u001b[0m\u001b[1;33m\u001b[0m\u001b[1;33m\u001b[0m\u001b[0m\n\u001b[0;32m      3\u001b[0m \u001b[1;32mdef\u001b[0m \u001b[0madd12\u001b[0m\u001b[1;33m(\u001b[0m\u001b[1;33m)\u001b[0m\u001b[1;33m:\u001b[0m\u001b[1;33m\u001b[0m\u001b[1;33m\u001b[0m\u001b[0m\n\u001b[1;32m----> 4\u001b[1;33m     \u001b[0madd2\u001b[0m\u001b[1;33m=\u001b[0m\u001b[0ma11\u001b[0m\u001b[1;33m+\u001b[0m\u001b[0mb11\u001b[0m\u001b[1;33m\u001b[0m\u001b[1;33m\u001b[0m\u001b[0m\n\u001b[0m\u001b[0;32m      5\u001b[0m     \u001b[0ma11\u001b[0m\u001b[1;33m=\u001b[0m\u001b[1;36m1000\u001b[0m\u001b[1;33m\u001b[0m\u001b[1;33m\u001b[0m\u001b[0m\n\u001b[0;32m      6\u001b[0m     \u001b[0mb11\u001b[0m\u001b[1;33m=\u001b[0m\u001b[1;36m2000\u001b[0m\u001b[1;33m\u001b[0m\u001b[1;33m\u001b[0m\u001b[0m\n",
      "\u001b[1;31mUnboundLocalError\u001b[0m: local variable 'a11' referenced before assignment"
     ]
    }
   ],
   "source": [
    "#case2\n",
    "a11=100\n",
    "b11=200\n",
    "def add12():\n",
    "    add2=a11+b11\n",
    "    a11=1000\n",
    "    b11=2000\n",
    "    print(add2)\n",
    "add12()"
   ]
  },
  {
   "cell_type": "code",
   "execution_count": 13,
   "id": "fa19650f",
   "metadata": {},
   "outputs": [
    {
     "name": "stdout",
     "output_type": "stream",
     "text": [
      "3000\n"
     ]
    }
   ],
   "source": [
    "#case3\n",
    "a1=100\n",
    "b1=200\n",
    "def add13():\n",
    "    a1=1000\n",
    "    b1=2000\n",
    "    add3=a1+b1\n",
    "    print(add3)\n",
    "add13()\n",
    "\n",
    "# lv and gv are same but we are using before intiallization"
   ]
  },
  {
   "cell_type": "markdown",
   "id": "f65c6f52",
   "metadata": {},
   "source": [
    "**Functions in Functions**"
   ]
  },
  {
   "cell_type": "code",
   "execution_count": 17,
   "id": "030de39c",
   "metadata": {},
   "outputs": [
    {
     "name": "stdout",
     "output_type": "stream",
     "text": [
      "hello gd mrng\n",
      "Good night\n"
     ]
    }
   ],
   "source": [
    "def greet1():\n",
    "    print(\"hello gd mrng\")\n",
    "    greet2()\n",
    "def greet2():\n",
    "    print(\"Good night\")\n",
    "greet1()"
   ]
  },
  {
   "cell_type": "code",
   "execution_count": null,
   "id": "6990e34a",
   "metadata": {},
   "outputs": [],
   "source": [
    "def greet2():\n",
    "    print(\"hello gd night\")\n",
    "    greet1()\n",
    "def greet1():\n",
    "    print(\"Good morning\")\n",
    "    greet2()\n",
    "greet1()"
   ]
  },
  {
   "cell_type": "code",
   "execution_count": 1,
   "id": "97143153",
   "metadata": {},
   "outputs": [
    {
     "name": "stdout",
     "output_type": "stream",
     "text": [
      "hello\n"
     ]
    }
   ],
   "source": [
    "print(\"hello\")"
   ]
  },
  {
   "cell_type": "code",
   "execution_count": 1,
   "id": "6e93edc5",
   "metadata": {},
   "outputs": [
    {
     "name": "stdout",
     "output_type": "stream",
     "text": [
      "enter the km for ur ride: 32\n",
      "enter the charge for 1 km: 10\n",
      "good news you have charge applicable for only remaining ater  25\n",
      "total charge for extra 7 charge is 70\n"
     ]
    }
   ],
   "source": [
    "def travelling():\n",
    "    distance=eval(input(\"enter the km for ur ride: \"))\n",
    "    cutoff_distance=25\n",
    "    if distance>25:\n",
    "        charge=eval(input(\"enter the charge for 1 km: \"))\n",
    "        print(\"good news you have charge applicable for only remaining ater  25\")\n",
    "        charge_dis=distance-cutoff_distance\n",
    "        total=charge_dis*charge\n",
    "        print(f\"total charge for extra {charge_dis} charge is {total}\")\n",
    "\n",
    "    else:\n",
    "        print(\"free ride\")\n",
    "travelling()"
   ]
  },
  {
   "cell_type": "code",
   "execution_count": null,
   "id": "4ce21427",
   "metadata": {},
   "outputs": [],
   "source": [
    "def travelling(distance,cutoff_distance,charge):\n",
    "    if distance>25:\n",
    "        print(\"good news you have charge applicable for only remaining ater  25\")\n",
    "        charge_dis=distance-cutoff_distance\n",
    "        total=charge_dis*charge\n",
    "        print(f\"total charge for extra {charge_dis} charge is {total}\")\n",
    "\n",
    "    else:\n",
    "        print(\"free ride\")\n",
    "travelling(50,25,3)"
   ]
  },
  {
   "cell_type": "code",
   "execution_count": 2,
   "id": "8a3acf2d",
   "metadata": {},
   "outputs": [
    {
     "name": "stdout",
     "output_type": "stream",
     "text": [
      "enter the km for ur ride: 50\n",
      "enter the charge for 1 km: 11\n",
      "good news you have charge applicable for only remaining ater  25\n",
      "total charge for extra 25 charge is 275\n"
     ]
    },
    {
     "data": {
      "text/plain": [
       "275"
      ]
     },
     "execution_count": 2,
     "metadata": {},
     "output_type": "execute_result"
    }
   ],
   "source": [
    "distance=eval(input(\"enter the km for ur ride: \"))\n",
    "cutoff_distance=25\n",
    "def travelling23():\n",
    "    global total\n",
    "    if distance>25:\n",
    "        charge=eval(input(\"enter the charge for 1 km: \"))\n",
    "        print(\"good news you have charge applicable for only remaining ater  25\")\n",
    "        charge_dis=distance-cutoff_distance\n",
    "        total=charge_dis*charge\n",
    "        print(f\"total charge for extra {charge_dis} charge is {total}\")\n",
    "\n",
    "    else:\n",
    "        print(\"free ride\")\n",
    "travelling23()\n",
    "total"
   ]
  },
  {
   "cell_type": "code",
   "execution_count": 7,
   "id": "fe51c8cf",
   "metadata": {},
   "outputs": [
    {
     "name": "stdout",
     "output_type": "stream",
     "text": [
      "enter the km for ur ride: 50\n",
      "enter the charge for 1 km: 11\n",
      "good news you have charge applicable for only remaining ater  25\n",
      "total charge for extra 25 charge is 275\n"
     ]
    },
    {
     "data": {
      "text/plain": [
       "275"
      ]
     },
     "execution_count": 7,
     "metadata": {},
     "output_type": "execute_result"
    }
   ],
   "source": [
    "distance=eval(input(\"enter the km for ur ride: \"))\n",
    "cutoff_distance=25\n",
    "def travelling24():\n",
    "    global total\n",
    "    if distance>25:\n",
    "        charge=eval(input(\"enter the charge for 1 km: \"))\n",
    "        print(\"good news you have charge applicable for only remaining ater  25\")\n",
    "        charge_dis=distance-cutoff_distance\n",
    "        total=charge_dis*charge\n",
    "        print(f\"total charge for extra {charge_dis} charge is {total}\")\n",
    "    else:\n",
    "        print(\"free ride\")\n",
    "    return total\n",
    "travelling24()"
   ]
  },
  {
   "cell_type": "code",
   "execution_count": 12,
   "id": "c4b4f07f",
   "metadata": {},
   "outputs": [
    {
     "name": "stdout",
     "output_type": "stream",
     "text": [
      "option.1 for addition\n",
      "option.2 for subtraction\n",
      "option.3 for multiplication\n",
      "option.4 for divisition\n",
      "enter your option to do operation3\n",
      "multiplication 2000\n"
     ]
    }
   ],
   "source": [
    "# fun1: add\n",
    "# fun2: sub\n",
    "# fun3:mul\n",
    "# fun4: div\n",
    "def calculator():\n",
    "    print(\"option.1 for addition\")\n",
    "    print(\"option.2 for subtraction\")\n",
    "    print(\"option.3 for multiplication\")\n",
    "    print(\"option.4 for divisition\")\n",
    "    option=eval(input(\"enter your option to do operation\"))\n",
    "    if option==1:\n",
    "        def add():\n",
    "            a=10\n",
    "            b=20\n",
    "            n=a+b\n",
    "            printI(\"Addition\",n)\n",
    "        add()\n",
    "    elif option==2:\n",
    "        def sub():\n",
    "            a1=30\n",
    "            b1=40\n",
    "            n1=a1+b1\n",
    "            print(\"subtraction\",n1)\n",
    "        sub()\n",
    "    elif option==3:\n",
    "        def mul():\n",
    "            a2=40\n",
    "            b2=50\n",
    "            n2=a2*b2\n",
    "            print(\"multiplication\",n2)\n",
    "        mul()\n",
    "    elif option==4:\n",
    "        def div():\n",
    "            a3=64\n",
    "            b3=7\n",
    "            n3=a3/b3\n",
    "            print(\"division\",n3)\n",
    "        div()\n",
    "calculator()"
   ]
  },
  {
   "cell_type": "code",
   "execution_count": 13,
   "id": "bef7c884",
   "metadata": {},
   "outputs": [
    {
     "name": "stdout",
     "output_type": "stream",
     "text": [
      "option.1 for addition\n",
      "option.2 for subtraction\n",
      "option.3 for multiplication\n",
      "option.4 for divisition\n",
      "enter your option to do operation3\n",
      "enter the value: 2\n",
      "enter the value: 6\n",
      "12\n"
     ]
    }
   ],
   "source": [
    "def calculator():\n",
    "    print(\"option.1 for addition\")\n",
    "    print(\"option.2 for subtraction\")\n",
    "    print(\"option.3 for multiplication\")\n",
    "    print(\"option.4 for divisition\")\n",
    "    option=eval(input(\"enter your option to do operation\"))\n",
    "    a=eval(input(\"enter the value: \"))\n",
    "    b=eval(input(\"enter the value: \"))\n",
    "    if option==1:\n",
    "        def add():\n",
    "            print(a+b)\n",
    "        add()\n",
    "    elif option==2:\n",
    "        def sub():\n",
    "            print(a-b)\n",
    "        sub()\n",
    "    elif option==3:\n",
    "        def mul():\n",
    "            print(a*b)\n",
    "        mul()\n",
    "    elif option==4:\n",
    "        def div():\n",
    "            print(a/b)\n",
    "        div()\n",
    "calculator()"
   ]
  },
  {
   "cell_type": "code",
   "execution_count": null,
   "id": "8c083985",
   "metadata": {},
   "outputs": [],
   "source": []
  }
 ],
 "metadata": {
  "kernelspec": {
   "display_name": "Python 3 (ipykernel)",
   "language": "python",
   "name": "python3"
  },
  "language_info": {
   "codemirror_mode": {
    "name": "ipython",
    "version": 3
   },
   "file_extension": ".py",
   "mimetype": "text/x-python",
   "name": "python",
   "nbconvert_exporter": "python",
   "pygments_lexer": "ipython3",
   "version": "3.9.13"
  }
 },
 "nbformat": 4,
 "nbformat_minor": 5
}
