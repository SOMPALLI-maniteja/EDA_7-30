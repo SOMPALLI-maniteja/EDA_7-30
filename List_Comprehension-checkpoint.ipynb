{
 "cells": [
  {
   "cell_type": "markdown",
   "id": "d691c399",
   "metadata": {},
   "source": [
    "- we can store the output values by using append operations\n",
    "\n",
    "- we are taking empty list ans we are iterating through elments from the given list\n",
    "\n",
    "- the result we are appnedung in a new list"
   ]
  },
  {
   "cell_type": "code",
   "execution_count": 1,
   "id": "6e405fdb",
   "metadata": {},
   "outputs": [
    {
     "data": {
      "text/plain": [
       "[0, 1, 4, 9, 16, 25, 36, 49, 64, 81]"
      ]
     },
     "execution_count": 1,
     "metadata": {},
     "output_type": "execute_result"
    }
   ],
   "source": [
    "square_list=[]\n",
    "for i in range(10):\n",
    "    square_list.append(i*i)\n",
    "square_list"
   ]
  },
  {
   "cell_type": "markdown",
   "id": "250826da",
   "metadata": {},
   "source": [
    "- the three lines we can make it to a single line\n",
    "\n",
    "- this is called as List Comprehension"
   ]
  },
  {
   "cell_type": "markdown",
   "id": "e6134d7e",
   "metadata": {},
   "source": [
    "$$pattern-1$$"
   ]
  },
  {
   "cell_type": "markdown",
   "id": "c6ace6dc",
   "metadata": {},
   "source": [
    "**only for loop**"
   ]
  },
  {
   "cell_type": "code",
   "execution_count": null,
   "id": "eaee009c",
   "metadata": {},
   "outputs": [],
   "source": [
    "# syntax \n",
    "# [<output><for loop>]"
   ]
  },
  {
   "cell_type": "code",
   "execution_count": 3,
   "id": "1a149d13",
   "metadata": {},
   "outputs": [
    {
     "data": {
      "text/plain": [
       "[0, 1, 4, 9, 16, 25, 36, 49, 64, 81]"
      ]
     },
     "execution_count": 3,
     "metadata": {},
     "output_type": "execute_result"
    }
   ],
   "source": [
    "squ_list=[i*i for i in range(10)]\n",
    "squ_list"
   ]
  },
  {
   "cell_type": "code",
   "execution_count": 5,
   "id": "a81afab1",
   "metadata": {},
   "outputs": [
    {
     "data": {
      "text/plain": [
       "['HYD', 'MUMBAI', 'CHENNAI', 'BLR']"
      ]
     },
     "execution_count": 5,
     "metadata": {},
     "output_type": "execute_result"
    }
   ],
   "source": [
    "# l1=['hyd','mumbai','chennai','blr']\n",
    "\n",
    "#ans=['Hyd','Mumbai',Chennai,'Blr']\n",
    "\n",
    "l1=['hyd','mumbai','chennai','blr']\n",
    "ans=[]\n",
    "for i in l1:\n",
    "    ans.append(i.upper())\n",
    "ans"
   ]
  },
  {
   "cell_type": "code",
   "execution_count": 8,
   "id": "b9a56735",
   "metadata": {},
   "outputs": [
    {
     "data": {
      "text/plain": [
       "['HYD', 'MUMBAI', 'CHENNAI', 'BLR']"
      ]
     },
     "execution_count": 8,
     "metadata": {},
     "output_type": "execute_result"
    }
   ],
   "source": [
    "l1=['hyd','mumbai','chennai','blr']\n",
    "ans1=[i.upper() for i in l1]\n",
    "ans1"
   ]
  },
  {
   "cell_type": "code",
   "execution_count": 9,
   "id": "ffaab495",
   "metadata": {},
   "outputs": [
    {
     "data": {
      "text/plain": [
       "['hyd', 'mumbai', 'chennai', 'blr']"
      ]
     },
     "execution_count": 9,
     "metadata": {},
     "output_type": "execute_result"
    }
   ],
   "source": [
    "l2=['HYD', 'MUMBAI', 'CHENNAI', 'BLR']\n",
    "ans2=[i.lower() for i in l2]\n",
    "ans2"
   ]
  },
  {
   "cell_type": "code",
   "execution_count": 16,
   "id": "5c438b58",
   "metadata": {},
   "outputs": [
    {
     "data": {
      "text/plain": [
       "6"
      ]
     },
     "execution_count": 16,
     "metadata": {},
     "output_type": "execute_result"
    }
   ],
   "source": [
    "l1=['hyd','mumbai','chennai','blr']\n",
    "summ=0\n",
    "summ=[summ+i for i in range(len(l1))]\n",
    "sum(summ)"
   ]
  },
  {
   "cell_type": "code",
   "execution_count": 20,
   "id": "f1eda87a",
   "metadata": {},
   "outputs": [
    {
     "data": {
      "text/plain": [
       "[0, 1, 2, 3]"
      ]
     },
     "execution_count": 20,
     "metadata": {},
     "output_type": "execute_result"
    }
   ],
   "source": [
    "l1=['hyd','mumbai','chennai','blr']\n",
    "l2=[]\n",
    "summ=0\n",
    "for i in range(len(l1)):\n",
    "    l2.append(i)\n",
    "l2"
   ]
  },
  {
   "cell_type": "code",
   "execution_count": 21,
   "id": "2e8de5b8",
   "metadata": {},
   "outputs": [
    {
     "data": {
      "text/plain": [
       "6"
      ]
     },
     "execution_count": 21,
     "metadata": {},
     "output_type": "execute_result"
    }
   ],
   "source": [
    "l1=['hyd','mumbai','chennai','blr']\n",
    "l2=[l1.index(i) for i in l1]\n",
    "sum(l2)"
   ]
  },
  {
   "cell_type": "markdown",
   "id": "a52cbc6f",
   "metadata": {},
   "source": [
    "$$ pattern-2$$"
   ]
  },
  {
   "cell_type": "markdown",
   "id": "03876252",
   "metadata": {},
   "source": [
    "**for loop and if condition**"
   ]
  },
  {
   "cell_type": "code",
   "execution_count": 22,
   "id": "15d6d9d1",
   "metadata": {},
   "outputs": [],
   "source": [
    "# syntax\n",
    "# [<output> <for loop> <if condition>]"
   ]
  },
  {
   "cell_type": "code",
   "execution_count": 25,
   "id": "338e9e83",
   "metadata": {},
   "outputs": [
    {
     "name": "stdout",
     "output_type": "stream",
     "text": [
      "Mumbai\n",
      "Chennai\n"
     ]
    }
   ],
   "source": [
    "# l1=['Hyd','Mumbai','Chennai',Blr]\n",
    "# ans=['Mumbai','Chennai']\n",
    "l1=['Hyd','Mumbai','Chennai','Blr']\n",
    "for i in l1:\n",
    "    if len(i)>4:\n",
    "        print(i)"
   ]
  },
  {
   "cell_type": "code",
   "execution_count": 26,
   "id": "2d3a7ec8",
   "metadata": {},
   "outputs": [
    {
     "data": {
      "text/plain": [
       "['Mumbai', 'Chennai']"
      ]
     },
     "execution_count": 26,
     "metadata": {},
     "output_type": "execute_result"
    }
   ],
   "source": [
    "ans=[i for i in l1 if len(i)>4]\n",
    "ans"
   ]
  },
  {
   "cell_type": "code",
   "execution_count": 27,
   "id": "0d1cdc23",
   "metadata": {},
   "outputs": [
    {
     "data": {
      "text/plain": [
       "['Mum#bai', 'Chen#nai']"
      ]
     },
     "execution_count": 27,
     "metadata": {},
     "output_type": "execute_result"
    }
   ],
   "source": [
    "l1=['Hyd','Mum#bai','Chen#nai','Blr']\n",
    "ans=[i for i in l1 if '#' in i]\n",
    "ans"
   ]
  },
  {
   "cell_type": "code",
   "execution_count": 28,
   "id": "35f7c902",
   "metadata": {},
   "outputs": [
    {
     "data": {
      "text/plain": [
       "['Hyd', 'Blr']"
      ]
     },
     "execution_count": 28,
     "metadata": {},
     "output_type": "execute_result"
    }
   ],
   "source": [
    "l1=['Hyd','Mum#bai','Chen#nai','Blr']\n",
    "ans=[i for i in l1 if '#' not in i]\n",
    "ans"
   ]
  },
  {
   "cell_type": "code",
   "execution_count": 21,
   "id": "2d331e34",
   "metadata": {},
   "outputs": [
    {
     "data": {
      "text/plain": [
       "['virat', 'Rohit', 'KL']"
      ]
     },
     "execution_count": 21,
     "metadata": {},
     "output_type": "execute_result"
    }
   ],
   "source": [
    "str1='virat.kohli@rcb.com,Rohit.sharma@mi.co,KL.Rahul@Lucknw.com'\n",
    "list1=str1.split(',')\n",
    "li=list1[0][:list1[0].index('.')+1:list1[0].index('@')]\n",
    "li=list1[1][:list1[1].index('.')+1:list1[1].index('@')]\n",
    "li=list1[2][:list1[2].index('.')+1:list1[2].index('@')]\n",
    "first_name=[]\n",
    "second_name=[]\n",
    "second_name.append(li)\n",
    "for i in list1:\n",
    "    first_name.append(i[:i.index('.')])\n",
    "    second_name.append(i[:i.index('.')+1:i.index('@')])\n",
    "first_name\n"
   ]
  },
  {
   "cell_type": "code",
   "execution_count": 22,
   "id": "574b1bf8",
   "metadata": {},
   "outputs": [
    {
     "data": {
      "text/plain": [
       "['K', 'v', 'R', 'K']"
      ]
     },
     "execution_count": 22,
     "metadata": {},
     "output_type": "execute_result"
    }
   ],
   "source": [
    "second_name"
   ]
  },
  {
   "cell_type": "markdown",
   "id": "bbcaae45",
   "metadata": {},
   "source": [
    "**Lambda functions**"
   ]
  },
  {
   "cell_type": "markdown",
   "id": "a0d98c94",
   "metadata": {},
   "source": [
    "- case-1 : function call with one arugument\n",
    "    \n",
    "    - lambda aruguments: expression\n",
    "    \n",
    "    - lambda variable: return output\n",
    "\n",
    "- case-2 : functon call with two aruguments\n",
    "    \n",
    "    - lambda arg1,arg2:expression\n",
    "    \n",
    "    - lambda va1,var2: return output\n",
    "    \n",
    "- case-3 : function call with default aruguments\n",
    "    \n",
    "    - lambda arg1,arg2=500:expression\n",
    "    \n",
    "    - lambda var1,var2=500: return output\n",
    "\n",
    "- case-4 : funtion call with two aruguments and is-else statement\n",
    "    \n",
    "    - lambda arg1,arg2:expression\n",
    "    \n",
    "    - lambda va1,var2: if_output if_con else else_out for loop\n",
    "\n",
    "- case-5 : lambda operations using list\n",
    "    \n",
    "    - lambda arg: Expression,iterator\n",
    "    \n",
    "    - map(lambda var: operations,list)\n",
    "    \n",
    "    - list(map(lambda:operation,list))"
   ]
  },
  {
   "cell_type": "code",
   "execution_count": 1,
   "id": "c446d9be",
   "metadata": {},
   "outputs": [
    {
     "data": {
      "text/plain": [
       "['HYD', 'CHENNAI', 'MUMBAI']"
      ]
     },
     "execution_count": 1,
     "metadata": {},
     "output_type": "execute_result"
    }
   ],
   "source": [
    "l=['hyd','chennai','mumbai']\n",
    "list1=list(map(lambda x:x.upper(),l))\n",
    "list1"
   ]
  },
  {
   "cell_type": "code",
   "execution_count": 7,
   "id": "08d78184",
   "metadata": {},
   "outputs": [
    {
     "data": {
      "text/plain": [
       "[False, True, True, False]"
      ]
     },
     "execution_count": 7,
     "metadata": {},
     "output_type": "execute_result"
    }
   ],
   "source": [
    "l1=['hyd','che#nnai','mum#bai','blr']\n",
    "list1=list(map(lambda x:'#' in x,l1))\n",
    "list1"
   ]
  },
  {
   "cell_type": "markdown",
   "id": "1d5beaaa",
   "metadata": {},
   "source": [
    "**Filter**\n",
    "\n",
    "- whenever if conditios are there use filters"
   ]
  },
  {
   "cell_type": "code",
   "execution_count": 8,
   "id": "cf48a127",
   "metadata": {},
   "outputs": [
    {
     "data": {
      "text/plain": [
       "['che#nnai', 'mum#bai']"
      ]
     },
     "execution_count": 8,
     "metadata": {},
     "output_type": "execute_result"
    }
   ],
   "source": [
    "l1=['hyd','che#nnai','mum#bai','blr']\n",
    "list1=list(filter(lambda x:'#' in x,l1))\n",
    "list1"
   ]
  },
  {
   "cell_type": "code",
   "execution_count": 9,
   "id": "4b85d08b",
   "metadata": {},
   "outputs": [
    {
     "data": {
      "text/plain": [
       "[2, 6]"
      ]
     },
     "execution_count": 9,
     "metadata": {},
     "output_type": "execute_result"
    }
   ],
   "source": [
    "numbers=[1,3,2,7,6]\n",
    "li=list(filter(lambda x: x%2==0,numbers))\n",
    "li"
   ]
  },
  {
   "cell_type": "code",
   "execution_count": 13,
   "id": "2476c91f",
   "metadata": {},
   "outputs": [
    {
     "ename": "TypeError",
     "evalue": "<lambda>() missing 1 required positional argument: 'x'",
     "output_type": "error",
     "traceback": [
      "\u001b[1;31m---------------------------------------------------------------------------\u001b[0m",
      "\u001b[1;31mTypeError\u001b[0m                                 Traceback (most recent call last)",
      "Cell \u001b[1;32mIn[13], line 2\u001b[0m\n\u001b[0;32m      1\u001b[0m numbers\u001b[38;5;241m=\u001b[39m[\u001b[38;5;241m1\u001b[39m,\u001b[38;5;241m3\u001b[39m,\u001b[38;5;241m2\u001b[39m,\u001b[38;5;241m7\u001b[39m,\u001b[38;5;241m6\u001b[39m]\n\u001b[1;32m----> 2\u001b[0m li\u001b[38;5;241m=\u001b[39m\u001b[38;5;28;43mlist\u001b[39;49m\u001b[43m(\u001b[49m\u001b[38;5;28;43mfilter\u001b[39;49m\u001b[43m(\u001b[49m\u001b[38;5;28;43;01mlambda\u001b[39;49;00m\u001b[43m \u001b[49m\u001b[43msumm\u001b[49m\u001b[43m,\u001b[49m\u001b[43mx\u001b[49m\u001b[43m:\u001b[49m\u001b[43m \u001b[49m\u001b[43msumm\u001b[49m\u001b[38;5;241;43m+\u001b[39;49m\u001b[43mx\u001b[49m\u001b[43m,\u001b[49m\u001b[43mnumbers\u001b[49m\u001b[43m)\u001b[49m\u001b[43m)\u001b[49m\n\u001b[0;32m      3\u001b[0m li\n",
      "\u001b[1;31mTypeError\u001b[0m: <lambda>() missing 1 required positional argument: 'x'"
     ]
    }
   ],
   "source": [
    "numbers=[1,3,2,7,6]\n",
    "li=list(filter(lambda summ,x: summ+x,numbers))\n",
    "li"
   ]
  },
  {
   "cell_type": "markdown",
   "id": "a072f074",
   "metadata": {},
   "source": [
    "**Reduce**\n",
    "\n",
    "- all builtin functions aer the acheiev by reduce\n",
    "\n",
    "- reduce will avaiable from functools package\n",
    "\n",
    "- level-1: reduce(lambda summ,x: summ+x,numbers)\n",
    "    \n",
    "- level-2: filter(lambda summ,x: summ+x,numbers,intial_value)\n",
    "\n",
    "- for example we want to intialize summ=0 then we choose leve-1\n",
    "\n",
    "- for example we want start with other than zero than we choose level-2"
   ]
  },
  {
   "cell_type": "code",
   "execution_count": 15,
   "id": "05c810d3",
   "metadata": {},
   "outputs": [],
   "source": [
    "import functools"
   ]
  },
  {
   "cell_type": "code",
   "execution_count": 16,
   "id": "bc8f1c62",
   "metadata": {},
   "outputs": [
    {
     "data": {
      "text/plain": [
       "['GenericAlias',\n",
       " 'RLock',\n",
       " 'WRAPPER_ASSIGNMENTS',\n",
       " 'WRAPPER_UPDATES',\n",
       " '_CacheInfo',\n",
       " '_HashedSeq',\n",
       " '_NOT_FOUND',\n",
       " '__all__',\n",
       " '__builtins__',\n",
       " '__cached__',\n",
       " '__doc__',\n",
       " '__file__',\n",
       " '__loader__',\n",
       " '__name__',\n",
       " '__package__',\n",
       " '__spec__',\n",
       " '_c3_merge',\n",
       " '_c3_mro',\n",
       " '_compose_mro',\n",
       " '_convert',\n",
       " '_find_impl',\n",
       " '_ge_from_gt',\n",
       " '_ge_from_le',\n",
       " '_ge_from_lt',\n",
       " '_gt_from_ge',\n",
       " '_gt_from_le',\n",
       " '_gt_from_lt',\n",
       " '_initial_missing',\n",
       " '_le_from_ge',\n",
       " '_le_from_gt',\n",
       " '_le_from_lt',\n",
       " '_lru_cache_wrapper',\n",
       " '_lt_from_ge',\n",
       " '_lt_from_gt',\n",
       " '_lt_from_le',\n",
       " '_make_key',\n",
       " '_unwrap_partial',\n",
       " 'cache',\n",
       " 'cached_property',\n",
       " 'cmp_to_key',\n",
       " 'get_cache_token',\n",
       " 'lru_cache',\n",
       " 'namedtuple',\n",
       " 'partial',\n",
       " 'partialmethod',\n",
       " 'recursive_repr',\n",
       " 'reduce',\n",
       " 'singledispatch',\n",
       " 'singledispatchmethod',\n",
       " 'total_ordering',\n",
       " 'update_wrapper',\n",
       " 'wraps']"
      ]
     },
     "execution_count": 16,
     "metadata": {},
     "output_type": "execute_result"
    }
   ],
   "source": [
    "dir(functools)"
   ]
  },
  {
   "cell_type": "code",
   "execution_count": 23,
   "id": "7a504fb9",
   "metadata": {},
   "outputs": [
    {
     "data": {
      "text/plain": [
       "19"
      ]
     },
     "execution_count": 23,
     "metadata": {},
     "output_type": "execute_result"
    }
   ],
   "source": [
    "from functools import reduce\n",
    "numbers=[1,3,2,7,6]\n",
    "reduce(lambda summ,x: summ+x,numbers)"
   ]
  },
  {
   "cell_type": "code",
   "execution_count": 25,
   "id": "78a37383",
   "metadata": {},
   "outputs": [
    {
     "data": {
      "text/plain": [
       "29"
      ]
     },
     "execution_count": 25,
     "metadata": {},
     "output_type": "execute_result"
    }
   ],
   "source": [
    "import functools\n",
    "numbers=[1,3,2,7,6]\n",
    "functools.reduce(lambda summ,x: summ+x,numbers,10)"
   ]
  },
  {
   "cell_type": "code",
   "execution_count": 26,
   "id": "10c81a7a",
   "metadata": {},
   "outputs": [
    {
     "data": {
      "text/plain": [
       "19"
      ]
     },
     "execution_count": 26,
     "metadata": {},
     "output_type": "execute_result"
    }
   ],
   "source": [
    "import functools as ft\n",
    "numbers=[1,3,2,7,6]\n",
    "ft.reduce(lambda summ,x: summ+x,numbers)"
   ]
  },
  {
   "cell_type": "code",
   "execution_count": 30,
   "id": "a67271a0",
   "metadata": {},
   "outputs": [
    {
     "data": {
      "text/plain": [
       "252"
      ]
     },
     "execution_count": 30,
     "metadata": {},
     "output_type": "execute_result"
    }
   ],
   "source": [
    "from functools import reduce\n",
    "numbers=[1,3,2,7,6]\n",
    "reduce(lambda mul,x: mul*x,numbers)"
   ]
  },
  {
   "cell_type": "code",
   "execution_count": 41,
   "id": "12dfcc7e",
   "metadata": {},
   "outputs": [
    {
     "data": {
      "text/plain": [
       "False"
      ]
     },
     "execution_count": 41,
     "metadata": {},
     "output_type": "execute_result"
    }
   ],
   "source": [
    "from functools import reduce\n",
    "numbers=[1,3,2,7,6]\n",
    "reduce(lambda x,y: x>y,numbers)"
   ]
  },
  {
   "cell_type": "code",
   "execution_count": null,
   "id": "d530a113",
   "metadata": {},
   "outputs": [],
   "source": []
  }
 ],
 "metadata": {
  "kernelspec": {
   "display_name": "Python 3 (ipykernel)",
   "language": "python",
   "name": "python3"
  },
  "language_info": {
   "codemirror_mode": {
    "name": "ipython",
    "version": 3
   },
   "file_extension": ".py",
   "mimetype": "text/x-python",
   "name": "python",
   "nbconvert_exporter": "python",
   "pygments_lexer": "ipython3",
   "version": "3.9.19"
  }
 },
 "nbformat": 4,
 "nbformat_minor": 5
}
