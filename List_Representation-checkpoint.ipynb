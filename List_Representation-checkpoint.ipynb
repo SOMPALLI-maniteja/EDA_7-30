{
 "cells": [
  {
   "cell_type": "markdown",
   "id": "c9a3449d",
   "metadata": {},
   "source": [
    "**Representation**\n",
    "\n",
    "- string representaoin with quotes\n",
    "\n",
    "- list represents with square brackets[]"
   ]
  },
  {
   "cell_type": "code",
   "execution_count": 1,
   "id": "c9b8e7de",
   "metadata": {},
   "outputs": [
    {
     "data": {
      "text/plain": [
       "[1, 2, 3, 4]"
      ]
     },
     "execution_count": 1,
     "metadata": {},
     "output_type": "execute_result"
    }
   ],
   "source": [
    "l1=[1,2,3,4]\n",
    "l1"
   ]
  },
  {
   "cell_type": "code",
   "execution_count": 2,
   "id": "16eabc25",
   "metadata": {},
   "outputs": [
    {
     "data": {
      "text/plain": [
       "list"
      ]
     },
     "execution_count": 2,
     "metadata": {},
     "output_type": "execute_result"
    }
   ],
   "source": [
    "type(l1)"
   ]
  },
  {
   "cell_type": "code",
   "execution_count": 4,
   "id": "d994390d",
   "metadata": {},
   "outputs": [
    {
     "data": {
      "text/plain": [
       "['A', 'B', 'C', 'D']"
      ]
     },
     "execution_count": 4,
     "metadata": {},
     "output_type": "execute_result"
    }
   ],
   "source": [
    "l2=['A','B','C','D']\n",
    "l2"
   ]
  },
  {
   "cell_type": "code",
   "execution_count": 5,
   "id": "243d1b99",
   "metadata": {},
   "outputs": [],
   "source": [
    "l3=[1,2,3,4,'A','B','C','D']"
   ]
  },
  {
   "cell_type": "code",
   "execution_count": 6,
   "id": "d8e15cf3",
   "metadata": {},
   "outputs": [
    {
     "data": {
      "text/plain": [
       "[1, 2, 3, 4, 'A', 'B', 'C', 'D']"
      ]
     },
     "execution_count": 6,
     "metadata": {},
     "output_type": "execute_result"
    }
   ],
   "source": [
    "l3"
   ]
  },
  {
   "cell_type": "code",
   "execution_count": 7,
   "id": "97f5f942",
   "metadata": {},
   "outputs": [
    {
     "data": {
      "text/plain": [
       "[1, 2, 3, 4, 'Apple', 'Balll', 'Cat', True, False]"
      ]
     },
     "execution_count": 7,
     "metadata": {},
     "output_type": "execute_result"
    }
   ],
   "source": [
    "l3=[1,2,3,4,'Apple','Balll','Cat',True,False]\n",
    "l3"
   ]
  },
  {
   "cell_type": "code",
   "execution_count": 10,
   "id": "6f6fbe4c",
   "metadata": {},
   "outputs": [
    {
     "data": {
      "text/plain": [
       "['nareshit']"
      ]
     },
     "execution_count": 10,
     "metadata": {},
     "output_type": "execute_result"
    }
   ],
   "source": [
    "name='nareshit'\n",
    "l5=[name]\n",
    "l5"
   ]
  },
  {
   "cell_type": "code",
   "execution_count": 11,
   "id": "f11f82ec",
   "metadata": {},
   "outputs": [
    {
     "data": {
      "text/plain": [
       "[100, 100, 100]"
      ]
     },
     "execution_count": 11,
     "metadata": {},
     "output_type": "execute_result"
    }
   ],
   "source": [
    "l6=[100,100,100]\n",
    "l6"
   ]
  },
  {
   "cell_type": "code",
   "execution_count": 17,
   "id": "3eb41782",
   "metadata": {},
   "outputs": [],
   "source": [
    "l7=[1.2,3.6,'hai',34,'maniteja',True]"
   ]
  },
  {
   "cell_type": "code",
   "execution_count": 18,
   "id": "e3944489",
   "metadata": {},
   "outputs": [
    {
     "data": {
      "text/plain": [
       "[1.2, 3.6, 'hai', 34, 'maniteja', True]"
      ]
     },
     "execution_count": 18,
     "metadata": {},
     "output_type": "execute_result"
    }
   ],
   "source": [
    "l7"
   ]
  },
  {
   "cell_type": "code",
   "execution_count": 16,
   "id": "190833c8",
   "metadata": {},
   "outputs": [
    {
     "data": {
      "text/plain": [
       "[1, 2, 4, ['A', 'C', 3.4]]"
      ]
     },
     "execution_count": 16,
     "metadata": {},
     "output_type": "execute_result"
    }
   ],
   "source": [
    "l8=[1,2,4,['A','C',3.4]]\n",
    "l8"
   ]
  },
  {
   "cell_type": "markdown",
   "id": "8190c3e5",
   "metadata": {},
   "source": [
    "- list are array of elements\n",
    "\n",
    "- list elements are heterogeneous all the data types we can represent in abs list\n",
    "\n",
    "- list elements are allowed duplicates\n",
    "\n",
    "- list in list is possible\n",
    "\n",
    "- variable assignment is also possible in the list"
   ]
  },
  {
   "cell_type": "code",
   "execution_count": 19,
   "id": "d183883b",
   "metadata": {},
   "outputs": [
    {
     "data": {
      "text/plain": [
       "4"
      ]
     },
     "execution_count": 19,
     "metadata": {},
     "output_type": "execute_result"
    }
   ],
   "source": [
    "l8=[1,2,4,['A','C',3.4]]\n",
    "len(l8)"
   ]
  },
  {
   "cell_type": "code",
   "execution_count": 33,
   "id": "e2c33dad",
   "metadata": {},
   "outputs": [
    {
     "data": {
      "text/plain": [
       "1"
      ]
     },
     "execution_count": 33,
     "metadata": {},
     "output_type": "execute_result"
    }
   ],
   "source": [
    "l8=[1,2,4,5.4]\n",
    "\n",
    "min(l8)"
   ]
  },
  {
   "cell_type": "code",
   "execution_count": 34,
   "id": "6da642f1",
   "metadata": {},
   "outputs": [
    {
     "data": {
      "text/plain": [
       "5.4"
      ]
     },
     "execution_count": 34,
     "metadata": {},
     "output_type": "execute_result"
    }
   ],
   "source": [
    "max(l8)"
   ]
  },
  {
   "cell_type": "code",
   "execution_count": 42,
   "id": "bf105ed1",
   "metadata": {},
   "outputs": [],
   "source": [
    "l7=[1.2,3.6,'hai',34,'maniteja',True]"
   ]
  },
  {
   "cell_type": "code",
   "execution_count": 38,
   "id": "9bc927e2",
   "metadata": {},
   "outputs": [
    {
     "data": {
      "text/plain": [
       "[0, 1, 5, 6, 7]"
      ]
     },
     "execution_count": 38,
     "metadata": {},
     "output_type": "execute_result"
    }
   ],
   "source": [
    "li=[5,1,0,7,6]\n",
    "sorted(li)"
   ]
  },
  {
   "cell_type": "code",
   "execution_count": 48,
   "id": "ad69bd3b",
   "metadata": {},
   "outputs": [
    {
     "data": {
      "text/plain": [
       "<list_reverseiterator at 0x1ce8a544190>"
      ]
     },
     "execution_count": 48,
     "metadata": {},
     "output_type": "execute_result"
    }
   ],
   "source": [
    "l8=[1,2,4,['A','C',3.4],[5,6,7]]\n",
    "mani=reversed(l8)\n",
    "mani"
   ]
  },
  {
   "cell_type": "code",
   "execution_count": 49,
   "id": "04840a05",
   "metadata": {},
   "outputs": [
    {
     "name": "stdout",
     "output_type": "stream",
     "text": [
      "[5, 6, 7]\n",
      "['A', 'C', 3.4]\n",
      "4\n",
      "2\n",
      "1\n"
     ]
    }
   ],
   "source": [
    "for i in mani:\n",
    "    print(i)"
   ]
  },
  {
   "cell_type": "markdown",
   "id": "1cccf578",
   "metadata": {},
   "source": [
    "**list type casting**"
   ]
  },
  {
   "cell_type": "code",
   "execution_count": 51,
   "id": "02b2fa44",
   "metadata": {},
   "outputs": [
    {
     "data": {
      "text/plain": [
       "[[5, 6, 7], ['A', 'C', 3.4], 4, 2, 1]"
      ]
     },
     "execution_count": 51,
     "metadata": {},
     "output_type": "execute_result"
    }
   ],
   "source": [
    "l8=[1,2,4,['A','C',3.4],[5,6,7]]\n",
    "list(reversed(l8))"
   ]
  },
  {
   "cell_type": "code",
   "execution_count": 52,
   "id": "fcabbc45",
   "metadata": {},
   "outputs": [
    {
     "data": {
      "text/plain": [
       "'Adithya'"
      ]
     },
     "execution_count": 52,
     "metadata": {},
     "output_type": "execute_result"
    }
   ],
   "source": [
    "name=['adithya','Adithya']\n",
    "min(name)"
   ]
  },
  {
   "cell_type": "code",
   "execution_count": 53,
   "id": "5cfbcb78",
   "metadata": {},
   "outputs": [
    {
     "data": {
      "text/plain": [
       "'aadithya'"
      ]
     },
     "execution_count": 53,
     "metadata": {},
     "output_type": "execute_result"
    }
   ],
   "source": [
    "name=['adithya','aadithya']\n",
    "min(name)"
   ]
  },
  {
   "cell_type": "code",
   "execution_count": 54,
   "id": "9d6da00c",
   "metadata": {},
   "outputs": [
    {
     "data": {
      "text/plain": [
       "'banu'"
      ]
     },
     "execution_count": 54,
     "metadata": {},
     "output_type": "execute_result"
    }
   ],
   "source": [
    "name=['adithya','aadithya','banu']\n",
    "max(name)\n"
   ]
  },
  {
   "cell_type": "code",
   "execution_count": 55,
   "id": "1df98297",
   "metadata": {},
   "outputs": [
    {
     "data": {
      "text/plain": [
       "3"
      ]
     },
     "execution_count": 55,
     "metadata": {},
     "output_type": "execute_result"
    }
   ],
   "source": [
    "list1=['Apple',1,['Cherry','Banana']]\n",
    "len(list1)"
   ]
  },
  {
   "cell_type": "markdown",
   "id": "aa7e169f",
   "metadata": {},
   "source": [
    "**indexing**"
   ]
  },
  {
   "cell_type": "code",
   "execution_count": 56,
   "id": "ea40ddf0",
   "metadata": {},
   "outputs": [
    {
     "data": {
      "text/plain": [
       "True"
      ]
     },
     "execution_count": 56,
     "metadata": {},
     "output_type": "execute_result"
    }
   ],
   "source": [
    "l7=[1.2,3.6,'hai',34,'maniteja',True]\n",
    "l7[5]"
   ]
  },
  {
   "cell_type": "code",
   "execution_count": 58,
   "id": "17ea2198",
   "metadata": {},
   "outputs": [
    {
     "data": {
      "text/plain": [
       "'maniteja'"
      ]
     },
     "execution_count": 58,
     "metadata": {},
     "output_type": "execute_result"
    }
   ],
   "source": [
    "l7[4]"
   ]
  },
  {
   "cell_type": "code",
   "execution_count": 59,
   "id": "70752d66",
   "metadata": {},
   "outputs": [
    {
     "data": {
      "text/plain": [
       "'Cherry'"
      ]
     },
     "execution_count": 59,
     "metadata": {},
     "output_type": "execute_result"
    }
   ],
   "source": [
    "list1[2][0]"
   ]
  },
  {
   "cell_type": "code",
   "execution_count": 60,
   "id": "7627e29b",
   "metadata": {},
   "outputs": [
    {
     "data": {
      "text/plain": [
       "2"
      ]
     },
     "execution_count": 60,
     "metadata": {},
     "output_type": "execute_result"
    }
   ],
   "source": [
    "l1=[1,[2,['A','B']]]\n",
    "len(l1)"
   ]
  },
  {
   "cell_type": "code",
   "execution_count": 63,
   "id": "107998bb",
   "metadata": {},
   "outputs": [
    {
     "data": {
      "text/plain": [
       "'B'"
      ]
     },
     "execution_count": 63,
     "metadata": {},
     "output_type": "execute_result"
    }
   ],
   "source": [
    "l1[1][1][1]"
   ]
  },
  {
   "cell_type": "code",
   "execution_count": 64,
   "id": "5df79d6e",
   "metadata": {},
   "outputs": [],
   "source": [
    "l1=[1,2,[3,[4,[5,['Apple']]]]]"
   ]
  },
  {
   "cell_type": "code",
   "execution_count": 65,
   "id": "5a5ae211",
   "metadata": {},
   "outputs": [
    {
     "data": {
      "text/plain": [
       "3"
      ]
     },
     "execution_count": 65,
     "metadata": {},
     "output_type": "execute_result"
    }
   ],
   "source": [
    "len(l1)"
   ]
  },
  {
   "cell_type": "code",
   "execution_count": 71,
   "id": "6f31a051",
   "metadata": {},
   "outputs": [
    {
     "data": {
      "text/plain": [
       "['Apple']"
      ]
     },
     "execution_count": 71,
     "metadata": {},
     "output_type": "execute_result"
    }
   ],
   "source": [
    "l1[2][1][1][1]"
   ]
  },
  {
   "cell_type": "code",
   "execution_count": 72,
   "id": "8406dcd0",
   "metadata": {},
   "outputs": [],
   "source": [
    "list1=['apple',1,'solapur',['cherry','papaya',70,[123,'banana'],'tomato'],'python']"
   ]
  },
  {
   "cell_type": "code",
   "execution_count": 73,
   "id": "c9f6ca5e",
   "metadata": {},
   "outputs": [
    {
     "data": {
      "text/plain": [
       "5"
      ]
     },
     "execution_count": 73,
     "metadata": {},
     "output_type": "execute_result"
    }
   ],
   "source": [
    "len(list1)"
   ]
  },
  {
   "cell_type": "code",
   "execution_count": 89,
   "id": "25e0fdc0",
   "metadata": {},
   "outputs": [
    {
     "data": {
      "text/plain": [
       "'banana'"
      ]
     },
     "execution_count": 89,
     "metadata": {},
     "output_type": "execute_result"
    }
   ],
   "source": [
    "list1[3][3][1]"
   ]
  },
  {
   "cell_type": "markdown",
   "id": "f08c46e7",
   "metadata": {},
   "source": [
    "**List methods**"
   ]
  },
  {
   "cell_type": "code",
   "execution_count": 2,
   "id": "e869b6ae",
   "metadata": {},
   "outputs": [
    {
     "data": {
      "text/plain": [
       "['__add__',\n",
       " '__class__',\n",
       " '__class_getitem__',\n",
       " '__contains__',\n",
       " '__delattr__',\n",
       " '__delitem__',\n",
       " '__dir__',\n",
       " '__doc__',\n",
       " '__eq__',\n",
       " '__format__',\n",
       " '__ge__',\n",
       " '__getattribute__',\n",
       " '__getitem__',\n",
       " '__gt__',\n",
       " '__hash__',\n",
       " '__iadd__',\n",
       " '__imul__',\n",
       " '__init__',\n",
       " '__init_subclass__',\n",
       " '__iter__',\n",
       " '__le__',\n",
       " '__len__',\n",
       " '__lt__',\n",
       " '__mul__',\n",
       " '__ne__',\n",
       " '__new__',\n",
       " '__reduce__',\n",
       " '__reduce_ex__',\n",
       " '__repr__',\n",
       " '__reversed__',\n",
       " '__rmul__',\n",
       " '__setattr__',\n",
       " '__setitem__',\n",
       " '__sizeof__',\n",
       " '__str__',\n",
       " '__subclasshook__',\n",
       " 'append',\n",
       " 'clear',\n",
       " 'copy',\n",
       " 'count',\n",
       " 'extend',\n",
       " 'index',\n",
       " 'insert',\n",
       " 'pop',\n",
       " 'remove',\n",
       " 'reverse',\n",
       " 'sort']"
      ]
     },
     "execution_count": 2,
     "metadata": {},
     "output_type": "execute_result"
    }
   ],
   "source": [
    "dir(list)"
   ]
  },
  {
   "cell_type": "markdown",
   "id": "234e0153",
   "metadata": {},
   "source": [
    "**append**\n",
    "\n",
    "- adding elemnt in the list at last index\n",
    "\n",
    "- when you add the value the original list will be overwrite"
   ]
  },
  {
   "cell_type": "code",
   "execution_count": 7,
   "id": "a4f7178e",
   "metadata": {},
   "outputs": [
    {
     "data": {
      "text/plain": [
       "['apple', 'ball', 'cat', 'dog']"
      ]
     },
     "execution_count": 7,
     "metadata": {},
     "output_type": "execute_result"
    }
   ],
   "source": [
    "l=['apple','ball','cat']\n",
    "l.append('dog')\n",
    "l"
   ]
  },
  {
   "cell_type": "code",
   "execution_count": 8,
   "id": "e8491a02",
   "metadata": {},
   "outputs": [
    {
     "data": {
      "text/plain": [
       "[1, 2, 3, 4, 100]"
      ]
     },
     "execution_count": 8,
     "metadata": {},
     "output_type": "execute_result"
    }
   ],
   "source": [
    "l1=[1,2,3,4]\n",
    "l1.append(100)\n",
    "l1\n"
   ]
  },
  {
   "cell_type": "code",
   "execution_count": 12,
   "id": "20129164",
   "metadata": {},
   "outputs": [],
   "source": [
    "l2=[]\n",
    "l2.append(20)\n",
    "l2.append('mani')\n",
    "l2.append(True)\n",
    "l2.append([1,4,'a'])"
   ]
  },
  {
   "cell_type": "code",
   "execution_count": 13,
   "id": "6bd8c719",
   "metadata": {},
   "outputs": [
    {
     "data": {
      "text/plain": [
       "[20, 'mani', True, [1, 4, 'a']]"
      ]
     },
     "execution_count": 13,
     "metadata": {},
     "output_type": "execute_result"
    }
   ],
   "source": [
    "l2"
   ]
  },
  {
   "cell_type": "code",
   "execution_count": 16,
   "id": "7827dfac",
   "metadata": {},
   "outputs": [
    {
     "name": "stdout",
     "output_type": "stream",
     "text": [
      "[1, 4, 9, 16, 25]\n"
     ]
    }
   ],
   "source": [
    "square=[]\n",
    "for i in range(1,6):\n",
    "    s=i*i\n",
    "    square.append(s)\n",
    "print(square)"
   ]
  },
  {
   "cell_type": "code",
   "execution_count": 26,
   "id": "c1e75798",
   "metadata": {},
   "outputs": [
    {
     "name": "stdout",
     "output_type": "stream",
     "text": [
      "[1, 5, 9]\n",
      "15\n"
     ]
    },
    {
     "data": {
      "text/plain": [
       "15"
      ]
     },
     "execution_count": 26,
     "metadata": {},
     "output_type": "execute_result"
    }
   ],
   "source": [
    "str1='hai hai hai'\n",
    "li=[]\n",
    "l=0\n",
    "for i in range(len(str1)):\n",
    "    if str1[i]=='a':\n",
    "        l=l+i\n",
    "        li.append(i)\n",
    "print(li)\n",
    "print(l)\n",
    "sum(li)"
   ]
  },
  {
   "cell_type": "code",
   "execution_count": null,
   "id": "fd40ac9e",
   "metadata": {},
   "outputs": [],
   "source": [
    "#2 list=['hyd','mumbai','chennai','benglore']\n",
    "# ans -['mumbai','chennai']\n",
    "# we are haaving elements which are length >4"
   ]
  },
  {
   "cell_type": "code",
   "execution_count": null,
   "id": "3fb97df3",
   "metadata": {},
   "outputs": [],
   "source": [
    "#3 list=['hyd','mum#bai','chen#nai','benglore']\n",
    "# ans=['mum#bai','chen#nai']\n",
    "# we want elemnts which are having #\n",
    "\n",
    "#4 list=['hyd','mumbai','chennai','benglore']\n",
    "# ans=['Hyd','Mumbai','Chennai',Benglore]\n",
    "\n",
    "# 5list=['Hyd','Mumbai','chennai','benglore']\n",
    "# ans=['Hyd','Mumbai']\n",
    "\n",
    "#6 list=['hyd','mum#bai','chen#nai','benglore']\n",
    "# ans=['mum#bai','chen#nai']\n",
    "# ans without# =['hyd',benglore]\n",
    "\n",
    "# 7 ask the use get 5 numb randomly\n",
    "# even list\n",
    "# odd list\n",
    "# even to append evenlist\n",
    "#odd to append odd list\n",
    "\n",
    "# 8 str='hello hai how are you'\n",
    "# maximum len of word using split and max method"
   ]
  },
  {
   "cell_type": "code",
   "execution_count": 6,
   "id": "efc30385",
   "metadata": {},
   "outputs": [
    {
     "name": "stdout",
     "output_type": "stream",
     "text": [
      "What is capital of Indiadelhi\n",
      "Who is PM of indiamodi\n",
      "Who is ICT ODI captianrohit\n",
      "3\n"
     ]
    }
   ],
   "source": [
    "qns_list=['What is capital of India','Who is PM of india','Who is ICT ODI captian']\n",
    "ans_list = ['Delhi','Modi','Rohit']\n",
    "marks=0\n",
    "for i in range(len(qns_list)):\n",
    "    ans=input(qns_list[i])\n",
    "    if ans.lower()==ans_list[i].lower():\n",
    "        marks+=1\n",
    "print(marks)"
   ]
  },
  {
   "cell_type": "code",
   "execution_count": 7,
   "id": "088a1bfe",
   "metadata": {},
   "outputs": [
    {
     "data": {
      "text/plain": [
       "['__add__',\n",
       " '__class__',\n",
       " '__class_getitem__',\n",
       " '__contains__',\n",
       " '__delattr__',\n",
       " '__delitem__',\n",
       " '__dir__',\n",
       " '__doc__',\n",
       " '__eq__',\n",
       " '__format__',\n",
       " '__ge__',\n",
       " '__getattribute__',\n",
       " '__getitem__',\n",
       " '__gt__',\n",
       " '__hash__',\n",
       " '__iadd__',\n",
       " '__imul__',\n",
       " '__init__',\n",
       " '__init_subclass__',\n",
       " '__iter__',\n",
       " '__le__',\n",
       " '__len__',\n",
       " '__lt__',\n",
       " '__mul__',\n",
       " '__ne__',\n",
       " '__new__',\n",
       " '__reduce__',\n",
       " '__reduce_ex__',\n",
       " '__repr__',\n",
       " '__reversed__',\n",
       " '__rmul__',\n",
       " '__setattr__',\n",
       " '__setitem__',\n",
       " '__sizeof__',\n",
       " '__str__',\n",
       " '__subclasshook__',\n",
       " 'append',\n",
       " 'clear',\n",
       " 'copy',\n",
       " 'count',\n",
       " 'extend',\n",
       " 'index',\n",
       " 'insert',\n",
       " 'pop',\n",
       " 'remove',\n",
       " 'reverse',\n",
       " 'sort']"
      ]
     },
     "execution_count": 7,
     "metadata": {},
     "output_type": "execute_result"
    }
   ],
   "source": [
    "dir([])"
   ]
  },
  {
   "cell_type": "code",
   "execution_count": null,
   "id": "b6ba0c1f",
   "metadata": {},
   "outputs": [],
   "source": [
    "'clear',\n",
    " 'copy',\n",
    " 'count',\n",
    " 'extend',\n",
    " 'index',\n",
    " 'insert',\n",
    " 'pop',\n",
    " 'remove',\n",
    " 'reverse',\n",
    " 'sort'"
   ]
  },
  {
   "cell_type": "code",
   "execution_count": 49,
   "id": "a7b44745",
   "metadata": {},
   "outputs": [
    {
     "name": "stdout",
     "output_type": "stream",
     "text": [
      "['apple', 'ball', 'cat', 20, 'king']\n"
     ]
    }
   ],
   "source": [
    "l=['apple','ball','cat']\n",
    "l1=l1=[8, 7, 5, 34, 2, 1,2,34]\n",
    "app=l.append('king')\n",
    "insert=l.insert(3,20)\n",
    "print(l)"
   ]
  },
  {
   "cell_type": "code",
   "execution_count": 5,
   "id": "d5534aac",
   "metadata": {},
   "outputs": [
    {
     "data": {
      "text/plain": [
       "[1, 2, 3, 'Banana', 'Apple', 10, 20, 'Apple', 40]"
      ]
     },
     "execution_count": 5,
     "metadata": {},
     "output_type": "execute_result"
    }
   ],
   "source": [
    "l1=[1,2,3,'Apple',10,20,'Apple',40]\n",
    "i1=l1.index('Apple')\n",
    "l1.insert(i1,'Banana')\n",
    "l1"
   ]
  },
  {
   "cell_type": "code",
   "execution_count": 9,
   "id": "30a0dcc9",
   "metadata": {},
   "outputs": [
    {
     "data": {
      "text/plain": [
       "[1, 2, 3, 'Apple', 10, 20, 'Cherry', 'Apple', 40]"
      ]
     },
     "execution_count": 9,
     "metadata": {},
     "output_type": "execute_result"
    }
   ],
   "source": [
    "# insert the cherry at 2nd apple position\n",
    "l1=[1,2,3,'Apple',10,20,'Apple',40]\n",
    "i1=l1.index('Apple')\n",
    "i2=l1.index('Apple',i1+1)\n",
    "l1.insert(i2,'Cherry')\n",
    "l1"
   ]
  },
  {
   "cell_type": "code",
   "execution_count": 50,
   "id": "77dbfbc2",
   "metadata": {},
   "outputs": [
    {
     "data": {
      "text/plain": [
       "['apple', 'ball', 'cat', 8, 7, 5, 34, 2, 1, 2, 34]"
      ]
     },
     "execution_count": 50,
     "metadata": {},
     "output_type": "execute_result"
    }
   ],
   "source": [
    "l=['apple','ball','cat']\n",
    "l1=l1=[8, 7, 5, 34, 2, 1,2,34]\n",
    "l.extend(l1)\n",
    "l\n"
   ]
  },
  {
   "cell_type": "code",
   "execution_count": 52,
   "id": "2f444c2d",
   "metadata": {},
   "outputs": [
    {
     "data": {
      "text/plain": [
       "['apple', 'a', 'p', 'p', 'l', 'e']"
      ]
     },
     "execution_count": 52,
     "metadata": {},
     "output_type": "execute_result"
    }
   ],
   "source": [
    "l1=['apple']\n",
    "l1.extend('apple')\n",
    "l1"
   ]
  },
  {
   "cell_type": "markdown",
   "id": "38c563cb",
   "metadata": {},
   "source": [
    "- whare the difference between extend and concatination is extend means it overwrite the list\n",
    "\n",
    "- concatination means it can adds the list but original list cant change"
   ]
  },
  {
   "cell_type": "markdown",
   "id": "9c5482a1",
   "metadata": {},
   "source": [
    "**pop-remove**"
   ]
  },
  {
   "cell_type": "markdown",
   "id": "ce156754",
   "metadata": {},
   "source": [
    "- pop will remove the item\n",
    "\n",
    "- pop also display the item which is removing\n",
    "\n",
    "- pop will take one arugument : index\n",
    "    \n",
    "- pop will remove the item based on index\n",
    "\n",
    "- if you dont provide any index, by default it will remove last value\n",
    "\n",
    "- because index value default is -1"
   ]
  },
  {
   "cell_type": "markdown",
   "id": "920d8611",
   "metadata": {},
   "source": [
    "**remove**\n",
    "\n",
    "- it works on values\n",
    "\n",
    "- it removes firtst occurence of a list"
   ]
  },
  {
   "cell_type": "code",
   "execution_count": 27,
   "id": "fa739abd",
   "metadata": {},
   "outputs": [
    {
     "data": {
      "text/plain": [
       "['thulasi', 'manohar']"
      ]
     },
     "execution_count": 27,
     "metadata": {},
     "output_type": "execute_result"
    }
   ],
   "source": [
    "l1=['mani','thulasi','manohar','venkat']\n",
    "k=l1.remove('mani')\n",
    "po=l1.pop()    # it removes like the index from right to left\n",
    "l1"
   ]
  },
  {
   "cell_type": "markdown",
   "id": "478f1d10",
   "metadata": {},
   "source": [
    "**del**"
   ]
  },
  {
   "cell_type": "code",
   "execution_count": 50,
   "id": "95e498bd",
   "metadata": {},
   "outputs": [
    {
     "name": "stdout",
     "output_type": "stream",
     "text": [
      "['mani', 'thulasi', 'manohar']\n"
     ]
    }
   ],
   "source": [
    "l1=['mani','thulasi','manohar','venkat']\n",
    "del(l1[3])\n",
    "print(l1)"
   ]
  },
  {
   "cell_type": "markdown",
   "id": "b3b45def",
   "metadata": {},
   "source": [
    "**reverse**"
   ]
  },
  {
   "cell_type": "code",
   "execution_count": 32,
   "id": "1b565d96",
   "metadata": {},
   "outputs": [
    {
     "data": {
      "text/plain": [
       "[8, 7, 5, 34, 2, 1]"
      ]
     },
     "execution_count": 32,
     "metadata": {},
     "output_type": "execute_result"
    }
   ],
   "source": [
    "l1=[1,2,34,5,7,8]\n",
    "rev=l1.reverse()\n",
    "l1"
   ]
  },
  {
   "cell_type": "markdown",
   "id": "81e3bf8b",
   "metadata": {},
   "source": [
    "**sorted**"
   ]
  },
  {
   "cell_type": "code",
   "execution_count": 37,
   "id": "ab391832",
   "metadata": {},
   "outputs": [
    {
     "name": "stdout",
     "output_type": "stream",
     "text": [
      "[1, 2, 5, 7, 8, 34]\n",
      "['1', '1', '2', '2', '3', '3', '4', '6', '8']\n"
     ]
    }
   ],
   "source": [
    "l1=[8, 7, 5, 34, 2, 1]\n",
    "l1.sort()\n",
    "print(l1)\n",
    "print(sorted('126834321'))"
   ]
  },
  {
   "cell_type": "markdown",
   "id": "03e74291",
   "metadata": {},
   "source": [
    "**index**"
   ]
  },
  {
   "cell_type": "code",
   "execution_count": 1,
   "id": "25dc28ca",
   "metadata": {},
   "outputs": [
    {
     "data": {
      "text/plain": [
       "4"
      ]
     },
     "execution_count": 1,
     "metadata": {},
     "output_type": "execute_result"
    }
   ],
   "source": [
    "l1=[8, 7, 5, 34, 2, 1]\n",
    "k=l1.index(2)\n",
    "k"
   ]
  },
  {
   "cell_type": "code",
   "execution_count": 53,
   "id": "e35fbdd9",
   "metadata": {},
   "outputs": [
    {
     "ename": "ValueError",
     "evalue": "10 is not in list",
     "output_type": "error",
     "traceback": [
      "\u001b[1;31m---------------------------------------------------------------------------\u001b[0m",
      "\u001b[1;31mValueError\u001b[0m                                Traceback (most recent call last)",
      "\u001b[1;32m~\\AppData\\Local\\Temp\\ipykernel_10652\\1269973761.py\u001b[0m in \u001b[0;36m<module>\u001b[1;34m\u001b[0m\n\u001b[1;32m----> 1\u001b[1;33m \u001b[0mk1\u001b[0m\u001b[1;33m=\u001b[0m\u001b[0ml1\u001b[0m\u001b[1;33m.\u001b[0m\u001b[0mindex\u001b[0m\u001b[1;33m(\u001b[0m\u001b[1;36m10\u001b[0m\u001b[1;33m)\u001b[0m\u001b[1;33m\u001b[0m\u001b[1;33m\u001b[0m\u001b[0m\n\u001b[0m\u001b[0;32m      2\u001b[0m \u001b[0mk1\u001b[0m\u001b[1;33m\u001b[0m\u001b[1;33m\u001b[0m\u001b[0m\n",
      "\u001b[1;31mValueError\u001b[0m: 10 is not in list"
     ]
    }
   ],
   "source": [
    "k1=l1.index(10)\n",
    "k1"
   ]
  },
  {
   "cell_type": "markdown",
   "id": "bf02e388",
   "metadata": {},
   "source": [
    "**count**"
   ]
  },
  {
   "cell_type": "code",
   "execution_count": 45,
   "id": "e04523db",
   "metadata": {},
   "outputs": [
    {
     "data": {
      "text/plain": [
       "2"
      ]
     },
     "execution_count": 45,
     "metadata": {},
     "output_type": "execute_result"
    }
   ],
   "source": [
    "l1=[8, 7, 5, 34, 2, 1,2,34]\n",
    "l1.count(2)"
   ]
  },
  {
   "cell_type": "markdown",
   "id": "ee3e7e7b",
   "metadata": {},
   "source": [
    "**clear**"
   ]
  },
  {
   "cell_type": "code",
   "execution_count": 42,
   "id": "f27ef84f",
   "metadata": {},
   "outputs": [
    {
     "data": {
      "text/plain": [
       "[]"
      ]
     },
     "execution_count": 42,
     "metadata": {},
     "output_type": "execute_result"
    }
   ],
   "source": [
    "l1=[8, 7, 5, 34, 2, 1,2,34]\n",
    "l1.clear()\n",
    "l1"
   ]
  },
  {
   "cell_type": "markdown",
   "id": "fd543055",
   "metadata": {},
   "source": [
    "**copy**"
   ]
  },
  {
   "cell_type": "code",
   "execution_count": 11,
   "id": "c2d677a0",
   "metadata": {},
   "outputs": [
    {
     "data": {
      "text/plain": [
       "[8, 7, 5, 34, 2, 1, 2, 34]"
      ]
     },
     "execution_count": 11,
     "metadata": {},
     "output_type": "execute_result"
    }
   ],
   "source": [
    "l1=[8, 7, 5, 34, 2, 1,2,34]\n",
    "l2=l1.copy()\n",
    "l2"
   ]
  },
  {
   "cell_type": "code",
   "execution_count": 24,
   "id": "401b9850",
   "metadata": {},
   "outputs": [
    {
     "name": "stdout",
     "output_type": "stream",
     "text": [
      "[1, 2, 3, 10, 20, 40]\n"
     ]
    }
   ],
   "source": [
    "l1=[1,2,3,'Apple',10,20,'Apple',40]\n",
    "i1=l1.index('Apple')\n",
    "l1.pop(i1)\n",
    "i1=l1.index('Apple')\n",
    "l1.pop(i1)\n",
    "print(l1)"
   ]
  },
  {
   "cell_type": "code",
   "execution_count": 48,
   "id": "84177ee1",
   "metadata": {},
   "outputs": [
    {
     "name": "stdout",
     "output_type": "stream",
     "text": [
      "['hai', 'apple', 'how', 'are', 'you', 'apple', 'i', 'am', 'good', 'apple', 'thankyou', 'apple']\n",
      "['hai', 'how', 'are', 'you', 'i', 'am', 'good', 'thankyou']\n",
      "hai how are you i am good thankyou\n"
     ]
    }
   ],
   "source": [
    "str1='hai apple how are you apple i am good apple thankyou apple'\n",
    "str2=str1.split()\n",
    "print(str2)\n",
    "for i in range(4):\n",
    "    ind=str2.index('apple')\n",
    "    rem=str2.pop(ind)\n",
    "print(str2)\n",
    "print(' '.join(str2))"
   ]
  },
  {
   "cell_type": "code",
   "execution_count": null,
   "id": "d9597eee",
   "metadata": {},
   "outputs": [],
   "source": []
  }
 ],
 "metadata": {
  "kernelspec": {
   "display_name": "Python 3 (ipykernel)",
   "language": "python",
   "name": "python3"
  },
  "language_info": {
   "codemirror_mode": {
    "name": "ipython",
    "version": 3
   },
   "file_extension": ".py",
   "mimetype": "text/x-python",
   "name": "python",
   "nbconvert_exporter": "python",
   "pygments_lexer": "ipython3",
   "version": "3.9.19"
  }
 },
 "nbformat": 4,
 "nbformat_minor": 5
}
