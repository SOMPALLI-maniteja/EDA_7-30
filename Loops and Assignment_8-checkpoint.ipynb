{
 "cells": [
  {
   "cell_type": "markdown",
   "id": "3dcd7521",
   "metadata": {},
   "source": [
    "**Loops**\n",
    "\n",
    "- iterate a piec of code untill the condition satisfy\n",
    "\n",
    "- we can run a code normally \n",
    "\n",
    "- we can run a code by using function wrapper\n",
    "\n",
    "- we can run a code for multiple times(loops)\n",
    "\n",
    "- we can run a code by using conditions also"
   ]
  },
  {
   "cell_type": "markdown",
   "id": "ba54cb21",
   "metadata": {},
   "source": [
    "- for loop\n",
    "\n",
    "- while loop\n",
    "\n",
    "- any loop\n",
    "\n",
    "    - intialn point to start the loop\n",
    "    \n",
    "    - increment or decrement \n",
    "    \n",
    "    - condition for stop\n",
    "    \n"
   ]
  },
  {
   "cell_type": "markdown",
   "id": "b439af17",
   "metadata": {},
   "source": [
    "#For loop\n",
    "\n",
    "**range(stop)**"
   ]
  },
  {
   "cell_type": "markdown",
   "id": "2fcac6b6",
   "metadata": {},
   "source": [
    "# syntax\n",
    "for i in range(<value>):\n",
    "    #strat write the code"
   ]
  },
  {
   "cell_type": "markdown",
   "id": "47861767",
   "metadata": {},
   "source": [
    "- whenever you see the word range  it belongs to math family\n",
    "\n",
    "- inside the range we need to provide on value ex: range(3)\n",
    "    \n",
    "- if you provide only one value\n",
    "\n",
    "    - start valu=0\n",
    "    \n",
    "    - increment=+1\n",
    "    \n",
    "    - last=stop-1\n",
    "    \n",
    "-range(3)\n",
    "\n",
    "    - start value=0\n",
    "    \n",
    "    - increment+1\n",
    "    \n",
    "    - last=3-1=2\n",
    "    \n",
    "    - answer are: 0 1 2 \n",
    "        \n",
    "**note** in python index always strat with zero"
   ]
  },
  {
   "cell_type": "code",
   "execution_count": 2,
   "id": "55573d5f",
   "metadata": {},
   "outputs": [
    {
     "name": "stdout",
     "output_type": "stream",
     "text": [
      "0\n",
      "1\n",
      "2\n"
     ]
    }
   ],
   "source": [
    "for i in range(3):\n",
    "    print(i)"
   ]
  },
  {
   "cell_type": "code",
   "execution_count": 4,
   "id": "2feca877",
   "metadata": {},
   "outputs": [
    {
     "name": "stdout",
     "output_type": "stream",
     "text": [
      "0 hello world\n",
      "1 hello world\n",
      "2 hello world\n",
      "3 hello world\n",
      "4 hello world\n"
     ]
    }
   ],
   "source": [
    "for i in range(5):\n",
    "    print(i,\"hello world\")"
   ]
  },
  {
   "cell_type": "code",
   "execution_count": 8,
   "id": "96f960c5",
   "metadata": {},
   "outputs": [
    {
     "name": "stdout",
     "output_type": "stream",
     "text": [
      "32 is even\n",
      "58 is even\n",
      "13 is odd\n"
     ]
    }
   ],
   "source": [
    "# take random number b/w 1-100\n",
    "# print(it is even or odd number)\n",
    "# you need to generate 3 random number\n",
    "import random\n",
    "for i in range(3):\n",
    "    num=random.randint(1,100)\n",
    "    if num%2==0:\n",
    "        print(f\"{num} is even\")\n",
    "    else:\n",
    "        print(f\"{num} is odd\")"
   ]
  },
  {
   "cell_type": "code",
   "execution_count": 10,
   "id": "b92aa55d",
   "metadata": {},
   "outputs": [
    {
     "name": "stdout",
     "output_type": "stream",
     "text": [
      "0 1 2 3 4 5 6 7 8 9 "
     ]
    }
   ],
   "source": [
    "for i in range(10):\n",
    "    print(i,end=\" \")"
   ]
  },
  {
   "cell_type": "markdown",
   "id": "9be82f69",
   "metadata": {},
   "source": [
    "$$patttern-2$$\n",
    "\n",
    "**range(start ,stop)**\n",
    "\n",
    "- range(10,15)\n",
    "\n",
    "    - strat=10\n",
    "    \n",
    "    - increment=+1\n",
    "    \n",
    "    - last=stop=15-1=14\n",
    "    \n",
    "    - ans=10,11,12,13,14"
   ]
  },
  {
   "cell_type": "code",
   "execution_count": 14,
   "id": "7a3f9058",
   "metadata": {},
   "outputs": [
    {
     "name": "stdout",
     "output_type": "stream",
     "text": [
      "20--400\n",
      "21--441\n",
      "22--484\n",
      "23--529\n",
      "24--576\n",
      "25--625\n"
     ]
    }
   ],
   "source": [
    "# wap ask the user square of numbers 20 to 25\n",
    "for i in range(20,26):\n",
    "    square=i*i\n",
    "    print(i, square,sep='--')"
   ]
  },
  {
   "cell_type": "code",
   "execution_count": 17,
   "id": "821d7837",
   "metadata": {},
   "outputs": [
    {
     "name": "stdout",
     "output_type": "stream",
     "text": [
      "10 is even\n",
      "11 is odd\n",
      "12 is even\n",
      "13 is odd\n",
      "14 is even\n",
      "15 is odd\n",
      "16 is even\n",
      "17 is odd\n",
      "18 is even\n",
      "19 is odd\n",
      "20 is even\n"
     ]
    }
   ],
   "source": [
    "for i in range(10,21):\n",
    "    if i%2==0:\n",
    "        print(f\"{i} is even\")\n",
    "    else:\n",
    "        print(f\"{i} is odd\")"
   ]
  },
  {
   "cell_type": "markdown",
   "id": "95a2b434",
   "metadata": {},
   "source": [
    "$$pattern-3$$\n",
    "\n",
    "**range(start,stop,step)**\n",
    "\n",
    "- start vaue=start\n",
    "\n",
    "- step value\n",
    "\n",
    "    - positive step value\n",
    "    \n",
    "        - if step value is positve : increment \n",
    "    \n",
    "        - last=stop-1\n",
    "    \n",
    "    -negative step value\n",
    "    \n",
    "        - if step value is negative: decrement\n",
    "            \n",
    "        - last= stop+1\n",
    "        "
   ]
  },
  {
   "cell_type": "code",
   "execution_count": 18,
   "id": "c8a2c9a5",
   "metadata": {},
   "outputs": [
    {
     "name": "stdout",
     "output_type": "stream",
     "text": [
      "2 4 6 8 10 12 14 16 18 "
     ]
    }
   ],
   "source": [
    "for i in range(2,20,2):\n",
    "    print(i,end=' ')"
   ]
  },
  {
   "cell_type": "code",
   "execution_count": 22,
   "id": "cc6c7d5d",
   "metadata": {},
   "outputs": [],
   "source": [
    "# case2\n",
    "for i in range(2,20,-2):\n",
    "    print(i)"
   ]
  },
  {
   "cell_type": "code",
   "execution_count": 24,
   "id": "c1200317",
   "metadata": {},
   "outputs": [
    {
     "name": "stdout",
     "output_type": "stream",
     "text": [
      "20 18 16 14 12 10 8 6 4 "
     ]
    }
   ],
   "source": [
    "#case3\n",
    "for i in range(20,2,-2):\n",
    "    print(i, end=' ')"
   ]
  },
  {
   "cell_type": "code",
   "execution_count": 25,
   "id": "318bb5a2",
   "metadata": {},
   "outputs": [],
   "source": [
    "#case4\n",
    "for i in range(-20,2,-2):\n",
    "    print(i)"
   ]
  },
  {
   "cell_type": "code",
   "execution_count": 26,
   "id": "395fee9e",
   "metadata": {},
   "outputs": [
    {
     "data": {
      "text/plain": [
       "range(3, 20, 2)"
      ]
     },
     "execution_count": 26,
     "metadata": {},
     "output_type": "execute_result"
    }
   ],
   "source": []
  },
  {
   "cell_type": "code",
   "execution_count": 1,
   "id": "4e22d01d",
   "metadata": {},
   "outputs": [
    {
     "name": "stdout",
     "output_type": "stream",
     "text": [
      "20\n",
      "the square of number is20 is 400\n",
      "15\n",
      "the square of number is15 is 225\n",
      "16\n",
      "the square of number is16 is 256\n"
     ]
    }
   ],
   "source": [
    "#4. wap ask the user enter a number three times find the square of a number\n",
    "for i in range(3):\n",
    "    num=eval(input())\n",
    "    \n",
    "    print(f\"the square of number is{num} is {num*num}\")"
   ]
  },
  {
   "cell_type": "code",
   "execution_count": 1,
   "id": "3a0ab085",
   "metadata": {},
   "outputs": [
    {
     "name": "stdout",
     "output_type": "stream",
     "text": [
      "enter the number of table: 14\n",
      "14x1=14\n",
      "14x2=28\n",
      "14x3=42\n",
      "14x4=56\n",
      "14x5=70\n",
      "14x6=84\n",
      "14x7=98\n",
      "14x8=112\n",
      "14x9=126\n",
      "14x10=140\n"
     ]
    }
   ],
   "source": [
    "#5. print th 14th table\n",
    "#ans 14x1=14\n",
    "# 14x2=28\n",
    "num=eval(input(\"enter the number of table: \"))\n",
    "for i in range(1,11):\n",
    "    print(f\"{num}x{i}={num*i}\")"
   ]
  },
  {
   "cell_type": "code",
   "execution_count": 8,
   "id": "46dacbe6",
   "metadata": {},
   "outputs": [
    {
     "name": "stdout",
     "output_type": "stream",
     "text": [
      "enter the number to find factors: 50\n",
      "1 2 5 10 25 50 "
     ]
    }
   ],
   "source": [
    "#6.wap a program find the factors\n",
    "n=eval(input(\"enter the number to find factors: \"))\n",
    "for i in range(1,n+1):\n",
    "    if n%i==0:\n",
    "        print(i, end=' ')"
   ]
  },
  {
   "cell_type": "code",
   "execution_count": 24,
   "id": "083b98de",
   "metadata": {},
   "outputs": [
    {
     "name": "stdout",
     "output_type": "stream",
     "text": [
      "0+1=1\n",
      "1+2=3\n",
      "3+3=6\n",
      "6+4=10\n",
      "10+5=15\n",
      "15+6=21\n",
      "21+7=28\n",
      "28+8=36\n",
      "36+9=45\n",
      "45+10=55\n"
     ]
    }
   ],
   "source": [
    "#7 wap the sum of first 10 natural numbers\n",
    "num1=0\n",
    "for i in range(1,11):\n",
    "    num1=num1+i\n",
    "    \n",
    "    print(f\"{num1-i}+{i}={num1}\")"
   ]
  },
  {
   "cell_type": "markdown",
   "id": "6c99887e",
   "metadata": {},
   "source": [
    "**summation wraper**\n",
    "\n",
    "- intially we needto keep summ=0\n",
    "\n",
    "- make sure that do not provide **sum**\n",
    "\n",
    "- because sum is keyword\n",
    "\n",
    "- inside for loop : summ=summ+i"
   ]
  },
  {
   "cell_type": "markdown",
   "id": "99349ea2",
   "metadata": {},
   "source": [
    "**Note**\n",
    "\n",
    "- if we print yhe statement outside for loop it will print last value"
   ]
  },
  {
   "cell_type": "code",
   "execution_count": 27,
   "id": "d557d6d1",
   "metadata": {},
   "outputs": [
    {
     "name": "stdout",
     "output_type": "stream",
     "text": [
      "the average of first 10 numbers is 5.5\n"
     ]
    }
   ],
   "source": [
    "#8. avg of 10 numbers\n",
    "sum1=0\n",
    "for i in range(1,11):\n",
    "    sum1=sum1+i\n",
    "    avg=sum1/10\n",
    "print(f\"the average of first 10 numbers is {avg}\")"
   ]
  },
  {
   "cell_type": "markdown",
   "id": "24d07adb",
   "metadata": {},
   "source": [
    "**counter warapper**\n",
    "\n",
    "- before for loop intialise with count=0\n",
    "\n",
    "- under for loop only\n",
    "\n",
    "- counter always increases by 1 only"
   ]
  },
  {
   "cell_type": "code",
   "execution_count": 30,
   "id": "8d788fa5",
   "metadata": {},
   "outputs": [
    {
     "name": "stdout",
     "output_type": "stream",
     "text": [
      "enter a number: 15\n",
      "4\n"
     ]
    }
   ],
   "source": [
    "# 9 \n",
    "n=eval(input(\"enter a number: \"))\n",
    "count=0\n",
    "for i in range(1,n+1):\n",
    "    if n%i==0:\n",
    "        count+=1\n",
    "print(count)"
   ]
  },
  {
   "cell_type": "code",
   "execution_count": 44,
   "id": "f9c7920b",
   "metadata": {},
   "outputs": [
    {
     "name": "stdout",
     "output_type": "stream",
     "text": [
      "enter the number: 8\n",
      "you lose\n",
      "enter the number: 5\n",
      "you won\n"
     ]
    }
   ],
   "source": [
    "# 10\n",
    "import random\n",
    "for i in range(3):\n",
    "    num2=random.randint(1,10)\n",
    "    num3=eval(input(\"enter the number: \"))\n",
    "    if num2==num3:\n",
    "        print(\"you won\")\n",
    "        break\n",
    "        \n",
    "    else:\n",
    "        print(\"you lose\")"
   ]
  },
  {
   "cell_type": "code",
   "execution_count": null,
   "id": "406466e5",
   "metadata": {},
   "outputs": [],
   "source": [
    "# 10\n",
    "import random\n",
    "c=0\n",
    "for i in range(3):\n",
    "    num2=random.randint(1,10)\n",
    "    num3=eval(input(\"enter the number: \"))\n",
    "    if num2==num3:\n",
    "        print(\"you won\")\n",
    "        break\n",
    "        \n",
    "    else:\n",
    "        print(\"you lose\")\n",
    "        c=c+1\n",
    "        print(f\"the reamaining chances are {c+i}\")\n",
    "        "
   ]
  },
  {
   "cell_type": "code",
   "execution_count": 2,
   "id": "7ef7ea6b",
   "metadata": {},
   "outputs": [
    {
     "name": "stdout",
     "output_type": "stream",
     "text": [
      "enter the number: 5\n",
      "you lose\n",
      "the 3 of reamaining chances are 2\n",
      "enter the number: 2\n",
      "you lose\n",
      "the 3 of reamaining chances are 1\n",
      "enter the number: 1\n",
      "you lose\n",
      "the 3 of reamaining chances are 0\n"
     ]
    }
   ],
   "source": [
    "# \n",
    "import random\n",
    "c=3\n",
    "for i in range(3):\n",
    "    num2=random.randint(1,10)\n",
    "    num3=eval(input(\"enter the number: \"))\n",
    "    if num2==num3:\n",
    "        print(\"you won\")\n",
    "        break\n",
    "        \n",
    "    else:\n",
    "        print(\"you lose\")\n",
    "        c=c-1\n",
    "        print(f\"the 3 of reamaining chances are {c}\")\n"
   ]
  },
  {
   "cell_type": "code",
   "execution_count": 7,
   "id": "4f56667f",
   "metadata": {},
   "outputs": [
    {
     "name": "stdout",
     "output_type": "stream",
     "text": [
      "the even number is 4 even\n",
      "the even number is 0 even\n",
      "the even number is 4 even\n",
      "the odd number is 3 odd\n",
      "the even number is 4 even\n",
      "the even count is  4\n",
      "the odd count is 1\n"
     ]
    }
   ],
   "source": [
    "# wap ask the user get 5 random  numbers\n",
    "# get the even or odd\n",
    "# also count how many even numbers are there \n",
    "# ansd count how many odd numbers are there\n",
    "import random\n",
    "even_count=0\n",
    "odd_count=0\n",
    "for i in range(0,5):\n",
    "    num=random.randint(0,5)\n",
    "    if num%2==0:\n",
    "        print(f'the even number is {num} even')\n",
    "        even_count=even_count+1\n",
    "    else:\n",
    "        print(f'the odd number is {num} odd')\n",
    "        odd_count=odd_count+1\n",
    "print('the even count is ', even_count)\n",
    "print('the odd count is', odd_count)"
   ]
  },
  {
   "cell_type": "code",
   "execution_count": 10,
   "id": "a2813b6a",
   "metadata": {},
   "outputs": [
    {
     "name": "stdout",
     "output_type": "stream",
     "text": [
      "the even number is 60 even\n",
      "the even number is 88 even\n",
      "the odd number is 37 odd\n",
      "the even number is 54 even\n",
      "the even number is 28 even\n",
      "the even count is  4\n",
      "the odd count is 1\n",
      "the even sum is  230\n",
      "the odd sum is 37\n"
     ]
    }
   ],
   "source": [
    "# wap ask the user get 5 random  numbers\n",
    "# get the even or odd\n",
    "# also count how many even numbers are there \n",
    "# ansd count how many odd numbers are there\n",
    "# i want sum of eeven and odd\n",
    "import random\n",
    "even_count=0\n",
    "odd_count=0\n",
    "even_sum=0\n",
    "odd_sum=0\n",
    "for i in range(0,5):\n",
    "    num=random.randint(0,100)\n",
    "    if num%2==0:\n",
    "        print(f'the even number is {num} even')\n",
    "        even_sum=even_sum+num\n",
    "        even_count=even_count+1\n",
    "    else:\n",
    "        print(f'the odd number is {num} odd')\n",
    "        odd_count=odd_count+1\n",
    "        odd_sum=odd_sum+num\n",
    "print('the even count is ', even_count)\n",
    "print('the odd count is', odd_count)\n",
    "print('the even sum is ', even_sum)\n",
    "print('the odd sum is', odd_sum)\n"
   ]
  },
  {
   "cell_type": "code",
   "execution_count": 14,
   "id": "01e03f8e",
   "metadata": {},
   "outputs": [],
   "source": [
    "# create a function on above code\n",
    "#return all 4\n",
    "# print 4 values\n",
    "import random\n",
    "def even_odd():\n",
    "    even_count=0\n",
    "    odd_count=0\n",
    "    even_sum=0\n",
    "    odd_sum=0\n",
    "    for i in range(0,5):\n",
    "        num=random.randint(0,100)\n",
    "        if num%2==0:\n",
    "            print(f'the even number is {num} even')\n",
    "            even_sum=even_sum+num\n",
    "            even_count=even_count+1\n",
    "        else:\n",
    "            print(f'the odd number is {num} odd')\n",
    "            odd_count=odd_count+1\n",
    "            odd_sum=odd_sum+num\n",
    "    return(even_count,odd_count,even_sum,odd_sum)\n",
    "        \n"
   ]
  },
  {
   "cell_type": "code",
   "execution_count": 15,
   "id": "6bb9730f",
   "metadata": {},
   "outputs": [
    {
     "name": "stdout",
     "output_type": "stream",
     "text": [
      "the odd number is 7 odd\n",
      "the odd number is 17 odd\n",
      "the odd number is 51 odd\n",
      "the odd number is 47 odd\n",
      "the odd number is 25 odd\n"
     ]
    },
    {
     "data": {
      "text/plain": [
       "(0, 5, 0, 147)"
      ]
     },
     "execution_count": 15,
     "metadata": {},
     "output_type": "execute_result"
    }
   ],
   "source": [
    "even_odd()"
   ]
  },
  {
   "cell_type": "code",
   "execution_count": 16,
   "id": "966011d6",
   "metadata": {},
   "outputs": [
    {
     "name": "stdout",
     "output_type": "stream",
     "text": [
      "the even count is  4\n",
      "the odd count is 1\n",
      "the even sum is  128\n",
      "the odd sum is 77\n"
     ]
    }
   ],
   "source": [
    "print('the even count is ', even_count)\n",
    "print('the odd count is', odd_count)\n",
    "print('the even sum is ', even_sum)\n",
    "print('the odd sum is', odd_sum)"
   ]
  },
  {
   "cell_type": "markdown",
   "id": "d2dd3333",
   "metadata": {},
   "source": [
    "**Difference between in opertor and range operator**\n",
    "\n",
    "- range belongs to math family\n",
    "\n",
    "- inside range we need to keep numbers only\n",
    "\n",
    "- whenever if we want iterate through the english letters\n",
    "\n",
    "- we need to choose\n"
   ]
  },
  {
   "cell_type": "code",
   "execution_count": 34,
   "id": "23aa5778",
   "metadata": {},
   "outputs": [
    {
     "data": {
      "text/plain": [
       "True"
      ]
     },
     "execution_count": 34,
     "metadata": {},
     "output_type": "execute_result"
    }
   ],
   "source": [
    "'p'>'P'"
   ]
  },
  {
   "cell_type": "markdown",
   "id": "119e42a1",
   "metadata": {},
   "source": [
    "- every english letter \n",
    "\n",
    "- every special charecter how will machine understand \n",
    "\n",
    "- machine language always consider as numbers\n",
    "\n",
    "- every non numeric assign a number\n",
    "\n",
    "- ASCII: American standard code information interchange\n",
    "    \n",
    "- A:65 , a:97"
   ]
  },
  {
   "cell_type": "code",
   "execution_count": 47,
   "id": "841e7fc7",
   "metadata": {},
   "outputs": [
    {
     "data": {
      "text/plain": [
       "(65, 90)"
      ]
     },
     "execution_count": 47,
     "metadata": {},
     "output_type": "execute_result"
    }
   ],
   "source": [
    "ord('A'), ord('Z')"
   ]
  },
  {
   "cell_type": "code",
   "execution_count": 38,
   "id": "f3c3778f",
   "metadata": {},
   "outputs": [
    {
     "data": {
      "text/plain": [
       "(112, 80)"
      ]
     },
     "execution_count": 38,
     "metadata": {},
     "output_type": "execute_result"
    }
   ],
   "source": [
    "ord('p'), ord('P')"
   ]
  },
  {
   "cell_type": "code",
   "execution_count": 39,
   "id": "fbe8c47a",
   "metadata": {},
   "outputs": [
    {
     "data": {
      "text/plain": [
       "'a'"
      ]
     },
     "execution_count": 39,
     "metadata": {},
     "output_type": "execute_result"
    }
   ],
   "source": [
    "chr(97)"
   ]
  },
  {
   "cell_type": "code",
   "execution_count": 40,
   "id": "00ea6600",
   "metadata": {},
   "outputs": [
    {
     "data": {
      "text/plain": [
       "'P'"
      ]
     },
     "execution_count": 40,
     "metadata": {},
     "output_type": "execute_result"
    }
   ],
   "source": [
    "chr(80)"
   ]
  },
  {
   "cell_type": "code",
   "execution_count": 43,
   "id": "41aee1df",
   "metadata": {},
   "outputs": [
    {
     "name": "stdout",
     "output_type": "stream",
     "text": [
      "p 112\n",
      "y 121\n",
      "t 116\n",
      "h 104\n",
      "o 111\n",
      "n 110\n"
     ]
    }
   ],
   "source": [
    "for i in 'python':\n",
    "    print(i,ord(i))"
   ]
  },
  {
   "cell_type": "code",
   "execution_count": 46,
   "id": "689fa40a",
   "metadata": {},
   "outputs": [
    {
     "name": "stdout",
     "output_type": "stream",
     "text": [
      "674\n"
     ]
    }
   ],
   "source": [
    "ascii_sum=0\n",
    "for i in 'python':\n",
    "    ascii_sum=ascii_sum+ord(i)\n",
    "print(ascii_sum)"
   ]
  },
  {
   "cell_type": "code",
   "execution_count": 50,
   "id": "742236ed",
   "metadata": {},
   "outputs": [],
   "source": [
    "# i want the know all ascii values numbers from A to Z\n",
    "'''package called: string\n",
    "import paxkage\n",
    "apply the dir\n",
    "there are some methods are there\n",
    "in that one method will capital letters\n",
    "'''\n",
    "import string\n"
   ]
  },
  {
   "cell_type": "code",
   "execution_count": 52,
   "id": "6958f1aa",
   "metadata": {},
   "outputs": [
    {
     "name": "stdout",
     "output_type": "stream",
     "text": [
      "No Python documentation found for 'ABCDEFGHIJKLMNOPQRSTUVWXYZ'.\n",
      "Use help() to get the interactive help utility.\n",
      "Use help(str) for help on the str class.\n",
      "\n"
     ]
    },
    {
     "data": {
      "text/plain": [
       "(['Formatter',\n",
       "  'Template',\n",
       "  '_ChainMap',\n",
       "  '__all__',\n",
       "  '__builtins__',\n",
       "  '__cached__',\n",
       "  '__doc__',\n",
       "  '__file__',\n",
       "  '__loader__',\n",
       "  '__name__',\n",
       "  '__package__',\n",
       "  '__spec__',\n",
       "  '_re',\n",
       "  '_sentinel_dict',\n",
       "  '_string',\n",
       "  'ascii_letters',\n",
       "  'ascii_lowercase',\n",
       "  'ascii_uppercase',\n",
       "  'capwords',\n",
       "  'digits',\n",
       "  'hexdigits',\n",
       "  'octdigits',\n",
       "  'printable',\n",
       "  'punctuation',\n",
       "  'whitespace'],\n",
       " None)"
      ]
     },
     "execution_count": 52,
     "metadata": {},
     "output_type": "execute_result"
    }
   ],
   "source": [
    "dir(string),help(string.ascii_uppercase)"
   ]
  },
  {
   "cell_type": "code",
   "execution_count": 56,
   "id": "c75b599e",
   "metadata": {},
   "outputs": [
    {
     "name": "stdout",
     "output_type": "stream",
     "text": [
      "A 65\n",
      "B 66\n",
      "C 67\n",
      "D 68\n",
      "E 69\n",
      "F 70\n",
      "G 71\n",
      "H 72\n",
      "I 73\n",
      "J 74\n",
      "K 75\n",
      "L 76\n",
      "M 77\n",
      "N 78\n",
      "O 79\n",
      "P 80\n",
      "Q 81\n",
      "R 82\n",
      "S 83\n",
      "T 84\n",
      "U 85\n",
      "V 86\n",
      "W 87\n",
      "X 88\n",
      "Y 89\n",
      "Z 90\n"
     ]
    }
   ],
   "source": [
    "import string\n",
    "ascii_values=string.ascii_uppercase\n",
    "for i in ascii_values:\n",
    "    print(i, ord(i))"
   ]
  },
  {
   "cell_type": "code",
   "execution_count": 1,
   "id": "76f0768e",
   "metadata": {},
   "outputs": [
    {
     "name": "stdout",
     "output_type": "stream",
     "text": [
      "3077==>అ\n",
      "3078==>ఆ\n",
      "3079==>ఇ\n",
      "3080==>ఈ\n",
      "3081==>ఉ\n",
      "3082==>ఊ\n",
      "3083==>ఋ\n",
      "3084==>ఌ\n",
      "3085==>఍\n",
      "3086==>ఎ\n",
      "3087==>ఏ\n",
      "3088==>ఐ\n",
      "3089==>఑\n",
      "3090==>ఒ\n",
      "3091==>ఓ\n",
      "3092==>ఔ\n",
      "3093==>క\n",
      "3094==>ఖ\n",
      "3095==>గ\n",
      "3096==>ఘ\n",
      "3097==>ఙ\n",
      "3098==>చ\n",
      "3099==>ఛ\n",
      "3100==>జ\n",
      "3101==>ఝ\n",
      "3102==>ఞ\n",
      "3103==>ట\n",
      "3104==>ఠ\n",
      "3105==>డ\n",
      "3106==>ఢ\n",
      "3107==>ణ\n",
      "3108==>త\n",
      "3109==>థ\n",
      "3110==>ద\n",
      "3111==>ధ\n",
      "3112==>న\n",
      "3113==>఩\n",
      "3114==>ప\n",
      "3115==>ఫ\n",
      "3116==>బ\n",
      "3117==>భ\n",
      "3118==>మ\n",
      "3119==>య\n",
      "3120==>ర\n",
      "3121==>ఱ\n",
      "3122==>ల\n",
      "3123==>ళ\n",
      "3124==>ఴ\n",
      "3125==>వ\n",
      "3126==>శ\n",
      "3127==>ష\n",
      "3128==>స\n",
      "3129==>హ\n",
      "3130==>఺\n",
      "3131==>఻\n",
      "3132==>఼\n",
      "3133==>ఽ\n",
      "3134==>ా\n",
      "3135==>ి\n",
      "3136==>ీ\n",
      "3137==>ు\n",
      "3138==>ూ\n",
      "3139==>ృ\n",
      "3140==>ౄ\n",
      "3141==>౅\n",
      "3142==>ె\n",
      "3143==>ే\n",
      "3144==>ై\n",
      "3145==>౉\n",
      "3146==>ొ\n",
      "3147==>ో\n",
      "3148==>ౌ\n",
      "3149==>్\n",
      "3150==>౎\n",
      "3151==>౏\n",
      "3152==>౐\n",
      "3153==>౑\n",
      "3154==>౒\n",
      "3155==>౓\n",
      "3156==>౔\n",
      "3157==>ౕ\n",
      "3158==>ౖ\n",
      "3159==>౗\n",
      "3160==>ౘ\n",
      "3161==>ౙ\n",
      "3162==>ౚ\n",
      "3163==>౛\n",
      "3164==>౜\n",
      "3165==>ౝ\n",
      "3166==>౞\n",
      "3167==>౟\n",
      "3168==>ౠ\n",
      "3169==>ౡ\n",
      "3170==>ౢ\n",
      "3171==>ౣ\n",
      "3172==>౤\n",
      "3173==>౥\n",
      "3174==>౦\n",
      "3175==>౧\n",
      "3176==>౨\n",
      "3177==>౩\n"
     ]
    }
   ],
   "source": [
    "for i in range(3077,3178):\n",
    "    print(i,chr(i), sep='==>')"
   ]
  },
  {
   "cell_type": "markdown",
   "id": "b57ab7e2",
   "metadata": {},
   "source": [
    "**while loop**\n",
    "\n",
    "- for loop\n",
    "\n",
    "- while loop:if you want to run an infinte iterations we will choose while\n",
    "    \n",
    "- every loop we need three things\n",
    "\n",
    "- intial point\n",
    "\n",
    "- incrementr or decremet\n",
    "\n",
    "- condition(stop point)"
   ]
  },
  {
   "cell_type": "code",
   "execution_count": null,
   "id": "dac59078",
   "metadata": {},
   "outputs": [],
   "source": [
    "<start point>\n",
    "while <how to stop>\n",
    "    <code lines>\n",
    "    <increment or decrement>\n",
    "    "
   ]
  },
  {
   "cell_type": "code",
   "execution_count": 1,
   "id": "1f3b0719",
   "metadata": {},
   "outputs": [
    {
     "name": "stdout",
     "output_type": "stream",
     "text": [
      "1\n"
     ]
    }
   ],
   "source": [
    "i=1\n",
    "while i<2:\n",
    "    print(i)\n",
    "    i=i+1\n",
    "    \n",
    "# step1: i=1 while 1<2 True print(1) i=1+1=2\n",
    "# step2: i=2 while 2<2 False \n",
    "# it prints(1)"
   ]
  },
  {
   "cell_type": "code",
   "execution_count": 4,
   "id": "16456c48",
   "metadata": {},
   "outputs": [
    {
     "name": "stdout",
     "output_type": "stream",
     "text": [
      "1 2 3 4 5 6 7 8 9 10 "
     ]
    }
   ],
   "source": [
    "i=1\n",
    "while i<11:\n",
    "    \n",
    "    print(i,end=' ')\n",
    "    i=i+1"
   ]
  },
  {
   "cell_type": "markdown",
   "id": "da10d3f8",
   "metadata": {},
   "source": [
    "\n",
    "i=1\n",
    "while i<11:\n",
    "    print(i)\n",
    "    i=i-1\n",
    "    if i==-10:\n",
    "        break"
   ]
  },
  {
   "cell_type": "code",
   "execution_count": 2,
   "id": "3285798f",
   "metadata": {},
   "outputs": [
    {
     "name": "stdout",
     "output_type": "stream",
     "text": [
      "20 19 18 17 16 15 14 13 12 11 10 9 8 7 6 5 4 3 2 1 "
     ]
    }
   ],
   "source": [
    "i=20\n",
    "while i>0:\n",
    "    print(i,end=' ')\n",
    "    i=i-1\n",
    "    if i==0:\n",
    "        break\n",
    "    "
   ]
  },
  {
   "cell_type": "code",
   "execution_count": 4,
   "id": "5a73ed68",
   "metadata": {},
   "outputs": [
    {
     "name": "stdout",
     "output_type": "stream",
     "text": [
      "-20 -19 -18 -17 -16 -15 -14 -13 -12 -11 -10 -9 -8 -7 -6 -5 -4 -3 -2 -1 0 "
     ]
    }
   ],
   "source": [
    "i=-20\n",
    "while i<1:\n",
    "    print(i,end=' ')\n",
    "    i=i+1\n"
   ]
  },
  {
   "cell_type": "markdown",
   "id": "74ec32de",
   "metadata": {},
   "source": [
    "**True**\n",
    "\n",
    "- if you dont know the valid condition to enter the inside while loop\n",
    "\n",
    "- then use **True**\n",
    "\n",
    "- True will give the entry pass irrespective of the condition\n",
    "\n",
    "- but if you want to come out the we need to apply if condition and break inside while loop\n",
    "\n",
    "- if you dont "
   ]
  },
  {
   "cell_type": "code",
   "execution_count": null,
   "id": "bdc3262d",
   "metadata": {},
   "outputs": [],
   "source": []
  },
  {
   "cell_type": "code",
   "execution_count": 6,
   "id": "38d74fa7",
   "metadata": {},
   "outputs": [
    {
     "name": "stdout",
     "output_type": "stream",
     "text": [
      "the 20 is even\n",
      "the 24 is even\n",
      "the 52 is even\n"
     ]
    }
   ],
   "source": [
    "#1Q) For example\n",
    "# take a random number between  1 to 100\n",
    "# print it is a even number and odd number\n",
    "# you need to generate 3 random number\n",
    "\n",
    "import random\n",
    "i=0\n",
    "while i<3:\n",
    "    i=i+1\n",
    "    n=random.randint(0,100)\n",
    "    if n%2==0:\n",
    "        print(f\"the {n} is even\")\n",
    "    else:\n",
    "        print(f\"the {n} is odd\")\n",
    "    if n==4:\n",
    "        break\n"
   ]
  },
  {
   "cell_type": "code",
   "execution_count": 7,
   "id": "76e43922",
   "metadata": {},
   "outputs": [
    {
     "name": "stdout",
     "output_type": "stream",
     "text": [
      "the 13 is odd\n"
     ]
    }
   ],
   "source": [
    "#2Q) wap ask the user print the number is even or odd between 10 to 20\n",
    "n=random.randint(10,20)\n",
    "if n%2==0:\n",
    "    print(f\"the {n} is even\")\n",
    "else:\n",
    "    print(f\"the {n} is odd\")\n"
   ]
  },
  {
   "cell_type": "code",
   "execution_count": 8,
   "id": "e363bfbf",
   "metadata": {},
   "outputs": [
    {
     "name": "stdout",
     "output_type": "stream",
     "text": [
      "the square of 22 is 484\n"
     ]
    }
   ],
   "source": [
    "#3Q) wap ask the user print the square of the number between\n",
    "# 20 to 25\n",
    "n1=random.randint(20,25)\n",
    "square=n1*n1\n",
    "print(f\"the square of {n1} is {square}\")"
   ]
  },
  {
   "cell_type": "code",
   "execution_count": 9,
   "id": "eac8fc0b",
   "metadata": {},
   "outputs": [
    {
     "name": "stdout",
     "output_type": "stream",
     "text": [
      "enter a number: 5\n",
      "25\n",
      "enter a number: 6\n",
      "36\n",
      "enter a number: 2\n",
      "4\n"
     ]
    }
   ],
   "source": [
    "#4Q) WAP ask the user enter number three times find the square of the number\n",
    "# How many times loop should run\n",
    "i=0\n",
    "while i<3:\n",
    "    i=i+1\n",
    "    num=eval(input(\"enter a number: \"))\n",
    "    square=num*num\n",
    "    print(square)"
   ]
  },
  {
   "cell_type": "code",
   "execution_count": 12,
   "id": "d54947e8",
   "metadata": {},
   "outputs": [
    {
     "name": "stdout",
     "output_type": "stream",
     "text": [
      "enter a number of a table: 7\n",
      "7 x 1 = 7\n",
      "7 x 2 = 14\n",
      "7 x 3 = 21\n",
      "7 x 4 = 28\n",
      "7 x 5 = 35\n",
      "7 x 6 = 42\n",
      "7 x 7 = 49\n",
      "7 x 8 = 56\n",
      "7 x 9 = 63\n",
      "7 x 10 = 70\n"
     ]
    }
   ],
   "source": [
    "#5Q) Print the 14th table\n",
    "# ans:   14 x 1 = 14\n",
    "#        14 x 2 = 28\n",
    "#        14 x 3 = 42\n",
    "#\n",
    "#\n",
    "#        14 x10 = 140\n",
    "# How many times 10\n",
    "num=eval(input(\"enter a number of a table: \"))\n",
    "i=0\n",
    "while i<10:\n",
    "    i=i+1\n",
    "    table=num*i\n",
    "    print(f\"{num} x {i} = {table}\")\n",
    "    \n",
    "    "
   ]
  },
  {
   "cell_type": "code",
   "execution_count": 17,
   "id": "2fd6424f",
   "metadata": {},
   "outputs": [
    {
     "name": "stdout",
     "output_type": "stream",
     "text": [
      "enter a number: 75\n",
      "the factors of 75 is 1\n",
      "the factors of 75 is 3\n",
      "the factors of 75 is 5\n",
      "the factors of 75 is 15\n",
      "the factors of 75 is 25\n",
      "the factors of 75 is 75\n"
     ]
    }
   ],
   "source": [
    "#6 Q) Find the factors of 75\n",
    "# step-1: Iterate the loop = which numbers factor you want\n",
    "# step-2: Apply the if condition\n",
    "#         cond= divide the number with each i\n",
    "num1=eval(input(\"enter a number: \"))\n",
    "i=0\n",
    "while i<num1:\n",
    "    i=i+1\n",
    "    if num1%i==0:\n",
    "        print(f\"the factors of {num1} is {i}\")"
   ]
  },
  {
   "cell_type": "code",
   "execution_count": 18,
   "id": "98bd4a1f",
   "metadata": {},
   "outputs": [
    {
     "name": "stdout",
     "output_type": "stream",
     "text": [
      "enter a number: 10\n",
      "55 "
     ]
    }
   ],
   "source": [
    "#7Q) Write the sum of first 10 Natural numbers\n",
    "# 1 to 10\n",
    "# 1+2+3+4+5+6+7+8+9+10=55\n",
    "\n",
    "n1=eval(input(\"enter a number: \"))\n",
    "sum1=0\n",
    "i=0\n",
    "while i<n1:\n",
    "    i=i+1\n",
    "    sum1=sum1+i\n",
    "print(sum1,end=\" \",sep=\"+\")\n",
    "    "
   ]
  },
  {
   "cell_type": "code",
   "execution_count": 19,
   "id": "31e615ae",
   "metadata": {},
   "outputs": [
    {
     "name": "stdout",
     "output_type": "stream",
     "text": [
      "enter the number: 10\n",
      "the avg of 10 numbers is 5.5\n"
     ]
    }
   ],
   "source": [
    "# 8Q) Average first 1 to 10 numbers\n",
    "# avg= summation of all the numbers/total number\n",
    "#Wap to find the average of ' N ' numbers in Python.\n",
    "n2=eval(input(\"enter the number: \"))\n",
    "summ=0\n",
    "i=0\n",
    "while i<n2:\n",
    "    i=i+1\n",
    "    summ=summ+i\n",
    "    avg=summ/n2\n",
    "print(f\"the avg of {n2} numbers is {avg}\")"
   ]
  },
  {
   "cell_type": "code",
   "execution_count": 20,
   "id": "bc9d631a",
   "metadata": {},
   "outputs": [
    {
     "name": "stdout",
     "output_type": "stream",
     "text": [
      "enter a number: 75\n",
      "1\n",
      "3\n",
      "5\n",
      "15\n",
      "25\n",
      "75\n",
      "the total no of divisors are  6\n"
     ]
    }
   ],
   "source": [
    "#9Q) Find the number of divisors of 75\n",
    "# ans: 1,3,5,15,25,75\n",
    "# Number =6\n",
    "number=0\n",
    "num11=eval(input(\"enter a number: \"))\n",
    "i=0\n",
    "while i<num11:\n",
    "    i=i+1\n",
    "    if num11%i==0:\n",
    "        print(i)\n",
    "        number=number+1\n",
    "print(\"the total no of divisors are \",number)"
   ]
  },
  {
   "cell_type": "code",
   "execution_count": 22,
   "id": "8b19a1d2",
   "metadata": {},
   "outputs": [
    {
     "name": "stdout",
     "output_type": "stream",
     "text": [
      "enter the number: 5\n",
      "you lose\n",
      "the no of chances are left  2\n",
      "enter the number: 2\n",
      "you lose\n",
      "the no of chances are left  1\n",
      "enter the number: 1\n",
      "you lose\n",
      "the no of chances are left  0\n"
     ]
    }
   ],
   "source": [
    "# 10Q)\n",
    "# Get a random number between  1 to 10 :  num1\n",
    "# Ask the user enter a number : num2\n",
    "# if num1 == num2  then print won\n",
    "# else print fail\n",
    "\n",
    "# Give 3 chances\n",
    "\n",
    "# Case-2: whenever you won the code should stop\n",
    "\n",
    "# Case-3:\n",
    "# Suppose i want to give 4 chances\n",
    "# Every time you fail I want to display\n",
    "#      Number of chances left\n",
    "\n",
    "# If all the chances you are used\n",
    "#    Try again after 24 hours\n",
    "\n",
    "# If you are win\n",
    "import random\n",
    "count=0\n",
    "i=0\n",
    "while i<3:\n",
    "    i=i+1\n",
    "    num3=random.randint(1,10)\n",
    "    num4=eval(input(\"enter the number: \"))\n",
    "    if num3==num4:\n",
    "        print(\"you won\")\n",
    "        break\n",
    "    else:\n",
    "        print(\"you lose\")\n",
    "        count+=1\n",
    "    print(\"the no of chances are left \", 3-i)\n",
    "if count>4:\n",
    "    print(\"Try again after 24 hours\")\n",
    "    "
   ]
  },
  {
   "cell_type": "code",
   "execution_count": 23,
   "id": "b63c1f51",
   "metadata": {},
   "outputs": [
    {
     "name": "stdout",
     "output_type": "stream",
     "text": [
      "the odd number is 1 odd\n",
      "the even number is 2 even\n",
      "the even number is 4 even\n",
      "the odd number is 5 odd\n",
      "the even number is 4 even\n",
      "the even count is  3\n",
      "the odd count is 2\n"
     ]
    }
   ],
   "source": [
    "# 11q)# wap ask the user get 5 random numbers\n",
    "# Get it is an even number or odd number\n",
    "# also count how many even numbers are there\n",
    "# and  count how many odd numbers are there\n",
    "\n",
    "# Idea\n",
    "# take two counters one even and odd count\n",
    "# For loop 5 times\n",
    "# each time take the random number\n",
    "# If condition\n",
    "#    True counter update\n",
    "# else\n",
    "#   Update the counter\n",
    "import random\n",
    "even_count=0\n",
    "odd_count=0\n",
    "i=0\n",
    "while i<5:\n",
    "    i=i+1\n",
    "    num=random.randint(0,5)\n",
    "    if num%2==0:\n",
    "        print(f'the even number is {num} even')\n",
    "        even_count=even_count+1\n",
    "    else:\n",
    "        print(f'the odd number is {num} odd')\n",
    "        odd_count=odd_count+1\n",
    "print('the even count is ', even_count)\n",
    "print('the odd count is', odd_count)"
   ]
  },
  {
   "cell_type": "code",
   "execution_count": null,
   "id": "650ae194",
   "metadata": {},
   "outputs": [],
   "source": []
  }
 ],
 "metadata": {
  "kernelspec": {
   "display_name": "Python 3 (ipykernel)",
   "language": "python",
   "name": "python3"
  },
  "language_info": {
   "codemirror_mode": {
    "name": "ipython",
    "version": 3
   },
   "file_extension": ".py",
   "mimetype": "text/x-python",
   "name": "python",
   "nbconvert_exporter": "python",
   "pygments_lexer": "ipython3",
   "version": "3.9.13"
  }
 },
 "nbformat": 4,
 "nbformat_minor": 5
}
