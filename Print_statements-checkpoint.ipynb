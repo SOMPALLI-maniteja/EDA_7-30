{
 "cells": [
  {
   "cell_type": "code",
   "execution_count": 1,
   "id": "c30a040c",
   "metadata": {},
   "outputs": [
    {
     "name": "stdout",
     "output_type": "stream",
     "text": [
      "10\n"
     ]
    }
   ],
   "source": [
    "print(10)"
   ]
  },
  {
   "cell_type": "code",
   "execution_count": 2,
   "id": "4fac20ec",
   "metadata": {},
   "outputs": [
    {
     "name": "stdout",
     "output_type": "stream",
     "text": [
      "python\n"
     ]
    }
   ],
   "source": [
    "print('python')"
   ]
  },
  {
   "cell_type": "code",
   "execution_count": 3,
   "id": "7b5e5d7a",
   "metadata": {},
   "outputs": [
    {
     "name": "stdout",
     "output_type": "stream",
     "text": [
      "10 10.5 naresh it True\n"
     ]
    }
   ],
   "source": [
    "print(10,10.5,'naresh it', True)"
   ]
  },
  {
   "cell_type": "code",
   "execution_count": 4,
   "id": "b6194626",
   "metadata": {},
   "outputs": [
    {
     "name": "stdout",
     "output_type": "stream",
     "text": [
      "10\n",
      "20\n"
     ]
    },
    {
     "data": {
      "text/plain": [
       "(None, None)"
      ]
     },
     "execution_count": 4,
     "metadata": {},
     "output_type": "execute_result"
    }
   ],
   "source": [
    "print(10),print(20)"
   ]
  },
  {
   "cell_type": "code",
   "execution_count": 5,
   "id": "b3814361",
   "metadata": {},
   "outputs": [
    {
     "name": "stdout",
     "output_type": "stream",
     "text": [
      "the addition of100 and 200 is 300\n"
     ]
    }
   ],
   "source": [
    "a=100\n",
    "b=200\n",
    "c=a+b\n",
    "print(\"the addition of{} and {} is {}\".format(a,b,c))"
   ]
  },
  {
   "cell_type": "code",
   "execution_count": 7,
   "id": "ea4dc591",
   "metadata": {},
   "outputs": [
    {
     "name": "stdout",
     "output_type": "stream",
     "text": [
      "my name is mani,im 23 years old im form addanki\n"
     ]
    }
   ],
   "source": [
    "name='mani'\n",
    "age=23\n",
    "city='addanki'\n",
    "print(\"my name is {},im {} years old im form {}\".format(name,age,city))"
   ]
  },
  {
   "cell_type": "code",
   "execution_count": 8,
   "id": "b2bec1d0",
   "metadata": {},
   "outputs": [
    {
     "name": "stdout",
     "output_type": "stream",
     "text": [
      "the addition of 100 and 200 is 300\n"
     ]
    }
   ],
   "source": [
    "a=100\n",
    "b=200\n",
    "c=a+b\n",
    "print(f\"the addition of {a} and {b} is {c}\")"
   ]
  },
  {
   "cell_type": "code",
   "execution_count": 6,
   "id": "d04489a9",
   "metadata": {},
   "outputs": [
    {
     "name": "stdout",
     "output_type": "stream",
     "text": [
      "the average of 100 and 200 is : 150\n"
     ]
    }
   ],
   "source": [
    "num1=100\n",
    "num2=200\n",
    "average= (num1+num2)/2\n",
    "print(f\"the average of {num1} and {num2} is : {int(average)}\")"
   ]
  },
  {
   "cell_type": "code",
   "execution_count": 10,
   "id": "50048c25",
   "metadata": {},
   "outputs": [
    {
     "name": "stdout",
     "output_type": "stream",
     "text": [
      "the area of circle is : 314.0\n",
      "314.0\n"
     ]
    }
   ],
   "source": [
    "#take radius of circle \n",
    "#take a pi value = 3.14\n",
    "#find the area of circle  pi*r*r\n",
    "radius=10\n",
    "pi=3.14\n",
    "area=pi*radius*radius\n",
    "print(f\"the area of circle is : {area}\")\n",
    "print(area)"
   ]
  },
  {
   "cell_type": "code",
   "execution_count": 13,
   "id": "012ada21",
   "metadata": {},
   "outputs": [
    {
     "name": "stdout",
     "output_type": "stream",
     "text": [
      "area of triangle is : 75.0\n"
     ]
    }
   ],
   "source": [
    "#takethe base of triangle \n",
    "# take the height of the triangle\n",
    "#area of triangle is =1/2*base*height\n",
    "base=15\n",
    "height=10\n",
    "area=1/2*base*height\n",
    "print(f\"area of triangle is : {area}\")"
   ]
  },
  {
   "cell_type": "code",
   "execution_count": 25,
   "id": "16551c4b",
   "metadata": {},
   "outputs": [
    {
     "name": "stdout",
     "output_type": "stream",
     "text": [
      "tip for the waiter: 100.0\n",
      "total bill is: 1100.0\n"
     ]
    }
   ],
   "source": [
    "#take the bill amount\n",
    "#take a tip percentage \n",
    "#calculte tip bill\n",
    "#calculte total bill\n",
    "\n",
    "bill_amount=1000\n",
    "tip_percentage=10\n",
    "tip_bill = bill_amount*(tip_percentage)/100\n",
    "print(\"tip for the waiter:\",tip_bill)\n",
    "print(\"total bill is:\",bill_amount+tip_bill)"
   ]
  },
  {
   "cell_type": "markdown",
   "id": "fdd52498",
   "metadata": {},
   "source": [
    "**end operator**\n",
    "\n",
    "- combining two print statements and it prints side by side untill the end "
   ]
  },
  {
   "cell_type": "code",
   "execution_count": 28,
   "id": "948cbdf7",
   "metadata": {},
   "outputs": [
    {
     "name": "stdout",
     "output_type": "stream",
     "text": [
      "10 20"
     ]
    }
   ],
   "source": [
    "print(10,end=' ')\n",
    "print(20,end='')"
   ]
  },
  {
   "cell_type": "markdown",
   "id": "7d5aec9d",
   "metadata": {},
   "source": [
    "**separator operator**\n",
    "\n",
    "- seperate the multiple values in a single print statement"
   ]
  },
  {
   "cell_type": "code",
   "execution_count": 32,
   "id": "529e2107",
   "metadata": {},
   "outputs": [
    {
     "name": "stdout",
     "output_type": "stream",
     "text": [
      "10 & 20 & 30\n"
     ]
    }
   ],
   "source": [
    "print(10,20,30,sep=\" & \")\n"
   ]
  },
  {
   "cell_type": "code",
   "execution_count": 33,
   "id": "e866ec80",
   "metadata": {},
   "outputs": [
    {
     "name": "stdout",
     "output_type": "stream",
     "text": [
      "the addition of the 5 and 3 is 8 .\n"
     ]
    }
   ],
   "source": [
    "print('the addition of the 5 and 3 is 8','.')"
   ]
  },
  {
   "cell_type": "code",
   "execution_count": 35,
   "id": "90dd07d9",
   "metadata": {},
   "outputs": [
    {
     "name": "stdout",
     "output_type": "stream",
     "text": [
      "the addition of the 5 and 3 is 8.\n"
     ]
    }
   ],
   "source": [
    "print('the addition of the 5 and 3 is 8','.',sep='')"
   ]
  },
  {
   "cell_type": "code",
   "execution_count": null,
   "id": "04e06911",
   "metadata": {},
   "outputs": [],
   "source": []
  }
 ],
 "metadata": {
  "kernelspec": {
   "display_name": "Python 3 (ipykernel)",
   "language": "python",
   "name": "python3"
  },
  "language_info": {
   "codemirror_mode": {
    "name": "ipython",
    "version": 3
   },
   "file_extension": ".py",
   "mimetype": "text/x-python",
   "name": "python",
   "nbconvert_exporter": "python",
   "pygments_lexer": "ipython3",
   "version": "3.9.13"
  }
 },
 "nbformat": 4,
 "nbformat_minor": 5
}
