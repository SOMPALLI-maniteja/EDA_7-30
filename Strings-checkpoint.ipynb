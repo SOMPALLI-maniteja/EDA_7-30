{
 "cells": [
  {
   "cell_type": "code",
   "execution_count": 1,
   "id": "cd1906e3",
   "metadata": {},
   "outputs": [
    {
     "data": {
      "text/plain": [
       "['a', 'a', 'e', 'i', 'j', 'm', 'n', 't']"
      ]
     },
     "execution_count": 1,
     "metadata": {},
     "output_type": "execute_result"
    }
   ],
   "source": [
    "sorted('maniteja')\n",
    "\n",
    "#the default behaviour of this method of this ascending\n",
    "\n",
    "# how this defaullt mentioned \n",
    "# we need to understand about arguments"
   ]
  },
  {
   "cell_type": "code",
   "execution_count": 6,
   "id": "d3811286",
   "metadata": {},
   "outputs": [
    {
     "data": {
      "text/plain": [
       "['s', 'r', 'n', 'h', 'e', 'a']"
      ]
     },
     "execution_count": 6,
     "metadata": {},
     "output_type": "execute_result"
    }
   ],
   "source": [
    "sorted('naresh',reverse=True)"
   ]
  },
  {
   "cell_type": "code",
   "execution_count": 7,
   "id": "6cec931c",
   "metadata": {},
   "outputs": [
    {
     "data": {
      "text/plain": [
       "<reversed at 0x24ca5d1f040>"
      ]
     },
     "execution_count": 7,
     "metadata": {},
     "output_type": "execute_result"
    }
   ],
   "source": [
    "reversed('naresh')\n",
    "# it shows the revrsed string in that memory location"
   ]
  },
  {
   "cell_type": "code",
   "execution_count": 11,
   "id": "a50f3340",
   "metadata": {},
   "outputs": [
    {
     "name": "stdout",
     "output_type": "stream",
     "text": [
      "h s e r a n "
     ]
    }
   ],
   "source": [
    "for i in reversed('naresh'):\n",
    "    print(i,end=\" \")"
   ]
  },
  {
   "cell_type": "code",
   "execution_count": 12,
   "id": "e77ffdaa",
   "metadata": {},
   "outputs": [
    {
     "data": {
      "text/plain": [
       "[1, 5, 6, 14, 20, 30]"
      ]
     },
     "execution_count": 12,
     "metadata": {},
     "output_type": "execute_result"
    }
   ],
   "source": [
    "sorted([30,20,5,14,1,6])\n"
   ]
  },
  {
   "cell_type": "code",
   "execution_count": 13,
   "id": "93f7f3fb",
   "metadata": {},
   "outputs": [
    {
     "data": {
      "text/plain": [
       "[30, 20, 14, 6, 5, 1]"
      ]
     },
     "execution_count": 13,
     "metadata": {},
     "output_type": "execute_result"
    }
   ],
   "source": [
    "sorted([30,20,5,14,1,6],reverse=True)\n"
   ]
  },
  {
   "cell_type": "code",
   "execution_count": 14,
   "id": "73d5fa6a",
   "metadata": {},
   "outputs": [
    {
     "data": {
      "text/plain": [
       "True"
      ]
     },
     "execution_count": 14,
     "metadata": {},
     "output_type": "execute_result"
    }
   ],
   "source": [
    "str1='mani'\n",
    "'n' in str1"
   ]
  },
  {
   "cell_type": "code",
   "execution_count": 15,
   "id": "096eefe3",
   "metadata": {},
   "outputs": [
    {
     "name": "stdout",
     "output_type": "stream",
     "text": [
      "m\n",
      "a\n",
      "n\n",
      "i\n"
     ]
    }
   ],
   "source": [
    "for i in str1:\n",
    "    print(i)"
   ]
  },
  {
   "cell_type": "markdown",
   "id": "c64fff2a",
   "metadata": {},
   "source": [
    "**Note**\n",
    "\n",
    "- in operators directly access the letters"
   ]
  },
  {
   "cell_type": "code",
   "execution_count": 19,
   "id": "16b0be31",
   "metadata": {},
   "outputs": [
    {
     "name": "stdout",
     "output_type": "stream",
     "text": [
      "3\n"
     ]
    }
   ],
   "source": [
    "#wap ask the user count how many 'a' present in a given string\n",
    "#str1='hai'\n",
    "\n",
    "str1='hai naresh how are you'\n",
    "c=0\n",
    "for i in str1:\n",
    "    if i=='a':\n",
    "        c=c+1\n",
    "print(c)"
   ]
  },
  {
   "cell_type": "code",
   "execution_count": 23,
   "id": "51406715",
   "metadata": {},
   "outputs": [
    {
     "name": "stdout",
     "output_type": "stream",
     "text": [
      "9\n"
     ]
    }
   ],
   "source": [
    "#wap ask the user find how many vowels are there in a given string\\\n",
    "str2='hai naresh how are you'\n",
    "vowels='aeiou'\n",
    "count=0\n",
    "for i in str2:\n",
    "    if i in vowels:\n",
    "        count=count+1\n",
    "print(count)"
   ]
  },
  {
   "cell_type": "code",
   "execution_count": 28,
   "id": "44b64ea9",
   "metadata": {},
   "outputs": [
    {
     "name": "stdout",
     "output_type": "stream",
     "text": [
      "5\n"
     ]
    }
   ],
   "source": [
    "#wap sk the user find how many vowels are there in a given string\\ repeted vowels are there\n",
    "# we dont want repeated vowels\n",
    "# count the vowels avoid the repetition: unique vowels\n",
    "str2='hai naresh how are you'\n",
    "str3=' '\n",
    "count=0\n",
    "for i in str2:\n",
    "    if i in 'aeiou':\n",
    "        if i not in str3:\n",
    "            str3=str3+i\n",
    "            count=count+1\n",
    "print(count)"
   ]
  },
  {
   "cell_type": "markdown",
   "id": "a5111fb5",
   "metadata": {},
   "source": [
    "**Concatination**"
   ]
  },
  {
   "cell_type": "code",
   "execution_count": 34,
   "id": "03a47964",
   "metadata": {},
   "outputs": [
    {
     "name": "stdout",
     "output_type": "stream",
     "text": [
      "hellobye\n"
     ]
    }
   ],
   "source": [
    "s1='hello'\n",
    "s2='bye'\n",
    "print(s1+s2)"
   ]
  },
  {
   "cell_type": "code",
   "execution_count": 33,
   "id": "e745017c",
   "metadata": {},
   "outputs": [
    {
     "data": {
      "text/plain": [
       "'hellohello'"
      ]
     },
     "execution_count": 33,
     "metadata": {},
     "output_type": "execute_result"
    }
   ],
   "source": [
    "s1*s2"
   ]
  },
  {
   "cell_type": "code",
   "execution_count": 30,
   "id": "8342ac49",
   "metadata": {},
   "outputs": [
    {
     "ename": "TypeError",
     "evalue": "unsupported operand type(s) for /: 'str' and 'str'",
     "output_type": "error",
     "traceback": [
      "\u001b[1;31m---------------------------------------------------------------------------\u001b[0m",
      "\u001b[1;31mTypeError\u001b[0m                                 Traceback (most recent call last)",
      "\u001b[1;32m~\\AppData\\Local\\Temp\\ipykernel_9020\\2268506330.py\u001b[0m in \u001b[0;36m<module>\u001b[1;34m\u001b[0m\n\u001b[1;32m----> 1\u001b[1;33m \u001b[0ms1\u001b[0m\u001b[1;33m/\u001b[0m\u001b[0ms2\u001b[0m\u001b[1;33m\u001b[0m\u001b[1;33m\u001b[0m\u001b[0m\n\u001b[0m",
      "\u001b[1;31mTypeError\u001b[0m: unsupported operand type(s) for /: 'str' and 'str'"
     ]
    }
   ],
   "source": [
    "s1/s2"
   ]
  },
  {
   "cell_type": "code",
   "execution_count": 31,
   "id": "3fe90864",
   "metadata": {},
   "outputs": [
    {
     "ename": "TypeError",
     "evalue": "unsupported operand type(s) for -: 'str' and 'str'",
     "output_type": "error",
     "traceback": [
      "\u001b[1;31m---------------------------------------------------------------------------\u001b[0m",
      "\u001b[1;31mTypeError\u001b[0m                                 Traceback (most recent call last)",
      "\u001b[1;32m~\\AppData\\Local\\Temp\\ipykernel_9020\\568074311.py\u001b[0m in \u001b[0;36m<module>\u001b[1;34m\u001b[0m\n\u001b[1;32m----> 1\u001b[1;33m \u001b[0ms1\u001b[0m\u001b[1;33m-\u001b[0m\u001b[0ms2\u001b[0m\u001b[1;33m\u001b[0m\u001b[1;33m\u001b[0m\u001b[0m\n\u001b[0m",
      "\u001b[1;31mTypeError\u001b[0m: unsupported operand type(s) for -: 'str' and 'str'"
     ]
    }
   ],
   "source": [
    "s1-s2"
   ]
  },
  {
   "cell_type": "markdown",
   "id": "c6c7a342",
   "metadata": {},
   "source": [
    "**Index operations**"
   ]
  },
  {
   "cell_type": "markdown",
   "id": "2bf5d5cd",
   "metadata": {},
   "source": [
    "- in python index start with zero \n",
    "- we have two directions\n",
    "- positve direction and negative dirction\n",
    "- positive numbers strat with 0\n",
    "- negative numbers strat with -1 applicable to end letter\n"
   ]
  },
  {
   "cell_type": "code",
   "execution_count": 35,
   "id": "0baa26ee",
   "metadata": {},
   "outputs": [
    {
     "data": {
      "text/plain": [
       "('p', 'y')"
      ]
     },
     "execution_count": 35,
     "metadata": {},
     "output_type": "execute_result"
    }
   ],
   "source": [
    "s1='python'\n",
    "s1[0],s1[1]"
   ]
  },
  {
   "cell_type": "code",
   "execution_count": 36,
   "id": "c97ec445",
   "metadata": {},
   "outputs": [
    {
     "data": {
      "text/plain": [
       "'python'"
      ]
     },
     "execution_count": 36,
     "metadata": {},
     "output_type": "execute_result"
    }
   ],
   "source": [
    "s1[0:]"
   ]
  },
  {
   "cell_type": "code",
   "execution_count": 42,
   "id": "2324b1fb",
   "metadata": {},
   "outputs": [
    {
     "data": {
      "text/plain": [
       "'h'"
      ]
     },
     "execution_count": 42,
     "metadata": {},
     "output_type": "execute_result"
    }
   ],
   "source": [
    "s1[-3]"
   ]
  },
  {
   "cell_type": "markdown",
   "id": "231cb6d3",
   "metadata": {},
   "source": [
    "**Mutable and immutable concept**\n",
    "\n",
    "- mutable can change\n",
    "\n",
    "   - we can change using indexing\n",
    "\n",
    "\n",
    "- immutable menas cant change\n",
    "\n",
    "    - we cant change using indexing"
   ]
  },
  {
   "cell_type": "code",
   "execution_count": 2,
   "id": "9012ec11",
   "metadata": {},
   "outputs": [
    {
     "ename": "TypeError",
     "evalue": "'str' object does not support item assignment",
     "output_type": "error",
     "traceback": [
      "\u001b[1;31m---------------------------------------------------------------------------\u001b[0m",
      "\u001b[1;31mTypeError\u001b[0m                                 Traceback (most recent call last)",
      "\u001b[1;32m~\\AppData\\Local\\Temp\\ipykernel_16212\\1770371476.py\u001b[0m in \u001b[0;36m<module>\u001b[1;34m\u001b[0m\n\u001b[0;32m      3\u001b[0m \u001b[1;31m# not possible\u001b[0m\u001b[1;33m\u001b[0m\u001b[1;33m\u001b[0m\u001b[0m\n\u001b[0;32m      4\u001b[0m \u001b[1;31m# we cant change using indexing\u001b[0m\u001b[1;33m\u001b[0m\u001b[1;33m\u001b[0m\u001b[0m\n\u001b[1;32m----> 5\u001b[1;33m \u001b[0ms\u001b[0m\u001b[1;33m[\u001b[0m\u001b[1;36m2\u001b[0m\u001b[1;33m]\u001b[0m\u001b[1;33m=\u001b[0m\u001b[1;34m'L'\u001b[0m\u001b[1;33m\u001b[0m\u001b[1;33m\u001b[0m\u001b[0m\n\u001b[0m\u001b[0;32m      6\u001b[0m \u001b[0mprint\u001b[0m\u001b[1;33m(\u001b[0m\u001b[0ms\u001b[0m\u001b[1;33m)\u001b[0m\u001b[1;33m\u001b[0m\u001b[1;33m\u001b[0m\u001b[0m\n",
      "\u001b[1;31mTypeError\u001b[0m: 'str' object does not support item assignment"
     ]
    }
   ],
   "source": [
    "s='welcome'\n",
    "# replace a 'l' with 'L' and prints weLcome\n",
    "# not possible\n",
    "# we cant change using indexing so it  is immutable\n",
    "s[2]='L'\n",
    "print(s)"
   ]
  },
  {
   "cell_type": "markdown",
   "id": "beed834b",
   "metadata": {},
   "source": [
    "## srings are immutable ##"
   ]
  },
  {
   "cell_type": "code",
   "execution_count": 4,
   "id": "5dc09be7",
   "metadata": {},
   "outputs": [
    {
     "data": {
      "text/plain": [
       "[1, 200, 3, 4, 5]"
      ]
     },
     "execution_count": 4,
     "metadata": {},
     "output_type": "execute_result"
    }
   ],
   "source": [
    "l=[1,2,3,4,5]\n",
    "l[1]=200\n",
    "l"
   ]
  },
  {
   "cell_type": "markdown",
   "id": "2c742034",
   "metadata": {},
   "source": [
    "**list are mutable**"
   ]
  },
  {
   "cell_type": "code",
   "execution_count": 9,
   "id": "ca9817d1",
   "metadata": {},
   "outputs": [
    {
     "name": "stdout",
     "output_type": "stream",
     "text": [
      "0\n",
      "1\n",
      "2\n",
      "3\n",
      "4\n",
      "5\n",
      "6\n"
     ]
    }
   ],
   "source": [
    "#4 wap print each letter using for loop range \n",
    "s='welcome'\n",
    "for i in range(7):\n",
    "    print(i)"
   ]
  },
  {
   "cell_type": "code",
   "execution_count": 10,
   "id": "a79e9d79",
   "metadata": {},
   "outputs": [
    {
     "data": {
      "text/plain": [
       "'l'"
      ]
     },
     "execution_count": 10,
     "metadata": {},
     "output_type": "execute_result"
    }
   ],
   "source": [
    "s[2]"
   ]
  },
  {
   "cell_type": "markdown",
   "id": "2196642e",
   "metadata": {},
   "source": [
    "**range belongs to which family**\n",
    "\n",
    "- inside range brackets what we need to provide\n",
    "\n",
    "    - number\n",
    "    \n",
    "- how many numbers we need to provide \n",
    "\n",
    "    - number of letters: len(string)\n",
    "        \n",
    "- how to access the letter using number\n",
    "\n",
    "    - by using index"
   ]
  },
  {
   "cell_type": "code",
   "execution_count": 13,
   "id": "cd29f16c",
   "metadata": {},
   "outputs": [
    {
     "name": "stdout",
     "output_type": "stream",
     "text": [
      "w\n",
      "e\n",
      "l\n",
      "c\n",
      "o\n",
      "m\n",
      "e\n",
      " \n",
      "t\n",
      "o\n",
      " \n",
      "n\n",
      "a\n",
      "t\n",
      "r\n",
      "e\n",
      "s\n",
      "h\n",
      "i\n",
      "t\n"
     ]
    }
   ],
   "source": [
    "s='welcome to natreshit'\n",
    "for i in range(len(s)):\n",
    "    print(s[i])"
   ]
  },
  {
   "cell_type": "markdown",
   "id": "9fcefe1e",
   "metadata": {},
   "source": [
    "- for-in  operators directly access the lettters\n",
    "\n",
    "- for-range will access using index"
   ]
  },
  {
   "cell_type": "code",
   "execution_count": 22,
   "id": "cad50b3f",
   "metadata": {},
   "outputs": [
    {
     "name": "stdout",
     "output_type": "stream",
     "text": [
      "enter a srting: welcome\n",
      "0\n",
      "1\n",
      "2\n",
      "3\n",
      "4\n",
      "5\n",
      "6\n"
     ]
    }
   ],
   "source": [
    "# 5. wap ask the user iterate the using a sring \n",
    "# strin'welcome'\n",
    "# positive index of w is 0\n",
    "\n",
    "\n",
    "string=input(\"enter a srting: \")\n",
    "for i in range(len(string)):\n",
    "    print(i)"
   ]
  },
  {
   "cell_type": "code",
   "execution_count": 28,
   "id": "59bdf23f",
   "metadata": {},
   "outputs": [
    {
     "name": "stdout",
     "output_type": "stream",
     "text": [
      "enter a srting: welcome\n",
      "0 -7\n",
      "the negative index of w is -7\n",
      "1 -6\n",
      "the negative index of e is -6\n",
      "2 -5\n",
      "the negative index of l is -5\n",
      "3 -4\n",
      "the negative index of c is -4\n",
      "4 -3\n",
      "the negative index of o is -3\n",
      "5 -2\n",
      "the negative index of m is -2\n",
      "6 -1\n",
      "the negative index of e is -1\n"
     ]
    }
   ],
   "source": [
    "string=input(\"enter a srting: \")\n",
    "for i in range(len(string)):\n",
    "    print(i, i-len(string))\n",
    "    print(f\"the negative index of {string[i]} is {i-len(string)}\")"
   ]
  },
  {
   "cell_type": "code",
   "execution_count": 30,
   "id": "2c501d7e",
   "metadata": {},
   "outputs": [
    {
     "name": "stdout",
     "output_type": "stream",
     "text": [
      "enter a srting: welcome\n",
      "0 -7\n",
      "the positive index is 0 and the negative index of w is -7\n",
      "1 -6\n",
      "the positive index is 1 and the negative index of e is -6\n",
      "2 -5\n",
      "the positive index is 2 and the negative index of l is -5\n",
      "3 -4\n",
      "the positive index is 3 and the negative index of c is -4\n",
      "4 -3\n",
      "the positive index is 4 and the negative index of o is -3\n",
      "5 -2\n",
      "the positive index is 5 and the negative index of m is -2\n",
      "6 -1\n",
      "the positive index is 6 and the negative index of e is -1\n"
     ]
    }
   ],
   "source": [
    "string=input(\"enter a srting: \")\n",
    "for i in range(len(string)):\n",
    "    print(i, i-len(string))\n",
    "    print(f\"the positive index is {i} and the negative index of {string[i]} is {i-len(string)}\")"
   ]
  },
  {
   "cell_type": "code",
   "execution_count": 39,
   "id": "3c871e84",
   "metadata": {},
   "outputs": [
    {
     "name": "stdout",
     "output_type": "stream",
     "text": [
      "a 1\n",
      "a 8\n",
      "a 18\n"
     ]
    }
   ],
   "source": [
    "# wap ask the user h\\get the index of each 'a' in a given string\n",
    "# a='hai how are you i am good'\n",
    "a='hai how are you i am good'\n",
    "s=\" \"\n",
    "for i in range(len(a)):\n",
    "    if a[i]=='a':\n",
    "        print(a[i],i)"
   ]
  },
  {
   "cell_type": "code",
   "execution_count": 42,
   "id": "68e4986c",
   "metadata": {},
   "outputs": [
    {
     "name": "stdout",
     "output_type": "stream",
     "text": [
      "a 1\n",
      "a 8\n",
      "a 18\n",
      "count of a is 3\n"
     ]
    }
   ],
   "source": [
    "# wap ask the user h\\get the index of each 'a' in a given string couht of a\n",
    "# a='hai how are you i am good'\n",
    "a='hai how are you i am good'\n",
    "count=0\n",
    "for i in range(len(a)):\n",
    "    if a[i]=='a':\n",
    "        count+=1\n",
    "        print(a[i],i)\n",
    "print(\"count of a is\", count)"
   ]
  },
  {
   "cell_type": "code",
   "execution_count": 43,
   "id": "23f734c4",
   "metadata": {},
   "outputs": [
    {
     "name": "stdout",
     "output_type": "stream",
     "text": [
      "27\n"
     ]
    }
   ],
   "source": [
    "# sum of all index of a\n",
    "a='hai how are you i am good'\n",
    "s=0\n",
    "for i in range(len(a)):\n",
    "    if a[i]=='a':\n",
    "        s=s+i\n",
    "print(s)"
   ]
  },
  {
   "cell_type": "code",
   "execution_count": 46,
   "id": "4bdfba80",
   "metadata": {
    "scrolled": true
   },
   "outputs": [
    {
     "name": "stdout",
     "output_type": "stream",
     "text": [
      "a\n",
      "i\n",
      "o\n",
      "a\n",
      "e\n",
      "o\n",
      "u\n",
      "i\n",
      "a\n",
      "o\n",
      "o\n",
      "11\n"
     ]
    }
   ],
   "source": [
    "# get vowels in a sring\n",
    "a='hai how are you i am good'\n",
    "s=0\n",
    "for i in range(len(a)):\n",
    "    if a[i] in 'aeiou':\n",
    "        print(a[i])\n",
    "        s=s+1\n",
    "print(s)"
   ]
  },
  {
   "cell_type": "code",
   "execution_count": 47,
   "id": "1f491819",
   "metadata": {},
   "outputs": [
    {
     "name": "stdout",
     "output_type": "stream",
     "text": [
      " aioeu\n"
     ]
    }
   ],
   "source": [
    "# unique vowels\n",
    "\n",
    "a='hai how are you i am good'\n",
    "s=\" \"\n",
    "for i in range(len(a)):\n",
    "    if a[i] not in s:\n",
    "        if a[i] in 'aeiou':\n",
    "            s=s+a[i]\n",
    "    else:\n",
    "        pass\n",
    "        \n",
    "print(s)"
   ]
  },
  {
   "cell_type": "code",
   "execution_count": 52,
   "id": "cbb6a30b",
   "metadata": {},
   "outputs": [
    {
     "name": "stdout",
     "output_type": "stream",
     "text": [
      " aioeu 5\n"
     ]
    }
   ],
   "source": [
    "a='hai how are you i am good'\n",
    "s=\" \"\n",
    "c=0\n",
    "for i in range(len(a)):\n",
    "    if a[i] in 'aeiou' and a[i] not in s:\n",
    "            s=s+a[i]\n",
    "            c=c+1\n",
    "    else:\n",
    "        pass\n",
    "        \n",
    "print(s, c)"
   ]
  },
  {
   "cell_type": "code",
   "execution_count": 1,
   "id": "aaf5035f",
   "metadata": {},
   "outputs": [
    {
     "data": {
      "text/plain": [
       "3"
      ]
     },
     "execution_count": 1,
     "metadata": {},
     "output_type": "execute_result"
    }
   ],
   "source": [
    "#14 string1='ola ola ola'\n",
    "# number of ola=3\n",
    "\n",
    "#15 string1='hello hello hello how how how how are you'\n",
    "# what is most repeated word\n",
    "\n",
    "#16 string1='hellooooo how are you'\n",
    "#what is the max length of a word\n",
    "# what is the length of a word\n",
    "\n",
    "string1='ola ola ola'\n",
    "string1.count('ola')"
   ]
  },
  {
   "cell_type": "code",
   "execution_count": 2,
   "id": "b1f3253f",
   "metadata": {},
   "outputs": [
    {
     "name": "stdout",
     "output_type": "stream",
     "text": [
      "how\n"
     ]
    }
   ],
   "source": [
    "# Q15) string1='hello hello hello how how how how are you'\n",
    "# What is the most repeated word : how\n",
    "string2='hello hello hello how how how how are you'\n",
    "string3=string2.split()\n",
    "repeated={}\n",
    "for i in string3:\n",
    "    if i in repeated:\n",
    "        repeated[i]=repeated[i]+1\n",
    "    else:\n",
    "        repeated[i]=1\n",
    "most_repeated_word = max(repeated, key=repeated.get)\n",
    "print(most_repeated_word)"
   ]
  },
  {
   "cell_type": "code",
   "execution_count": 3,
   "id": "c18ef9a1",
   "metadata": {},
   "outputs": [
    {
     "name": "stdout",
     "output_type": "stream",
     "text": [
      "hellooooo\n"
     ]
    }
   ],
   "source": [
    "# Q16) string1='hellooooo how aree u'\n",
    "# what is the maximum length of word: helloooo\n",
    "# what is the minimum length of word: u\n",
    "string1='hellooooo how aree u'\n",
    "max_size=-1\n",
    "s=list(string1.split())\n",
    "for i in s:\n",
    "    if len(i)>max_size:\n",
    "        max_size=len(i)\n",
    "        print(i)"
   ]
  },
  {
   "cell_type": "markdown",
   "id": "bc76eefb",
   "metadata": {},
   "source": [
    "**slice**"
   ]
  },
  {
   "cell_type": "markdown",
   "id": "aa0e02e4",
   "metadata": {},
   "source": [
    "- we can cut into pieces\n",
    "\n",
    "- similar to range concept\n",
    "\n",
    "- start,stop,step here also\n"
   ]
  },
  {
   "cell_type": "code",
   "execution_count": null,
   "id": "4d4aebe9",
   "metadata": {},
   "outputs": [],
   "source": [
    "-15 -14 -13 -12 -11 -10  -9  -8 -7 -6 -5 -4 -3 -2 -1\n",
    "h    a   i        h   o   w      a  r  e     y  o  u\n",
    "0    1   2   3    4   5   6   7  8  9 10 11 12 13 14"
   ]
  },
  {
   "cell_type": "code",
   "execution_count": 2,
   "id": "f6508c30",
   "metadata": {},
   "outputs": [
    {
     "data": {
      "text/plain": [
       "'ow are you'"
      ]
     },
     "execution_count": 2,
     "metadata": {},
     "output_type": "execute_result"
    }
   ],
   "source": [
    "str1='hai how are you'\n",
    "str1[5:]"
   ]
  },
  {
   "cell_type": "code",
   "execution_count": 3,
   "id": "9a8fcd1b",
   "metadata": {},
   "outputs": [
    {
     "data": {
      "text/plain": [
       "'e you'"
      ]
     },
     "execution_count": 3,
     "metadata": {},
     "output_type": "execute_result"
    }
   ],
   "source": [
    "str1[10:]"
   ]
  },
  {
   "cell_type": "code",
   "execution_count": 4,
   "id": "6b07e22c",
   "metadata": {},
   "outputs": [
    {
     "data": {
      "text/plain": [
       "'e you'"
      ]
     },
     "execution_count": 4,
     "metadata": {},
     "output_type": "execute_result"
    }
   ],
   "source": [
    "str1[-5:]"
   ]
  },
  {
   "cell_type": "code",
   "execution_count": 5,
   "id": "4a6d8814",
   "metadata": {},
   "outputs": [
    {
     "data": {
      "text/plain": [
       "('ow are you', 'ow are you')"
      ]
     },
     "execution_count": 5,
     "metadata": {},
     "output_type": "execute_result"
    }
   ],
   "source": [
    "str1[5:],str1[-10:] # Both will give same answer"
   ]
  },
  {
   "cell_type": "code",
   "execution_count": 6,
   "id": "07341d49",
   "metadata": {},
   "outputs": [
    {
     "data": {
      "text/plain": [
       "'u'"
      ]
     },
     "execution_count": 6,
     "metadata": {},
     "output_type": "execute_result"
    }
   ],
   "source": [
    "str1[14:]"
   ]
  },
  {
   "cell_type": "markdown",
   "id": "d344e8eb",
   "metadata": {},
   "source": [
    "$Pattern − 2$"
   ]
  },
  {
   "cell_type": "markdown",
   "id": "c84ea7f2",
   "metadata": {},
   "source": [
    "str1[start:stop]\n",
    "- start value means by default start only\n",
    "\n",
    "- step is not mentioned in positive direction\n",
    "\n",
    "- last=stop-1"
   ]
  },
  {
   "cell_type": "code",
   "execution_count": 8,
   "id": "21d09a88",
   "metadata": {},
   "outputs": [
    {
     "data": {
      "text/plain": [
       "'ow are yo'"
      ]
     },
     "execution_count": 8,
     "metadata": {},
     "output_type": "execute_result"
    }
   ],
   "source": [
    "str1[5:14]"
   ]
  },
  {
   "cell_type": "code",
   "execution_count": 9,
   "id": "4ad6dfeb",
   "metadata": {},
   "outputs": [
    {
     "data": {
      "text/plain": [
       "'e yo'"
      ]
     },
     "execution_count": 9,
     "metadata": {},
     "output_type": "execute_result"
    }
   ],
   "source": [
    "str1[-5:14]"
   ]
  },
  {
   "cell_type": "code",
   "execution_count": 10,
   "id": "8520689a",
   "metadata": {
    "scrolled": true
   },
   "outputs": [
    {
     "data": {
      "text/plain": [
       "''"
      ]
     },
     "execution_count": 10,
     "metadata": {},
     "output_type": "execute_result"
    }
   ],
   "source": [
    "str1[-5:-14]"
   ]
  },
  {
   "cell_type": "code",
   "execution_count": 11,
   "id": "5eb6980e",
   "metadata": {},
   "outputs": [
    {
     "data": {
      "text/plain": [
       "'ow are you'"
      ]
     },
     "execution_count": 11,
     "metadata": {},
     "output_type": "execute_result"
    }
   ],
   "source": [
    "str1[5:500]"
   ]
  },
  {
   "cell_type": "markdown",
   "id": "12a7ef7e",
   "metadata": {},
   "source": [
    "**Truncation behaviour**`"
   ]
  },
  {
   "cell_type": "code",
   "execution_count": null,
   "id": "5eb6cc21",
   "metadata": {},
   "outputs": [],
   "source": [
    "str1[5:500] # Answer\n",
    "str1[-500:500] # Answer\n",
    "str1[-1:500] # Answer\n",
    "str1[500:] # no answer\n",
    "str1[-500:-100] # No answer"
   ]
  },
  {
   "cell_type": "code",
   "execution_count": 3,
   "id": "1b4416df",
   "metadata": {},
   "outputs": [
    {
     "data": {
      "text/plain": [
       "'uyeaw'"
      ]
     },
     "execution_count": 3,
     "metadata": {},
     "output_type": "execute_result"
    }
   ],
   "source": [
    "str1[:5:-2] # start value -1"
   ]
  },
  {
   "cell_type": "code",
   "execution_count": 4,
   "id": "c04d1af1",
   "metadata": {},
   "outputs": [
    {
     "data": {
      "text/plain": [
       "''"
      ]
     },
     "execution_count": 4,
     "metadata": {},
     "output_type": "execute_result"
    }
   ],
   "source": [
    "str1[-13:2:2] # postive direction start value :0"
   ]
  },
  {
   "cell_type": "code",
   "execution_count": null,
   "id": "43ec862f",
   "metadata": {},
   "outputs": [],
   "source": [
    "str1[:] # Complete string\n",
    "str1[::] # Complete string\n",
    "str1[<start>::-1] # Reveres start value=-1\n",
    "str1[<start>:5:-2]"
   ]
  },
  {
   "cell_type": "markdown",
   "id": "e2940d94",
   "metadata": {},
   "source": [
    "**Methods**\n",
    "\n",
    "- Strings lists tuple dictionary every data type has its own methods\n",
    "\n",
    "- We already seen that packages has different method\n",
    "\n",
    "    - For example random package : randint method\n",
    "        - Math package : sqrt\n",
    "        - In the same way strings also have methods\n",
    "- In order to see methods for the packages\n",
    "- we are importing the package\n",
    "- we are applying dir\n",
    "\n",
    "- In the similar way in order to see the methods of string , we need to apply dir only"
   ]
  },
  {
   "cell_type": "code",
   "execution_count": 5,
   "id": "fdfa72d4",
   "metadata": {},
   "outputs": [
    {
     "data": {
      "text/plain": [
       "['__add__',\n",
       " '__class__',\n",
       " '__contains__',\n",
       " '__delattr__',\n",
       " '__dir__',\n",
       " '__doc__',\n",
       " '__eq__',\n",
       " '__format__',\n",
       " '__ge__',\n",
       " '__getattribute__',\n",
       " '__getitem__',\n",
       " '__getnewargs__',\n",
       " '__gt__',\n",
       " '__hash__',\n",
       " '__init__',\n",
       " '__init_subclass__',\n",
       " '__iter__',\n",
       " '__le__',\n",
       " '__len__',\n",
       " '__lt__',\n",
       " '__mod__',\n",
       " '__mul__',\n",
       " '__ne__',\n",
       " '__new__',\n",
       " '__reduce__',\n",
       " '__reduce_ex__',\n",
       " '__repr__',\n",
       " '__rmod__',\n",
       " '__rmul__',\n",
       " '__setattr__',\n",
       " '__sizeof__',\n",
       " '__str__',\n",
       " '__subclasshook__',\n",
       " 'capitalize',\n",
       " 'casefold',\n",
       " 'center',\n",
       " 'count',\n",
       " 'encode',\n",
       " 'endswith',\n",
       " 'expandtabs',\n",
       " 'find',\n",
       " 'format',\n",
       " 'format_map',\n",
       " 'index',\n",
       " 'isalnum',\n",
       " 'isalpha',\n",
       " 'isascii',\n",
       " 'isdecimal',\n",
       " 'isdigit',\n",
       " 'isidentifier',\n",
       " 'islower',\n",
       " 'isnumeric',\n",
       " 'isprintable',\n",
       " 'isspace',\n",
       " 'istitle',\n",
       " 'isupper',\n",
       " 'join',\n",
       " 'ljust',\n",
       " 'lower',\n",
       " 'lstrip',\n",
       " 'maketrans',\n",
       " 'partition',\n",
       " 'removeprefix',\n",
       " 'removesuffix',\n",
       " 'replace',\n",
       " 'rfind',\n",
       " 'rindex',\n",
       " 'rjust',\n",
       " 'rpartition',\n",
       " 'rsplit',\n",
       " 'rstrip',\n",
       " 'split',\n",
       " 'splitlines',\n",
       " 'startswith',\n",
       " 'strip',\n",
       " 'swapcase',\n",
       " 'title',\n",
       " 'translate',\n",
       " 'upper',\n",
       " 'zfill']"
      ]
     },
     "execution_count": 5,
     "metadata": {},
     "output_type": "execute_result"
    }
   ],
   "source": [
    "dir('')\n",
    "# dir('hai')\n",
    "# str1='apple'\n",
    "# dir(str1)"
   ]
  },
  {
   "cell_type": "code",
   "execution_count": 6,
   "id": "c36c9580",
   "metadata": {},
   "outputs": [
    {
     "data": {
      "text/plain": [
       "'Hai how are you'"
      ]
     },
     "execution_count": 6,
     "metadata": {},
     "output_type": "execute_result"
    }
   ],
   "source": [
    "str1='hai how are you'\n",
    "str1.capitalize()"
   ]
  },
  {
   "cell_type": "code",
   "execution_count": 7,
   "id": "d96b9f49",
   "metadata": {},
   "outputs": [
    {
     "data": {
      "text/plain": [
       "'HAI HOW ARE YOU'"
      ]
     },
     "execution_count": 7,
     "metadata": {},
     "output_type": "execute_result"
    }
   ],
   "source": [
    "str1.upper()"
   ]
  },
  {
   "cell_type": "markdown",
   "id": "2bb34f18",
   "metadata": {},
   "source": [
    "**Casefold**"
   ]
  },
  {
   "cell_type": "code",
   "execution_count": 8,
   "id": "390390ce",
   "metadata": {},
   "outputs": [
    {
     "data": {
      "text/plain": [
       "'  hai how are you   '"
      ]
     },
     "execution_count": 8,
     "metadata": {},
     "output_type": "execute_result"
    }
   ],
   "source": [
    "str1.center(20)"
   ]
  },
  {
   "cell_type": "code",
   "execution_count": 9,
   "id": "e4cdbef6",
   "metadata": {},
   "outputs": [
    {
     "data": {
      "text/plain": [
       "20"
      ]
     },
     "execution_count": 9,
     "metadata": {},
     "output_type": "execute_result"
    }
   ],
   "source": [
    "len(str1.center(20))"
   ]
  },
  {
   "cell_type": "code",
   "execution_count": 15,
   "id": "5135233b",
   "metadata": {},
   "outputs": [
    {
     "data": {
      "text/plain": [
       "98"
      ]
     },
     "execution_count": 15,
     "metadata": {},
     "output_type": "execute_result"
    }
   ],
   "source": [
    "ord(\"b\")"
   ]
  },
  {
   "cell_type": "code",
   "execution_count": 2,
   "id": "7db4ea4d",
   "metadata": {},
   "outputs": [
    {
     "name": "stdout",
     "output_type": "stream",
     "text": [
      "Hello How Are You\n"
     ]
    }
   ],
   "source": [
    "s1='hello how are you'\n",
    "s2=\"\"\n",
    "for i in range(len(s1)):\n",
    "    if i==0 and ord(s1[i])<122 and ord(s1[i])>97:\n",
    "        s2=s2+chr(ord(s1[i])-32)\n",
    "    elif s1[i-1]==' ':\n",
    "        s2=s2+chr(ord(s1[i])-32)\n",
    "    else:\n",
    "        s2=s2+s1[i]\n",
    "print(s2)"
   ]
  },
  {
   "cell_type": "code",
   "execution_count": 3,
   "id": "0cce2da4",
   "metadata": {},
   "outputs": [
    {
     "data": {
      "text/plain": [
       "104"
      ]
     },
     "execution_count": 3,
     "metadata": {},
     "output_type": "execute_result"
    }
   ],
   "source": [
    "ord('h')"
   ]
  },
  {
   "cell_type": "code",
   "execution_count": 4,
   "id": "42c13441",
   "metadata": {},
   "outputs": [
    {
     "data": {
      "text/plain": [
       "72"
      ]
     },
     "execution_count": 4,
     "metadata": {},
     "output_type": "execute_result"
    }
   ],
   "source": [
    "ord(\"H\")"
   ]
  },
  {
   "cell_type": "markdown",
   "id": "e082c8c1",
   "metadata": {},
   "source": [
    "**Count**"
   ]
  },
  {
   "cell_type": "code",
   "execution_count": 5,
   "id": "6c43a0ac",
   "metadata": {},
   "outputs": [
    {
     "data": {
      "text/plain": [
       "2"
      ]
     },
     "execution_count": 5,
     "metadata": {},
     "output_type": "execute_result"
    }
   ],
   "source": [
    "str1=\"hai how are you\"\n",
    "str1.count('a')"
   ]
  },
  {
   "cell_type": "markdown",
   "id": "5def98a2",
   "metadata": {},
   "source": [
    "- we want a from a specific index\n",
    "\n",
    "- we want number of a  between two  indixes"
   ]
  },
  {
   "cell_type": "code",
   "execution_count": 9,
   "id": "1b2dd1f6",
   "metadata": {},
   "outputs": [
    {
     "data": {
      "text/plain": [
       "2"
      ]
     },
     "execution_count": 9,
     "metadata": {},
     "output_type": "execute_result"
    }
   ],
   "source": [
    "# h a i   h a i   h a i\n",
    "# 0 1 2 3 4 5 6 7 8 9 10  it gives the perfect value from the sring\n",
    "str1='hai hai hai'\n",
    "str1.count('a',3)"
   ]
  },
  {
   "cell_type": "code",
   "execution_count": 10,
   "id": "3e3d84df",
   "metadata": {},
   "outputs": [
    {
     "data": {
      "text/plain": [
       "1"
      ]
     },
     "execution_count": 10,
     "metadata": {},
     "output_type": "execute_result"
    }
   ],
   "source": [
    "# h a i   h a i   h a i\n",
    "# 0 1 2 3 4 4 6 7 8 9 10      it gives the perfect value from the sring\n",
    "str1.count('a',3,8)"
   ]
  },
  {
   "cell_type": "code",
   "execution_count": 12,
   "id": "9ebf3f07",
   "metadata": {},
   "outputs": [
    {
     "data": {
      "text/plain": [
       "1"
      ]
     },
     "execution_count": 12,
     "metadata": {},
     "output_type": "execute_result"
    }
   ],
   "source": [
    "str1.count('a',-5,-1)"
   ]
  },
  {
   "cell_type": "code",
   "execution_count": 13,
   "id": "0a45a8dd",
   "metadata": {},
   "outputs": [
    {
     "data": {
      "text/plain": [
       "0"
      ]
     },
     "execution_count": 13,
     "metadata": {},
     "output_type": "execute_result"
    }
   ],
   "source": [
    "str1.count('a',-5,-9)"
   ]
  },
  {
   "cell_type": "code",
   "execution_count": 17,
   "id": "d47805e7",
   "metadata": {},
   "outputs": [
    {
     "data": {
      "text/plain": [
       "0"
      ]
     },
     "execution_count": 17,
     "metadata": {},
     "output_type": "execute_result"
    }
   ],
   "source": [
    "str1.count('a',-5,8)"
   ]
  },
  {
   "cell_type": "markdown",
   "id": "0d69e189",
   "metadata": {},
   "source": [
    "**Window method**"
   ]
  },
  {
   "cell_type": "code",
   "execution_count": 20,
   "id": "86db4277",
   "metadata": {},
   "outputs": [
    {
     "name": "stdout",
     "output_type": "stream",
     "text": [
      "3\n"
     ]
    }
   ],
   "source": [
    "str1='ola ola ola'\n",
    "c=0\n",
    "for i in range(len(str1)):\n",
    "    if str1[i:i+3]=='ola':\n",
    "        c+=1\n",
    "print(c)\n",
    "\n",
    "# step1L count=0 i=0 str1[0:3]=='ola'  True  count=count+1\n",
    "# step 2 c=1a   i=1   str1[1:4]=='ola'  False "
   ]
  },
  {
   "cell_type": "code",
   "execution_count": 21,
   "id": "7cabe711",
   "metadata": {},
   "outputs": [
    {
     "data": {
      "text/plain": [
       "1"
      ]
     },
     "execution_count": 21,
     "metadata": {},
     "output_type": "execute_result"
    }
   ],
   "source": [
    "str1.count('ola ola ola')\n"
   ]
  },
  {
   "cell_type": "code",
   "execution_count": 22,
   "id": "18766867",
   "metadata": {},
   "outputs": [
    {
     "data": {
      "text/plain": [
       "1"
      ]
     },
     "execution_count": 22,
     "metadata": {},
     "output_type": "execute_result"
    }
   ],
   "source": [
    "str1.count(str1)"
   ]
  },
  {
   "cell_type": "code",
   "execution_count": 23,
   "id": "47891d68",
   "metadata": {},
   "outputs": [
    {
     "data": {
      "text/plain": [
       "0"
      ]
     },
     "execution_count": 23,
     "metadata": {},
     "output_type": "execute_result"
    }
   ],
   "source": [
    "str1.count('z')"
   ]
  },
  {
   "cell_type": "markdown",
   "id": "c18ec7de",
   "metadata": {},
   "source": [
    "**Replace**"
   ]
  },
  {
   "cell_type": "code",
   "execution_count": 27,
   "id": "ff23e9c5",
   "metadata": {},
   "outputs": [
    {
     "data": {
      "text/plain": [
       "'weLcome'"
      ]
     },
     "execution_count": 27,
     "metadata": {},
     "output_type": "execute_result"
    }
   ],
   "source": [
    "str1='welcome'\n",
    "# we replace 'l' with 'L'\n",
    "# we know srings are immutable\n",
    "# we cannot use index operations also\n",
    "# slice and concation \n",
    "# divide welcome: we come\n",
    "s1=str1[0:2]\n",
    "s2=str1[3:]\n",
    "combine=s1+\"L\"+s2\n",
    "combine"
   ]
  },
  {
   "cell_type": "code",
   "execution_count": 28,
   "id": "0ec4ee64",
   "metadata": {},
   "outputs": [
    {
     "data": {
      "text/plain": [
       "'L'"
      ]
     },
     "execution_count": 28,
     "metadata": {},
     "output_type": "execute_result"
    }
   ],
   "source": [
    "chr(ord('l')-32)      # try this"
   ]
  },
  {
   "cell_type": "code",
   "execution_count": 29,
   "id": "3cbb7c2d",
   "metadata": {},
   "outputs": [
    {
     "data": {
      "text/plain": [
       "'weLcome'"
      ]
     },
     "execution_count": 29,
     "metadata": {},
     "output_type": "execute_result"
    }
   ],
   "source": [
    "str1.replace('l','L')"
   ]
  },
  {
   "cell_type": "code",
   "execution_count": 30,
   "id": "58448adf",
   "metadata": {},
   "outputs": [
    {
     "data": {
      "text/plain": [
       "'weLLcome'"
      ]
     },
     "execution_count": 30,
     "metadata": {},
     "output_type": "execute_result"
    }
   ],
   "source": [
    "str1='wellcome'\n",
    "str1.replace('l',\"L\")"
   ]
  },
  {
   "cell_type": "markdown",
   "id": "ce525ea8",
   "metadata": {},
   "source": [
    "- by default replace will change all the occurences \n",
    "\n",
    "- count=-1 is responsible for that\n",
    "\n",
    "- which means we provide count also which how many i want to change\n",
    "\n",
    "- give welllcome and change count=1 and count=2 explore it\n"
   ]
  },
  {
   "cell_type": "code",
   "execution_count": 31,
   "id": "1dd81d0b",
   "metadata": {},
   "outputs": [
    {
     "data": {
      "text/plain": [
       "'weLllcome'"
      ]
     },
     "execution_count": 31,
     "metadata": {},
     "output_type": "execute_result"
    }
   ],
   "source": [
    "str1='welllcome'\n",
    "str1.replace('l','L',1)"
   ]
  },
  {
   "cell_type": "code",
   "execution_count": 32,
   "id": "5c1aadfc",
   "metadata": {},
   "outputs": [
    {
     "data": {
      "text/plain": [
       "'weLLlcome'"
      ]
     },
     "execution_count": 32,
     "metadata": {},
     "output_type": "execute_result"
    }
   ],
   "source": [
    "str1='welllcome'\n",
    "str1.replace('l','L',2)"
   ]
  },
  {
   "cell_type": "code",
   "execution_count": 49,
   "id": "95cba3e3",
   "metadata": {},
   "outputs": [
    {
     "data": {
      "text/plain": [
       "'resta$t'"
      ]
     },
     "execution_count": 49,
     "metadata": {},
     "output_type": "execute_result"
    }
   ],
   "source": [
    "str1='restart'\n",
    "str2=str1[2:7]\n",
    "m=str2.replace('r','$')\n",
    "slicing=str1[0:2]+m\n",
    "slicing\n"
   ]
  },
  {
   "cell_type": "code",
   "execution_count": 50,
   "id": "a84a1921",
   "metadata": {},
   "outputs": [
    {
     "data": {
      "text/plain": [
       "'resta$t'"
      ]
     },
     "execution_count": 50,
     "metadata": {},
     "output_type": "execute_result"
    }
   ],
   "source": [
    "str1='restart'        # this case\n",
    "str1[::-1].replace('r','$',1)[::-1]"
   ]
  },
  {
   "cell_type": "markdown",
   "id": "1273858e",
   "metadata": {},
   "source": [
    "**index and find method**"
   ]
  },
  {
   "cell_type": "markdown",
   "id": "d02486a3",
   "metadata": {},
   "source": [
    "- upper\n",
    "\n",
    "- casefold\n",
    "\n",
    "- capitalize\n",
    "\n",
    "- count\n",
    "\n",
    "- replace\n",
    "\n",
    "- index-find\n",
    "\n",
    "- split\n",
    "\n",
    "- strip\n",
    "\n",
    "- start with"
   ]
  },
  {
   "cell_type": "code",
   "execution_count": 52,
   "id": "6b710305",
   "metadata": {},
   "outputs": [
    {
     "data": {
      "text/plain": [
       "['__add__',\n",
       " '__class__',\n",
       " '__contains__',\n",
       " '__delattr__',\n",
       " '__dir__',\n",
       " '__doc__',\n",
       " '__eq__',\n",
       " '__format__',\n",
       " '__ge__',\n",
       " '__getattribute__',\n",
       " '__getitem__',\n",
       " '__getnewargs__',\n",
       " '__gt__',\n",
       " '__hash__',\n",
       " '__init__',\n",
       " '__init_subclass__',\n",
       " '__iter__',\n",
       " '__le__',\n",
       " '__len__',\n",
       " '__lt__',\n",
       " '__mod__',\n",
       " '__mul__',\n",
       " '__ne__',\n",
       " '__new__',\n",
       " '__reduce__',\n",
       " '__reduce_ex__',\n",
       " '__repr__',\n",
       " '__rmod__',\n",
       " '__rmul__',\n",
       " '__setattr__',\n",
       " '__sizeof__',\n",
       " '__str__',\n",
       " '__subclasshook__',\n",
       " 'capitalize',\n",
       " 'casefold',\n",
       " 'center',\n",
       " 'count',\n",
       " 'encode',\n",
       " 'endswith',\n",
       " 'expandtabs',\n",
       " 'find',\n",
       " 'format',\n",
       " 'format_map',\n",
       " 'index',\n",
       " 'isalnum',\n",
       " 'isalpha',\n",
       " 'isascii',\n",
       " 'isdecimal',\n",
       " 'isdigit',\n",
       " 'isidentifier',\n",
       " 'islower',\n",
       " 'isnumeric',\n",
       " 'isprintable',\n",
       " 'isspace',\n",
       " 'istitle',\n",
       " 'isupper',\n",
       " 'join',\n",
       " 'ljust',\n",
       " 'lower',\n",
       " 'lstrip',\n",
       " 'maketrans',\n",
       " 'partition',\n",
       " 'removeprefix',\n",
       " 'removesuffix',\n",
       " 'replace',\n",
       " 'rfind',\n",
       " 'rindex',\n",
       " 'rjust',\n",
       " 'rpartition',\n",
       " 'rsplit',\n",
       " 'rstrip',\n",
       " 'split',\n",
       " 'splitlines',\n",
       " 'startswith',\n",
       " 'strip',\n",
       " 'swapcase',\n",
       " 'title',\n",
       " 'translate',\n",
       " 'upper',\n",
       " 'zfill']"
      ]
     },
     "execution_count": 52,
     "metadata": {},
     "output_type": "execute_result"
    }
   ],
   "source": [
    "dir('')"
   ]
  },
  {
   "cell_type": "code",
   "execution_count": 54,
   "id": "833353ca",
   "metadata": {},
   "outputs": [
    {
     "data": {
      "text/plain": [
       "False"
      ]
     },
     "execution_count": 54,
     "metadata": {},
     "output_type": "execute_result"
    }
   ],
   "source": [
    "str1='hello'\n",
    "str1.isupper()"
   ]
  },
  {
   "cell_type": "code",
   "execution_count": 55,
   "id": "c4bc4cbc",
   "metadata": {},
   "outputs": [
    {
     "data": {
      "text/plain": [
       "True"
      ]
     },
     "execution_count": 55,
     "metadata": {},
     "output_type": "execute_result"
    }
   ],
   "source": [
    "str1.islower()"
   ]
  },
  {
   "cell_type": "code",
   "execution_count": 57,
   "id": "821750fb",
   "metadata": {},
   "outputs": [
    {
     "data": {
      "text/plain": [
       "True"
      ]
     },
     "execution_count": 57,
     "metadata": {},
     "output_type": "execute_result"
    }
   ],
   "source": [
    "str1='hello12'\n",
    "str1.isalnum()"
   ]
  },
  {
   "cell_type": "code",
   "execution_count": 3,
   "id": "1d200551",
   "metadata": {},
   "outputs": [
    {
     "data": {
      "text/plain": [
       "True"
      ]
     },
     "execution_count": 3,
     "metadata": {},
     "output_type": "execute_result"
    }
   ],
   "source": [
    "str1='mani'\n",
    "str1.isascii()"
   ]
  },
  {
   "cell_type": "markdown",
   "id": "bd38eb01",
   "metadata": {},
   "source": [
    "**Index**\n",
    "\n",
    "- it will give the index of a given string \n",
    "\n",
    "- we already seen about count\n",
    "\n",
    "    - at what index we can count \n",
    "    \n",
    "    - between indexes also we can count the letters\n",
    "    \n",
    "- index means it will provide the index\n",
    "\n",
    "- imagine the there is same letters repeated\n",
    "\n",
    "- how can we find the next index"
   ]
  },
  {
   "cell_type": "code",
   "execution_count": 4,
   "id": "1644c08c",
   "metadata": {},
   "outputs": [
    {
     "data": {
      "text/plain": [
       "1"
      ]
     },
     "execution_count": 4,
     "metadata": {},
     "output_type": "execute_result"
    }
   ],
   "source": [
    "# h a i   h a i   h a i\n",
    "# 0 1 2 3 4 5 6 7 8 9 10\n",
    "str1='hai hai hai'\n",
    "str1.index('a')\n",
    "\n",
    "# return the lowest index in s where substring  sub is found"
   ]
  },
  {
   "cell_type": "code",
   "execution_count": 5,
   "id": "6b43d6bd",
   "metadata": {},
   "outputs": [
    {
     "data": {
      "text/plain": [
       "5"
      ]
     },
     "execution_count": 5,
     "metadata": {},
     "output_type": "execute_result"
    }
   ],
   "source": [
    "str1.index('a',3)"
   ]
  },
  {
   "cell_type": "code",
   "execution_count": 6,
   "id": "a33cf5f1",
   "metadata": {},
   "outputs": [
    {
     "data": {
      "text/plain": [
       "5"
      ]
     },
     "execution_count": 6,
     "metadata": {},
     "output_type": "execute_result"
    }
   ],
   "source": [
    "str1.index('a',3,10)\n",
    "\n",
    "# between 3 to 10 the lowest index is 5 only "
   ]
  },
  {
   "cell_type": "code",
   "execution_count": 8,
   "id": "5c6c1fb9",
   "metadata": {},
   "outputs": [
    {
     "data": {
      "text/plain": [
       "9"
      ]
     },
     "execution_count": 8,
     "metadata": {},
     "output_type": "execute_result"
    }
   ],
   "source": [
    "str1.index('a',-5,-1)"
   ]
  },
  {
   "cell_type": "code",
   "execution_count": 10,
   "id": "39aa9893",
   "metadata": {},
   "outputs": [
    {
     "ename": "ValueError",
     "evalue": "substring not found",
     "output_type": "error",
     "traceback": [
      "\u001b[1;31m---------------------------------------------------------------------------\u001b[0m",
      "\u001b[1;31mValueError\u001b[0m                                Traceback (most recent call last)",
      "\u001b[1;32m~\\AppData\\Local\\Temp\\ipykernel_21092\\3598785159.py\u001b[0m in \u001b[0;36m<module>\u001b[1;34m\u001b[0m\n\u001b[1;32m----> 1\u001b[1;33m \u001b[0mstr1\u001b[0m\u001b[1;33m.\u001b[0m\u001b[0mindex\u001b[0m\u001b[1;33m(\u001b[0m\u001b[1;34m'a'\u001b[0m\u001b[1;33m,\u001b[0m\u001b[1;33m-\u001b[0m\u001b[1;36m9\u001b[0m\u001b[1;33m,\u001b[0m\u001b[1;33m-\u001b[0m\u001b[1;36m7\u001b[0m\u001b[1;33m)\u001b[0m\u001b[1;33m\u001b[0m\u001b[1;33m\u001b[0m\u001b[0m\n\u001b[0m\u001b[0;32m      2\u001b[0m \u001b[1;33m\u001b[0m\u001b[0m\n\u001b[0;32m      3\u001b[0m \u001b[1;31m# here the end value will give end-1\u001b[0m\u001b[1;33m\u001b[0m\u001b[1;33m\u001b[0m\u001b[0m\n",
      "\u001b[1;31mValueError\u001b[0m: substring not found"
     ]
    }
   ],
   "source": [
    "str1.index('a',-9,-7)\n",
    "\n",
    "# here the end value will give end-1"
   ]
  },
  {
   "cell_type": "code",
   "execution_count": 18,
   "id": "577ccb9a",
   "metadata": {},
   "outputs": [
    {
     "name": "stdout",
     "output_type": "stream",
     "text": [
      "1 5 9\n"
     ]
    }
   ],
   "source": [
    "str1='hai hai hai'\n",
    "s1=str1.index('a')\n",
    "s2=str1.index('a',s1+1)\n",
    "s3=str1.index('a',s2+1)\n",
    "print(s1,s2,s3)"
   ]
  },
  {
   "cell_type": "code",
   "execution_count": null,
   "id": "4270ba8d",
   "metadata": {},
   "outputs": [],
   "source": [
    "# homework is implement above logic to get all the indexes"
   ]
  },
  {
   "cell_type": "code",
   "execution_count": 23,
   "id": "d73d8899",
   "metadata": {},
   "outputs": [
    {
     "name": "stdout",
     "output_type": "stream",
     "text": [
      "1 5 9\n"
     ]
    }
   ],
   "source": [
    "str1='hai hai hai'\n",
    "for i in range(len(str1)):\n",
    "    if str1.index('a'):\n",
    "        s11=str1.index('a')\n",
    "        s22=str1.index('a',s11+1)\n",
    "        s33=str1.index('a',s22+1)\n",
    "print(s11,s22,s33)"
   ]
  },
  {
   "cell_type": "markdown",
   "id": "5581c85e",
   "metadata": {},
   "source": [
    "**Find**"
   ]
  },
  {
   "cell_type": "code",
   "execution_count": 26,
   "id": "702f72c1",
   "metadata": {},
   "outputs": [
    {
     "data": {
      "text/plain": [
       "5"
      ]
     },
     "execution_count": 26,
     "metadata": {},
     "output_type": "execute_result"
    }
   ],
   "source": [
    "str1='hai hai hai'\n",
    "str1.find('a',3)"
   ]
  },
  {
   "cell_type": "code",
   "execution_count": 27,
   "id": "a644578b",
   "metadata": {},
   "outputs": [
    {
     "data": {
      "text/plain": [
       "-1"
      ]
     },
     "execution_count": 27,
     "metadata": {},
     "output_type": "execute_result"
    }
   ],
   "source": [
    "str1.find('z')"
   ]
  },
  {
   "cell_type": "code",
   "execution_count": 28,
   "id": "fe66fcc0",
   "metadata": {},
   "outputs": [
    {
     "data": {
      "text/plain": [
       "'hai hai hai'"
      ]
     },
     "execution_count": 28,
     "metadata": {},
     "output_type": "execute_result"
    }
   ],
   "source": [
    "str1.replace('z','Z')     # if it is not found it will return same string as we given"
   ]
  },
  {
   "cell_type": "markdown",
   "id": "f4fabe6f",
   "metadata": {},
   "source": [
    "- count will give substring not found\n",
    "\n",
    "- count method will give 0\n",
    "\n",
    "- replace method will give original string \n",
    "\n",
    "- index will give **sub string not found error**\n",
    "\n",
    "- find will give -1"
   ]
  },
  {
   "cell_type": "code",
   "execution_count": 42,
   "id": "ddaf36aa",
   "metadata": {},
   "outputs": [
    {
     "name": "stdout",
     "output_type": "stream",
     "text": [
      "5\n",
      "15\n",
      "25\n"
     ]
    }
   ],
   "source": [
    "str1='omkar.nallagoni@cognizent.com'\n",
    "# first name= omkar\n",
    "# second name=nallgoni\n",
    "# company name= cognizent\n",
    "print(str1.index('.'))\n",
    "print(str1.index('@'))\n",
    "print(str1.index('.',16))"
   ]
  },
  {
   "cell_type": "code",
   "execution_count": 43,
   "id": "a1aaa046",
   "metadata": {},
   "outputs": [
    {
     "name": "stdout",
     "output_type": "stream",
     "text": [
      "first name:  omkar\n",
      "second name:  nallagoni\n",
      "company name:  cognizent\n"
     ]
    }
   ],
   "source": [
    "first_name=str1[0:5]\n",
    "second_name=str1[6:15]\n",
    "company_name=str1[16:25]\n",
    "print('first name: ',first_name)\n",
    "print('second name: ',second_name)\n",
    "print('company name: ',company_name)"
   ]
  },
  {
   "cell_type": "code",
   "execution_count": 45,
   "id": "85c652e6",
   "metadata": {},
   "outputs": [
    {
     "name": "stdout",
     "output_type": "stream",
     "text": [
      "maniteja\n",
      "sompalli\n",
      "google\n"
     ]
    }
   ],
   "source": [
    "str1='maniteja.sompalli@google.com'\n",
    "\n",
    "i1=str1.index('.')\n",
    "i2=str1.index('@')\n",
    "i3=str1.index('.',i1+1)\n",
    "first_name=str1[:i1]\n",
    "second_name=str1[i1+1:i2]\n",
    "company_name=str1[i2+1:i3]\n",
    "print(first_name)\n",
    "print(second_name)\n",
    "print(company_name)"
   ]
  },
  {
   "cell_type": "code",
   "execution_count": null,
   "id": "4a1551e8",
   "metadata": {},
   "outputs": [],
   "source": []
  }
 ],
 "metadata": {
  "kernelspec": {
   "display_name": "Python 3 (ipykernel)",
   "language": "python",
   "name": "python3"
  },
  "language_info": {
   "codemirror_mode": {
    "name": "ipython",
    "version": 3
   },
   "file_extension": ".py",
   "mimetype": "text/x-python",
   "name": "python",
   "nbconvert_exporter": "python",
   "pygments_lexer": "ipython3",
   "version": "3.9.13"
  }
 },
 "nbformat": 4,
 "nbformat_minor": 5
}
