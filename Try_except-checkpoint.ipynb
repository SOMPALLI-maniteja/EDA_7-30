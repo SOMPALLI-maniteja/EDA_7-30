{
 "cells": [
  {
   "cell_type": "markdown",
   "id": "8e694f23",
   "metadata": {},
   "source": [
    "**try-except**\n",
    "\n",
    "- e=generally the real time we will write  n number of pyhtonlines\n",
    "\n",
    "- there is a situation we might get an error, that error might be unknown \n",
    "\n",
    "- these unknown errors doesnt harm \n",
    "\n",
    "- even though we are getting error we need to proceed further \n",
    "\n",
    "- also we need to cstch that error \n",
    "\n",
    "- because we already known pyhton is a sequential process\n",
    "\n",
    "- means the lines will execute step by step\n",
    "\n",
    "- suppose you have an error at particular line, the code execution will stop at the line only\n",
    "\n",
    "- but you know the error is not harmful\n",
    "\n",
    "- so you want to continue the execution\n",
    "\n",
    "- then we required try exception\n"
   ]
  },
  {
   "cell_type": "markdown",
   "id": "fbba24ff",
   "metadata": {},
   "source": [
    "- try-except has two blocks\n",
    "\n",
    "- try is actual block\n",
    "\n",
    "- except block will catch the error\n"
   ]
  },
  {
   "cell_type": "code",
   "execution_count": 2,
   "id": "4b10f10e",
   "metadata": {},
   "outputs": [
    {
     "name": "stdout",
     "output_type": "stream",
     "text": [
      "enter the number: 10\n",
      "enter the number: five\n",
      "hello\n",
      "ou are getting an error plz check the code properly\n"
     ]
    }
   ],
   "source": [
    "try:\n",
    "    n1=eval(input(\"enter the number: \"))\n",
    "    n2=eval(input(\"enter the number: \"))\n",
    "    add=n1+n2\n",
    "    print(add)\n",
    "except:\n",
    "    print(\"hello\")\n",
    "    print(\"ou are getting an error plz check the code properly\")\n"
   ]
  },
  {
   "cell_type": "markdown",
   "id": "f384b22d",
   "metadata": {},
   "source": [
    "- generally try catch block use  to catch the error"
   ]
  },
  {
   "cell_type": "code",
   "execution_count": 7,
   "id": "007dc9c0",
   "metadata": {},
   "outputs": [
    {
     "name": "stdout",
     "output_type": "stream",
     "text": [
      "enter the number: 10\n",
      "enter the number: 0\n",
      "the error is division by zero\n"
     ]
    }
   ],
   "source": [
    "try:\n",
    "    n1=eval(input(\"enter the number: \"))\n",
    "    n2=eval(input(\"enter the number: \"))\n",
    "    add=n1+n2\n",
    "    div=n1/n2\n",
    "    print(add)\n",
    "    print(div)\n",
    "except Exception as e:\n",
    "    print(f'the error is {e}')\n",
    "    "
   ]
  },
  {
   "cell_type": "code",
   "execution_count": null,
   "id": "dd700b55",
   "metadata": {},
   "outputs": [],
   "source": []
  },
  {
   "cell_type": "code",
   "execution_count": null,
   "id": "64b391f8",
   "metadata": {},
   "outputs": [],
   "source": []
  }
 ],
 "metadata": {
  "kernelspec": {
   "display_name": "Python 3 (ipykernel)",
   "language": "python",
   "name": "python3"
  },
  "language_info": {
   "codemirror_mode": {
    "name": "ipython",
    "version": 3
   },
   "file_extension": ".py",
   "mimetype": "text/x-python",
   "name": "python",
   "nbconvert_exporter": "python",
   "pygments_lexer": "ipython3",
   "version": "3.9.13"
  }
 },
 "nbformat": 4,
 "nbformat_minor": 5
}
