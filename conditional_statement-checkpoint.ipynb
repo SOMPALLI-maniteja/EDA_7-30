{
 "cells": [
  {
   "cell_type": "markdown",
   "id": "013e43dd",
   "metadata": {},
   "source": [
    "**conditonal statements**"
   ]
  },
  {
   "cell_type": "markdown",
   "id": "09673737",
   "metadata": {},
   "source": [
    "- conditional statements means we run code based on the  condition\n",
    "\n",
    "- if rain comes  i am not go to institute otherwise i will go to movie\n",
    "\n",
    "- rain is there will effect one process \n",
    "\n",
    "- rain is not ther it will effect another process\n",
    "\n",
    "- if \n",
    "\n",
    "- elif\n",
    "\n",
    "- else"
   ]
  },
  {
   "cell_type": "markdown",
   "id": "d1f17095",
   "metadata": {},
   "source": [
    "**if**"
   ]
  },
  {
   "cell_type": "code",
   "execution_count": null,
   "id": "69bbfbfc",
   "metadata": {},
   "outputs": [],
   "source": [
    "#syntax\n",
    "\n",
    "if<condition>:\n",
    "    <codeline1>\n",
    "    <codeline2>"
   ]
  },
  {
   "cell_type": "markdown",
   "id": "7c7cb5db",
   "metadata": {},
   "source": [
    "- when ever any line start with keyword(green) at the end we use :\n",
    "    \n",
    "- when ever (:) is there next lines start with some gap\n",
    "\n",
    "- and this gap is called **indentation**\n",
    "\n",
    "- how many lines we are maintaining gap (indentation) that all are the one area"
   ]
  },
  {
   "cell_type": "markdown",
   "id": "43c7418f",
   "metadata": {},
   "source": [
    "- if  is a conditional statment it checksnthe condition is True or False\n",
    "\n",
    "- if it is true only it enters into insidde the if area\n",
    "\n",
    "- and exevutes that code lines\n",
    "\n",
    "- if not it will not enter into the if area\n",
    "\n",
    "- and it not executes the code\n"
   ]
  },
  {
   "cell_type": "code",
   "execution_count": 2,
   "id": "9260b932",
   "metadata": {},
   "outputs": [
    {
     "ename": "IndentationError",
     "evalue": "expected an indented block (2469851933.py, line 2)",
     "output_type": "error",
     "traceback": [
      "\u001b[1;36m  File \u001b[1;32m\"C:\\Users\\maniteja\\AppData\\Local\\Temp\\ipykernel_17028\\2469851933.py\"\u001b[1;36m, line \u001b[1;32m2\u001b[0m\n\u001b[1;33m    print(\"hello\")\u001b[0m\n\u001b[1;37m    ^\u001b[0m\n\u001b[1;31mIndentationError\u001b[0m\u001b[1;31m:\u001b[0m expected an indented block\n"
     ]
    }
   ],
   "source": [
    "if 10>5:\n",
    "print(\"hello\")"
   ]
  },
  {
   "cell_type": "code",
   "execution_count": 3,
   "id": "51a83071",
   "metadata": {},
   "outputs": [
    {
     "name": "stdout",
     "output_type": "stream",
     "text": [
      "hello\n"
     ]
    }
   ],
   "source": [
    "if 10>5:\n",
    "    print(\"hello\")\n",
    "    \n",
    "    \n",
    "# indentation requires 4 spaces"
   ]
  },
  {
   "cell_type": "code",
   "execution_count": 6,
   "id": "5636daf5",
   "metadata": {},
   "outputs": [
    {
     "name": "stdout",
     "output_type": "stream",
     "text": [
      "mani\n"
     ]
    }
   ],
   "source": [
    "if(1):\n",
    "    print(\"mani\")"
   ]
  },
  {
   "cell_type": "markdown",
   "id": "a215b5e0",
   "metadata": {},
   "source": [
    "**mistakes**"
   ]
  },
  {
   "cell_type": "markdown",
   "id": "dcacb168",
   "metadata": {},
   "source": [
    "- indentation\n",
    "\n",
    "- conditon\n",
    "\n",
    "- colon(:)\n",
    "\n",
    "- missing bracktes\n",
    "\n",
    "- never assign a variable to a print statements print will use for the see the answer"
   ]
  },
  {
   "cell_type": "code",
   "execution_count": 10,
   "id": "c035a32f",
   "metadata": {},
   "outputs": [
    {
     "name": "stdout",
     "output_type": "stream",
     "text": [
      "hi\n",
      "mani\n"
     ]
    }
   ],
   "source": [
    "\n",
    "if 100>10:\n",
    "    print(\"hi\")\n",
    "    \n",
    "print(\"mani\")"
   ]
  },
  {
   "cell_type": "code",
   "execution_count": 11,
   "id": "2c498518",
   "metadata": {},
   "outputs": [
    {
     "name": "stdout",
     "output_type": "stream",
     "text": [
      "10\n",
      "hi\n",
      "mani\n"
     ]
    }
   ],
   "source": [
    "print(10)\n",
    "if 100>10:\n",
    "    print(\"hi\")\n",
    "    \n",
    "print(\"mani\")"
   ]
  },
  {
   "cell_type": "code",
   "execution_count": 12,
   "id": "62d6701c",
   "metadata": {},
   "outputs": [
    {
     "name": "stdout",
     "output_type": "stream",
     "text": [
      "10\n",
      "hi\n",
      "mani\n"
     ]
    }
   ],
   "source": [
    "print(10)\n",
    "if 'hey':\n",
    "    print(\"hi\")\n",
    "    \n",
    "print(\"mani\")"
   ]
  },
  {
   "cell_type": "code",
   "execution_count": 13,
   "id": "2761eb54",
   "metadata": {},
   "outputs": [
    {
     "name": "stdout",
     "output_type": "stream",
     "text": [
      "10\n",
      "mani\n"
     ]
    }
   ],
   "source": [
    "print(10)\n",
    "if '':\n",
    "    print(\"hi\")\n",
    "    \n",
    "print(\"mani\")"
   ]
  },
  {
   "cell_type": "code",
   "execution_count": 14,
   "id": "86f2ede9",
   "metadata": {},
   "outputs": [
    {
     "name": "stdout",
     "output_type": "stream",
     "text": [
      "10\n",
      "mani\n"
     ]
    }
   ],
   "source": [
    "print(10)\n",
    "if 0.0:\n",
    "    print(\"hi\")\n",
    "    \n",
    "print(\"mani\")"
   ]
  },
  {
   "cell_type": "code",
   "execution_count": 15,
   "id": "d6b602a3",
   "metadata": {},
   "outputs": [
    {
     "name": "stdout",
     "output_type": "stream",
     "text": [
      "10\n",
      "mani\n"
     ]
    }
   ],
   "source": [
    "print(10)\n",
    "if _:\n",
    "    print(\"hi\")\n",
    "    \n",
    "print(\"mani\")"
   ]
  },
  {
   "cell_type": "code",
   "execution_count": 16,
   "id": "3ae42320",
   "metadata": {},
   "outputs": [
    {
     "name": "stdout",
     "output_type": "stream",
     "text": [
      "10\n"
     ]
    },
    {
     "ename": "NameError",
     "evalue": "name 'true' is not defined",
     "output_type": "error",
     "traceback": [
      "\u001b[1;31m---------------------------------------------------------------------------\u001b[0m",
      "\u001b[1;31mNameError\u001b[0m                                 Traceback (most recent call last)",
      "\u001b[1;32m~\\AppData\\Local\\Temp\\ipykernel_17028\\28938944.py\u001b[0m in \u001b[0;36m<module>\u001b[1;34m\u001b[0m\n\u001b[0;32m      1\u001b[0m \u001b[0mprint\u001b[0m\u001b[1;33m(\u001b[0m\u001b[1;36m10\u001b[0m\u001b[1;33m)\u001b[0m\u001b[1;33m\u001b[0m\u001b[1;33m\u001b[0m\u001b[0m\n\u001b[1;32m----> 2\u001b[1;33m \u001b[1;32mif\u001b[0m \u001b[0mtrue\u001b[0m\u001b[1;33m:\u001b[0m\u001b[1;33m\u001b[0m\u001b[1;33m\u001b[0m\u001b[0m\n\u001b[0m\u001b[0;32m      3\u001b[0m     \u001b[0mprint\u001b[0m\u001b[1;33m(\u001b[0m\u001b[1;34m\"hi\"\u001b[0m\u001b[1;33m)\u001b[0m\u001b[1;33m\u001b[0m\u001b[1;33m\u001b[0m\u001b[0m\n\u001b[0;32m      4\u001b[0m \u001b[1;33m\u001b[0m\u001b[0m\n\u001b[0;32m      5\u001b[0m \u001b[0mprint\u001b[0m\u001b[1;33m(\u001b[0m\u001b[1;34m\"mani\"\u001b[0m\u001b[1;33m)\u001b[0m\u001b[1;33m\u001b[0m\u001b[1;33m\u001b[0m\u001b[0m\n",
      "\u001b[1;31mNameError\u001b[0m: name 'true' is not defined"
     ]
    }
   ],
   "source": [
    "print(10)\n",
    "if true:\n",
    "    print(\"hi\")\n",
    "    \n",
    "print(\"mani\")"
   ]
  },
  {
   "cell_type": "markdown",
   "id": "72cf849a",
   "metadata": {},
   "source": [
    "**if-else**\n",
    "\n",
    "- if required the condition True, then it will execute if block\n",
    "\n",
    "- otherwise it can directly go to else block\n",
    "\n",
    "- so else block does not required any condition"
   ]
  },
  {
   "cell_type": "code",
   "execution_count": null,
   "id": "5e7ac375",
   "metadata": {},
   "outputs": [],
   "source": [
    "# syntax\n",
    "\n",
    "if<condition>:\n",
    "    <codelines>\n",
    "else:\n",
    "    <codelines>"
   ]
  },
  {
   "cell_type": "code",
   "execution_count": 17,
   "id": "e9b3d9cc",
   "metadata": {},
   "outputs": [
    {
     "name": "stdout",
     "output_type": "stream",
     "text": [
      "enter a number: 10\n",
      "mani\n"
     ]
    }
   ],
   "source": [
    "n=eval(input(\"enter a number: \"))\n",
    "if n>5:\n",
    "    print(\"mani\")\n",
    "else:\n",
    "    print(\"manu\")"
   ]
  },
  {
   "cell_type": "code",
   "execution_count": 19,
   "id": "d018f3b6",
   "metadata": {},
   "outputs": [
    {
     "name": "stdout",
     "output_type": "stream",
     "text": [
      "hello\n",
      "mani\n"
     ]
    }
   ],
   "source": [
    "print(\"hello\")\n",
    "if 100>5:\n",
    "    print(\"mani\")\n",
    "else:\n",
    "    print(\"manu\")"
   ]
  },
  {
   "cell_type": "code",
   "execution_count": 21,
   "id": "29bb2010",
   "metadata": {},
   "outputs": [
    {
     "name": "stdout",
     "output_type": "stream",
     "text": [
      "10\n",
      "0\n",
      "10\n",
      "0.0\n"
     ]
    },
    {
     "ename": "ZeroDivisionError",
     "evalue": "division by zero",
     "output_type": "error",
     "traceback": [
      "\u001b[1;31m---------------------------------------------------------------------------\u001b[0m",
      "\u001b[1;31mZeroDivisionError\u001b[0m                         Traceback (most recent call last)",
      "\u001b[1;32m~\\AppData\\Local\\Temp\\ipykernel_17028\\860894319.py\u001b[0m in \u001b[0;36m<module>\u001b[1;34m\u001b[0m\n\u001b[0;32m      8\u001b[0m     \u001b[0md\u001b[0m\u001b[1;33m=\u001b[0m\u001b[0mb\u001b[0m\u001b[1;33m/\u001b[0m\u001b[0ma\u001b[0m\u001b[1;33m\u001b[0m\u001b[1;33m\u001b[0m\u001b[0m\n\u001b[0;32m      9\u001b[0m     \u001b[0mprint\u001b[0m\u001b[1;33m(\u001b[0m\u001b[0md\u001b[0m\u001b[1;33m)\u001b[0m\u001b[1;33m\u001b[0m\u001b[1;33m\u001b[0m\u001b[0m\n\u001b[1;32m---> 10\u001b[1;33m     \u001b[0mprint\u001b[0m\u001b[1;33m(\u001b[0m\u001b[0ma\u001b[0m\u001b[1;33m/\u001b[0m\u001b[0mb\u001b[0m\u001b[1;33m)\u001b[0m\u001b[1;33m\u001b[0m\u001b[1;33m\u001b[0m\u001b[0m\n\u001b[0m",
      "\u001b[1;31mZeroDivisionError\u001b[0m: division by zero"
     ]
    }
   ],
   "source": [
    "if True:\n",
    "    a=10\n",
    "    b=0\n",
    "    print(a)\n",
    "    print(b)\n",
    "    c=a+b\n",
    "    print(c)\n",
    "    d=b/a\n",
    "    print(d)\n",
    "    print(a/b)"
   ]
  },
  {
   "cell_type": "code",
   "execution_count": 23,
   "id": "633f67df",
   "metadata": {},
   "outputs": [
    {
     "data": {
      "text/plain": [
       "1.25"
      ]
     },
     "execution_count": 23,
     "metadata": {},
     "output_type": "execute_result"
    }
   ],
   "source": [
    "5/4               #divion\n"
   ]
  },
  {
   "cell_type": "code",
   "execution_count": 24,
   "id": "32142288",
   "metadata": {},
   "outputs": [
    {
     "data": {
      "text/plain": [
       "1"
      ]
     },
     "execution_count": 24,
     "metadata": {},
     "output_type": "execute_result"
    }
   ],
   "source": [
    "5//4           #floor division"
   ]
  },
  {
   "cell_type": "code",
   "execution_count": 26,
   "id": "73672dc4",
   "metadata": {},
   "outputs": [
    {
     "data": {
      "text/plain": [
       "1"
      ]
     },
     "execution_count": 26,
     "metadata": {},
     "output_type": "execute_result"
    }
   ],
   "source": [
    "#modulus operator\n",
    "5%4            #remainder"
   ]
  },
  {
   "cell_type": "code",
   "execution_count": 28,
   "id": "1f0e8086",
   "metadata": {},
   "outputs": [
    {
     "name": "stdout",
     "output_type": "stream",
     "text": [
      "enter a number: 5\n",
      "odd\n"
     ]
    }
   ],
   "source": [
    "# write the program ask the user enter a number \n",
    "#find even or odd number\n",
    "n=eval(input(\"enter a number: \"))\n",
    "if n%2==0:\n",
    "    print(\"even\")\n",
    "else:\n",
    "    print(\"odd\")"
   ]
  },
  {
   "cell_type": "code",
   "execution_count": 3,
   "id": "ea380b26",
   "metadata": {},
   "outputs": [
    {
     "name": "stdout",
     "output_type": "stream",
     "text": [
      "10\n",
      "even\n"
     ]
    }
   ],
   "source": [
    "# write the program ask the user enter a number \n",
    "#find even or odd number\n",
    "import random\n",
    "n=random.randint(10,50)\n",
    "print(n)\n",
    "if n%2==0:\n",
    "    print(\"even\")\n",
    "else:\n",
    "    print(\"odd\")"
   ]
  },
  {
   "cell_type": "code",
   "execution_count": 4,
   "id": "c5901f49",
   "metadata": {},
   "outputs": [
    {
     "name": "stdout",
     "output_type": "stream",
     "text": [
      "enter the start numver: 70\n",
      "enter the end number: 150\n",
      "125\n",
      "odd\n"
     ]
    }
   ],
   "source": [
    "# write the program ask the user enter a number \n",
    "#find even or odd number\n",
    "import random\n",
    "st=eval(input(\"enter the start numver: \"))\n",
    "end=eval(input(\"enter the end number: \"))\n",
    "n=random.randint(st,end)\n",
    "print(n)\n",
    "if n%2==0:\n",
    "    print(\"even\")\n",
    "else:\n",
    "    print(\"odd\")"
   ]
  },
  {
   "cell_type": "markdown",
   "id": "b7452fbc",
   "metadata": {},
   "source": [
    "- we providing values means hard coding\n",
    "\n",
    "- code should be always genric, with out hard codings"
   ]
  },
  {
   "cell_type": "code",
   "execution_count": 15,
   "id": "36c82631",
   "metadata": {},
   "outputs": [
    {
     "name": "stdout",
     "output_type": "stream",
     "text": [
      "enter the km for ur ride: 30\n",
      "enter the charge for 1 km: 10\n",
      "good news you have charge applicable for only remaining ater  25\n",
      "total charge for extra 20 charge is 300\n"
     ]
    }
   ],
   "source": [
    "distance=eval(input(\"enter the km for ur ride: \"))\n",
    "if distance>25:\n",
    "    charge=eval(input(\"enter the charge for 1 km: \"))\n",
    "    print(\"good news you have charge applicable for only remaining ater  25\")\n",
    "    total=distance*charge\n",
    "    print(f\"total charge for extra {charge_dis} charge is {total}\")\n",
    "    \n",
    "else:\n",
    "    print(\"free ride\")"
   ]
  },
  {
   "cell_type": "code",
   "execution_count": 9,
   "id": "d538daaa",
   "metadata": {},
   "outputs": [
    {
     "name": "stdout",
     "output_type": "stream",
     "text": [
      "enter the km for ur ride: 45\n",
      "enter the charge for 1 km: 20\n",
      "good news you have charge applicable for only remaining of 25\n",
      "total charge for extra 20 charge is 400\n"
     ]
    }
   ],
   "source": [
    "#write a program ask the user enter distance \n",
    "#if the distance is greater than 25 km \n",
    "#the enter the charge\n",
    "#make cutoff ditsance\n",
    "#print(total cost)\n",
    "#otherwise\n",
    "#print free ride\n",
    "\n",
    "distance=eval(input(\"enter the km for ur ride: \"))\n",
    "cutoff_distance=25\n",
    "if distance>25:\n",
    "    charge=eval(input(\"enter the charge for 1 km: \"))\n",
    "    print(\"good news you have charge applicable for only remaining ater  25\")\n",
    "    charge_dis=distance-cutoff_distance\n",
    "    total=charge_dis*charge\n",
    "    print(f\"total charge for extra {charge_dis} charge is {total}\")\n",
    "    \n",
    "else:\n",
    "    print(\"free ride\")"
   ]
  },
  {
   "cell_type": "code",
   "execution_count": 13,
   "id": "846273b2",
   "metadata": {},
   "outputs": [
    {
     "name": "stdout",
     "output_type": "stream",
     "text": [
      "enter the course: data science\n",
      "enter the institute: nareshit\n",
      "you are good\n"
     ]
    }
   ],
   "source": [
    "#wap ask the user enter the course \n",
    "# ask the user enter the instituute\n",
    "# if course equal to data science and institute equal to naresh it\n",
    "#print good\n",
    "#other wise ur bad\n",
    "\n",
    "\n",
    "\n",
    "course=input(\"enter the course: \")\n",
    "institute=input(\"enter the institute: \")\n",
    "if course=='data science' and institute=='nareshit':\n",
    "    print(\"you are good\")\n",
    "else:\n",
    "    print(\"ur bad\")"
   ]
  },
  {
   "cell_type": "code",
   "execution_count": 14,
   "id": "83d62548",
   "metadata": {},
   "outputs": [
    {
     "name": "stdout",
     "output_type": "stream",
     "text": [
      "enter the course: python\n",
      "enter the institute: nareshit\n",
      "you are good\n"
     ]
    }
   ],
   "source": [
    "course=input(\"enter the course: \")\n",
    "institute=input(\"enter the institute: \")\n",
    "if course=='data science' or institute=='nareshit':\n",
    "    print(\"you are good\")\n",
    "else:\n",
    "    print(\"ur bad\")"
   ]
  },
  {
   "cell_type": "code",
   "execution_count": 18,
   "id": "cf1d4c12",
   "metadata": {},
   "outputs": [
    {
     "name": "stdout",
     "output_type": "stream",
     "text": [
      "enter the number10\n",
      "enbter a number: 20\n",
      "enter the number17\n",
      "lose\n"
     ]
    }
   ],
   "source": [
    "# wap ask theu user enter a random b/w 1,10\n",
    "#ask the user to entre a number with keyboard\n",
    "#if num1 and num2 is equl\n",
    "#you will won\n",
    "#otherwise you will,loose\n",
    "\n",
    "\n",
    "start=eval(input(\"enter the number\"))\n",
    "end=eval(input('enbter a number: '))\n",
    "num1=random.randint(start,end)\n",
    "num2=eval(input(\"enter the number\"))\n",
    "\n",
    "if num1==num2:\n",
    "    print(\"won\")\n",
    "else:\n",
    "    print(\"lose\")"
   ]
  },
  {
   "cell_type": "markdown",
   "id": "f3fd1b73",
   "metadata": {},
   "source": [
    "- if-elif-else\n",
    "\n",
    "- two conditions means 3 results\n",
    "\n",
    "- if has one condition \n",
    "\n",
    "- elif has secound condition\n",
    "\n",
    "- if both are false then else block will executes "
   ]
  },
  {
   "cell_type": "code",
   "execution_count": null,
   "id": "2aefa858",
   "metadata": {},
   "outputs": [],
   "source": [
    "if<condition>:\n",
    "    <statement>\n",
    "elif <condition>:\n",
    "    <statement>\n",
    "else:\n",
    "    <statement>\n",
    "    \n",
    "    \n",
    "if-else\n",
    "if-elif-else\n",
    "if-elif-elif-else\n",
    "\n"
   ]
  },
  {
   "cell_type": "code",
   "execution_count": 21,
   "id": "2a9ec0a9",
   "metadata": {},
   "outputs": [
    {
     "name": "stdout",
     "output_type": "stream",
     "text": [
      "enter the number: 5\n",
      "enter a valid number\n"
     ]
    }
   ],
   "source": [
    "#wap ask the user enter anum\n",
    "#if num is equal to1 print 1\n",
    "#if num is equal to2 print 2\n",
    "#if num is equal to3 print 3\n",
    "#otherwise peint enter valid nmmber\n",
    "\n",
    "n=eval(input(\"enter the number: \"))\n",
    "\n",
    "if n==1:\n",
    "    print(\"1\")\n",
    "elif n==2:\n",
    "    print(\"2\")\n",
    "elif n==3:\n",
    "    print(\"3\")\n",
    "else:\n",
    "    print(\"enter a valid number\")"
   ]
  },
  {
   "cell_type": "code",
   "execution_count": 23,
   "id": "2094fca5",
   "metadata": {},
   "outputs": [
    {
     "name": "stdout",
     "output_type": "stream",
     "text": [
      "enter the number: 10\n",
      "positve\n"
     ]
    }
   ],
   "source": [
    "#wap ask the user enter a number\n",
    "#if number>0 print poistive\n",
    "#elif negative\n",
    "#otherwise it is 0\n",
    "\n",
    "num=eval(input(\"enter the number: \"))\n",
    "if num>0:\n",
    "    print(\"positve\")\n",
    "elif num<0:\n",
    "    print('negative')\n",
    "else:\n",
    "    print('zero')\n"
   ]
  },
  {
   "cell_type": "code",
   "execution_count": 25,
   "id": "39decc6d",
   "metadata": {},
   "outputs": [
    {
     "name": "stdout",
     "output_type": "stream",
     "text": [
      "enter the marks: 80\n",
      "B grade\n"
     ]
    }
   ],
   "source": [
    "#wap ask the user enter the percentage oa marks\n",
    "# if percn=entage is greater than 90 print a grade\n",
    "#if  percentage is b/w 70 to 90 print(b grade)\n",
    "\n",
    "\n",
    "marks=eval(input(\"enter the marks: \"))\n",
    "if marks>90:\n",
    "    print(\"A grade\")\n",
    "elif marks>=75:\n",
    "    print(\"B grade\")\n",
    "elif marks>=50:\n",
    "    print(\"c grade\")\n",
    "elif marks>=35:\n",
    "    print(\"D grade\")\n",
    "else:\n",
    "    print(\"fail\")"
   ]
  },
  {
   "cell_type": "code",
   "execution_count": 26,
   "id": "7c8e8fef",
   "metadata": {},
   "outputs": [
    {
     "name": "stdout",
     "output_type": "stream",
     "text": [
      "enter the age: 10\n",
      "nabba nibbi\n"
     ]
    }
   ],
   "source": [
    "#wap ask the user enter the ahe\n",
    "#if age>75m print oldage\n",
    "#if age b/w 50 to 75 senior\n",
    "# if age b/w 30 to  50 print middle age\n",
    "\n",
    "# if age b/w 15 to 30 print young age\n",
    "#if age less than 15 print(kid)\n",
    "\n",
    "\n",
    "age=eval(input(\"enter the age: \"))\n",
    "if age>75:\n",
    "    print(\"oldage\")\n",
    "elif age>50:\n",
    "    print(\"senior\")\n",
    "elif age>30:\n",
    "    print(\"middle age\")\n",
    "elif age>15:\n",
    "    print(\"young\")\n",
    "else:\n",
    "    print(\"nabba nibbi\")"
   ]
  },
  {
   "cell_type": "code",
   "execution_count": 4,
   "id": "42ca3a71",
   "metadata": {},
   "outputs": [
    {
     "name": "stdout",
     "output_type": "stream",
     "text": [
      "enter the number: 50\n",
      "enter the number: 25\n",
      "operation1 is addition\n",
      "operation1 is subtraction\n",
      "operation1 is multiplication\n",
      "operation1 is division\n",
      "enter the option between 1 to 4: 4\n",
      "divistion of num1 and num2 is:  2.0\n"
     ]
    }
   ],
   "source": [
    "''' wap  qsk the user enter the 2 num\n",
    "num1\n",
    "num2\n",
    "you need to print\n",
    "enter the operation 1 for addition\n",
    "enter the operation 2 for mult\n",
    "eneter operation 3 for sub\n",
    "enter operation 4 for div\n",
    "'''\n",
    "\n",
    "\n",
    "num1=eval(input(\"enter the number: \"))\n",
    "num2=eval(input('enter the number: '))\n",
    "print('operation1 is addition')\n",
    "print('operation1 is subtraction')\n",
    "print('operation1 is multiplication')\n",
    "print('operation1 is division')\n",
    "operation=eval(input('enter the option between 1 to 4: '))\n",
    "if operation==1:\n",
    "    a=num1+num2\n",
    "    print(\"addition of num1 and num2 is: \",a)\n",
    "elif operation ==2:\n",
    "    a=num1-num2\n",
    "    print(\"subtraction of num1 and num2 is: \",a)\n",
    "elif operation ==3:\n",
    "    a=num1*num2\n",
    "    print(\"multiplication of num1 and num2 is: \",a)\n",
    "elif operation==4:\n",
    "    a=num1/num2\n",
    "    print(\"divistion of num1 and num2 is: \",a)\n",
    "else:\n",
    "    print(\"enter a valid number\")\n",
    "    \n",
    "    \n",
    "    "
   ]
  },
  {
   "cell_type": "code",
   "execution_count": 8,
   "id": "51e145b8",
   "metadata": {},
   "outputs": [
    {
     "name": "stdout",
     "output_type": "stream",
     "text": [
      "enter the user gender: male\n",
      "enter the age of user: 55\n",
      "middle age men\n"
     ]
    }
   ],
   "source": [
    "'''wap ask the user enter the gender\n",
    "if gender is equal to make\n",
    "as the user eenter the age\n",
    "if age is greataer than 60 print ss\n",
    "age greater than 30 to 60 middle\n",
    "age b/w 15 to 30 prinmt youung man\n",
    "otherwise print boy\n",
    "elif gender is female\n",
    "as the user eenter the age\n",
    "if age is greataer than 60 print ss\n",
    "age greater than 30 to 60 middle\n",
    "age b/w 15 to 30 prinmt youung man\n",
    "otherwise print girl\n",
    "otherwise\n",
    "print enter a vaid gender\n",
    "'''\n",
    "gender=input(\"enter the user gender: \")\n",
    "if gender=='male':\n",
    "    age=eval(input(\"enter the age of user: \"))\n",
    "    if age>60:\n",
    "        print(\"senior citizen\")\n",
    "    elif age>30:\n",
    "        print(\"middle age men\")\n",
    "    elif age>15:\n",
    "        print(\"young boy\")\n",
    "    else:\n",
    "        print(\"boy\")\n",
    "elif gender=='female':\n",
    "    age=eval(input(\"enter the age of user: \"))\n",
    "    if age>60:\n",
    "        print(\"senior citizen\")\n",
    "    elif age>30:\n",
    "        print(\"middle age women\")\n",
    "    elif age>15:\n",
    "        print(\"young girl\")\n",
    "    else:\n",
    "        print(\"girl\")\n",
    "else:\n",
    "    print(\"enter a valid gender\")"
   ]
  },
  {
   "cell_type": "code",
   "execution_count": 11,
   "id": "fd078662",
   "metadata": {},
   "outputs": [
    {
     "name": "stdout",
     "output_type": "stream",
     "text": [
      "enter the number: 5\n",
      "positive\n"
     ]
    }
   ],
   "source": [
    "''' wap ask the uzer enter a number\n",
    "if numner is greater tha or equl to zero\n",
    "if greater thsn zero\n",
    "print zero\n",
    "else\n",
    "print\n",
    " positive\n",
    " else\n",
    " negative\n",
    " '''\n",
    "\n",
    "num= eval(input(\"enter the number: \"))\n",
    "if num>=0:\n",
    "    if num==0:\n",
    "        print(\"zero\")\n",
    "    else:\n",
    "        print(\"positive\")\n",
    "else:\n",
    "    print(\"negative\")"
   ]
  },
  {
   "cell_type": "code",
   "execution_count": null,
   "id": "2a6a1cb8",
   "metadata": {},
   "outputs": [],
   "source": [
    "'''take three numbers\n",
    "num1 and num2 num3\n",
    "find maximum value\n",
    "'''"
   ]
  }
 ],
 "metadata": {
  "kernelspec": {
   "display_name": "Python 3 (ipykernel)",
   "language": "python",
   "name": "python3"
  },
  "language_info": {
   "codemirror_mode": {
    "name": "ipython",
    "version": 3
   },
   "file_extension": ".py",
   "mimetype": "text/x-python",
   "name": "python",
   "nbconvert_exporter": "python",
   "pygments_lexer": "ipython3",
   "version": "3.9.13"
  }
 },
 "nbformat": 4,
 "nbformat_minor": 5
}
