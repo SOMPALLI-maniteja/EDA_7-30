{
 "cells": [
  {
   "cell_type": "markdown",
   "id": "904d5cfd",
   "metadata": {},
   "source": [
    "$input$\n",
    "\n",
    "- input keyword is used to take value from the user"
   ]
  },
  {
   "cell_type": "code",
   "execution_count": 1,
   "id": "f7693949",
   "metadata": {},
   "outputs": [
    {
     "name": "stdout",
     "output_type": "stream",
     "text": [
      "pyhton\n"
     ]
    },
    {
     "data": {
      "text/plain": [
       "'pyhton'"
      ]
     },
     "execution_count": 1,
     "metadata": {},
     "output_type": "execute_result"
    }
   ],
   "source": [
    "input()"
   ]
  },
  {
   "cell_type": "code",
   "execution_count": 3,
   "id": "947a4db5",
   "metadata": {},
   "outputs": [
    {
     "name": "stdout",
     "output_type": "stream",
     "text": [
      "lucky number is: 9\n"
     ]
    },
    {
     "data": {
      "text/plain": [
       "'9'"
      ]
     },
     "execution_count": 3,
     "metadata": {},
     "output_type": "execute_result"
    }
   ],
   "source": [
    "input(\"lucky number is: \")"
   ]
  },
  {
   "cell_type": "code",
   "execution_count": 4,
   "id": "59ae742f",
   "metadata": {},
   "outputs": [
    {
     "name": "stdout",
     "output_type": "stream",
     "text": [
      "100\n",
      "200\n"
     ]
    },
    {
     "data": {
      "text/plain": [
       "'200'"
      ]
     },
     "execution_count": 4,
     "metadata": {},
     "output_type": "execute_result"
    }
   ],
   "source": [
    "input()\n",
    "input()"
   ]
  },
  {
   "cell_type": "markdown",
   "id": "664b02a0",
   "metadata": {},
   "source": [
    "*note*\n",
    "\n",
    "- input always gives a string data type\n",
    "\n",
    "- in order to perform math calculations we need to convert into numerical format i.e int or float"
   ]
  },
  {
   "cell_type": "code",
   "execution_count": 6,
   "id": "154fe428",
   "metadata": {},
   "outputs": [
    {
     "name": "stdout",
     "output_type": "stream",
     "text": [
      "enter the num: 17000\n"
     ]
    }
   ],
   "source": [
    "m = int(input(\"enter the num: \"))"
   ]
  },
  {
   "cell_type": "code",
   "execution_count": 8,
   "id": "c8dbf8ad",
   "metadata": {},
   "outputs": [
    {
     "name": "stdout",
     "output_type": "stream",
     "text": [
      "enter the num: 100\n",
      "enter the num: 200\n"
     ]
    },
    {
     "data": {
      "text/plain": [
       "'100200'"
      ]
     },
     "execution_count": 8,
     "metadata": {},
     "output_type": "execute_result"
    }
   ],
   "source": [
    "m = input(\"enter the num: \")\n",
    "n= input(\"enter the num: \")\n",
    "k=m+n\n",
    "k\n"
   ]
  },
  {
   "cell_type": "code",
   "execution_count": 9,
   "id": "6e1fd528",
   "metadata": {},
   "outputs": [
    {
     "name": "stdout",
     "output_type": "stream",
     "text": [
      "enter the num: 100\n",
      "enter the num: 200\n"
     ]
    },
    {
     "data": {
      "text/plain": [
       "300"
      ]
     },
     "execution_count": 9,
     "metadata": {},
     "output_type": "execute_result"
    }
   ],
   "source": [
    "m =int(input(\"enter the num: \"))\n",
    "n= int(input(\"enter the num: \"))\n",
    "k=m+n\n",
    "k\n"
   ]
  },
  {
   "cell_type": "code",
   "execution_count": 11,
   "id": "54a134fa",
   "metadata": {},
   "outputs": [
    {
     "name": "stdout",
     "output_type": "stream",
     "text": [
      "enter the num: 100\n",
      "enter the num: 200\n"
     ]
    },
    {
     "data": {
      "text/plain": [
       "300"
      ]
     },
     "execution_count": 11,
     "metadata": {},
     "output_type": "execute_result"
    }
   ],
   "source": [
    "m = input(\"enter the num: \")\n",
    "n= input(\"enter the num: \")\n",
    "k=int(m)+int(n)\n",
    "k\n"
   ]
  },
  {
   "cell_type": "markdown",
   "id": "5f531477",
   "metadata": {},
   "source": [
    "$eval$\n",
    "\n",
    "- eval means evaluate \n",
    "\n",
    "- eval will take what ever we enter , eval will convert to corresponding datatype"
   ]
  },
  {
   "cell_type": "code",
   "execution_count": 12,
   "id": "ebc596c9",
   "metadata": {},
   "outputs": [
    {
     "name": "stdout",
     "output_type": "stream",
     "text": [
      "100\n"
     ]
    },
    {
     "data": {
      "text/plain": [
       "100"
      ]
     },
     "execution_count": 12,
     "metadata": {},
     "output_type": "execute_result"
    }
   ],
   "source": [
    "eval(input())"
   ]
  },
  {
   "cell_type": "code",
   "execution_count": 13,
   "id": "983db9aa",
   "metadata": {},
   "outputs": [
    {
     "name": "stdout",
     "output_type": "stream",
     "text": [
      "enter the num: 500\n",
      "enter the num: 400\n"
     ]
    },
    {
     "data": {
      "text/plain": [
       "900"
      ]
     },
     "execution_count": 13,
     "metadata": {},
     "output_type": "execute_result"
    }
   ],
   "source": [
    "m = eval(input(\"enter the num: \"))\n",
    "n= eval(input(\"enter the num: \"))\n",
    "k=m+n\n",
    "k\n"
   ]
  },
  {
   "cell_type": "code",
   "execution_count": 14,
   "id": "e561d3b3",
   "metadata": {},
   "outputs": [
    {
     "name": "stdout",
     "output_type": "stream",
     "text": [
      "enter the num: pytrhin\n"
     ]
    },
    {
     "ename": "NameError",
     "evalue": "name 'pytrhin' is not defined",
     "output_type": "error",
     "traceback": [
      "\u001b[1;31m---------------------------------------------------------------------------\u001b[0m",
      "\u001b[1;31mNameError\u001b[0m                                 Traceback (most recent call last)",
      "\u001b[1;32m~\\AppData\\Local\\Temp\\ipykernel_12080\\3191614484.py\u001b[0m in \u001b[0;36m<module>\u001b[1;34m\u001b[0m\n\u001b[1;32m----> 1\u001b[1;33m \u001b[0mm\u001b[0m \u001b[1;33m=\u001b[0m \u001b[0meval\u001b[0m\u001b[1;33m(\u001b[0m\u001b[0minput\u001b[0m\u001b[1;33m(\u001b[0m\u001b[1;34m\"enter the num: \"\u001b[0m\u001b[1;33m)\u001b[0m\u001b[1;33m)\u001b[0m\u001b[1;33m\u001b[0m\u001b[1;33m\u001b[0m\u001b[0m\n\u001b[0m\u001b[0;32m      2\u001b[0m \u001b[0mn\u001b[0m\u001b[1;33m=\u001b[0m \u001b[0meval\u001b[0m\u001b[1;33m(\u001b[0m\u001b[0minput\u001b[0m\u001b[1;33m(\u001b[0m\u001b[1;34m\"enter the num: \"\u001b[0m\u001b[1;33m)\u001b[0m\u001b[1;33m)\u001b[0m   \u001b[1;31m#it doesnt supprots the string data types\u001b[0m\u001b[1;33m\u001b[0m\u001b[1;33m\u001b[0m\u001b[0m\n\u001b[0;32m      3\u001b[0m \u001b[0mk\u001b[0m\u001b[1;33m=\u001b[0m\u001b[0mm\u001b[0m\u001b[1;33m+\u001b[0m\u001b[0mn\u001b[0m\u001b[1;33m\u001b[0m\u001b[1;33m\u001b[0m\u001b[0m\n\u001b[0;32m      4\u001b[0m \u001b[0mk\u001b[0m\u001b[1;33m\u001b[0m\u001b[1;33m\u001b[0m\u001b[0m\n",
      "\u001b[1;32m<string>\u001b[0m in \u001b[0;36m<module>\u001b[1;34m\u001b[0m\n",
      "\u001b[1;31mNameError\u001b[0m: name 'pytrhin' is not defined"
     ]
    }
   ],
   "source": [
    "m = eval(input(\"enter the num: \"))\n",
    "n= eval(input(\"enter the num: \"))   #it doesnt supprots the string data types\n",
    "k=m+n\n",
    "k\n"
   ]
  },
  {
   "cell_type": "code",
   "execution_count": null,
   "id": "6e7140d3",
   "metadata": {},
   "outputs": [],
   "source": [
    "#avg of 3 num\n",
    "# add sub div and mul\n",
    "#ask user enter radius and find the area of circle\n",
    "# ask the user how much that you pay\n",
    "# in percentage \n",
    "#user bill amount in dollars\n",
    "#print bill amount in rupees\n",
    "#assk user base and height and area of triangle\n",
    "#leng and breadth and find aera of rectangle "
   ]
  },
  {
   "cell_type": "code",
   "execution_count": 15,
   "id": "b76217f0",
   "metadata": {},
   "outputs": [
    {
     "name": "stdout",
     "output_type": "stream",
     "text": [
      "enter the num: 100\n",
      "enter the num: 200\n",
      "enter the num: 300\n"
     ]
    },
    {
     "data": {
      "text/plain": [
       "200.0"
      ]
     },
     "execution_count": 15,
     "metadata": {},
     "output_type": "execute_result"
    }
   ],
   "source": [
    "m = eval(input(\"enter the num: \"))\n",
    "n= eval(input(\"enter the num: \"))\n",
    "l= eval(input(\"enter the num: \"))\n",
    "k=(m+n+l)/3\n",
    "k\n"
   ]
  },
  {
   "cell_type": "code",
   "execution_count": 17,
   "id": "4df0434c",
   "metadata": {},
   "outputs": [
    {
     "name": "stdout",
     "output_type": "stream",
     "text": [
      "enter the num: 100\n",
      "enter the num: 200\n",
      "300\n",
      "-100\n",
      "20000\n",
      "0.5\n"
     ]
    }
   ],
   "source": [
    "m = eval(input(\"enter the num: \"))\n",
    "n= eval(input(\"enter the num: \"))\n",
    "print(m+n)\n",
    "print(m-n)\n",
    "print(m*n)\n",
    "print(m/n)\n"
   ]
  },
  {
   "cell_type": "code",
   "execution_count": 19,
   "id": "65cb3545",
   "metadata": {},
   "outputs": [
    {
     "name": "stdout",
     "output_type": "stream",
     "text": [
      "13\n",
      "the area of circle is : 530.66\n"
     ]
    }
   ],
   "source": [
    "#take radius of circle \n",
    "#take a pi value = 3.14\n",
    "#find the area of circle  pi*r*r\n",
    "radius=eval(input())\n",
    "pi=3.14\n",
    "area=pi*radius*radius\n",
    "print(f\"the area of circle is : {area}\")"
   ]
  },
  {
   "cell_type": "code",
   "execution_count": 21,
   "id": "c051ab43",
   "metadata": {},
   "outputs": [
    {
     "name": "stdout",
     "output_type": "stream",
     "text": [
      "10\n",
      "20\n",
      "area of triangle is : 100.0\n"
     ]
    }
   ],
   "source": [
    "#takethe base of triangle \n",
    "# take the height of the triangle\n",
    "#area of triangle is =1/2*base*height\n",
    "base=eval(input())\n",
    "height=eval(input())\n",
    "area=1/2*base*height\n",
    "print(f\"area of triangle is : {area}\")"
   ]
  },
  {
   "cell_type": "code",
   "execution_count": 22,
   "id": "e5476fab",
   "metadata": {},
   "outputs": [
    {
     "name": "stdout",
     "output_type": "stream",
     "text": [
      "1000\n",
      "10\n",
      "tip for the waiter: 100.0\n",
      "total bill is: 1100.0\n"
     ]
    }
   ],
   "source": [
    "#take the bill amount\n",
    "#take a tip percentage \n",
    "#calculte tip bill\n",
    "#calculte total bill\n",
    "\n",
    "bill_amount=eval(input())\n",
    "tip_percentage=eval(input())\n",
    "tip_bill = bill_amount*(tip_percentage)/100\n",
    "print(\"tip for the waiter:\",tip_bill)\n",
    "print(\"total bill is:\",bill_amount+tip_bill)"
   ]
  },
  {
   "cell_type": "code",
   "execution_count": 23,
   "id": "8b066d97",
   "metadata": {},
   "outputs": [
    {
     "name": "stdout",
     "output_type": "stream",
     "text": [
      "10\n",
      "20\n",
      "area of triangle is : 200\n"
     ]
    }
   ],
   "source": [
    "#takethe base of triangle \n",
    "# take the height of the triangle\n",
    "#area of triangle is =1/2*base*height\n",
    "length=eval(input())\n",
    "breadth=eval(input())\n",
    "area=length*breadth\n",
    "print(f\"area of triangle is : {area}\")"
   ]
  },
  {
   "cell_type": "code",
   "execution_count": null,
   "id": "5af40150",
   "metadata": {},
   "outputs": [],
   "source": []
  }
 ],
 "metadata": {
  "kernelspec": {
   "display_name": "Python 3 (ipykernel)",
   "language": "python",
   "name": "python3"
  },
  "language_info": {
   "codemirror_mode": {
    "name": "ipython",
    "version": 3
   },
   "file_extension": ".py",
   "mimetype": "text/x-python",
   "name": "python",
   "nbconvert_exporter": "python",
   "pygments_lexer": "ipython3",
   "version": "3.9.13"
  }
 },
 "nbformat": 4,
 "nbformat_minor": 5
}
