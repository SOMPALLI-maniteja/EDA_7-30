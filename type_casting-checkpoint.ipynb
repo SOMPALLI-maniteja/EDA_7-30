{
 "cells": [
  {
   "cell_type": "markdown",
   "id": "bf976717",
   "metadata": {},
   "source": [
    "**Type casting**\n",
    "\n",
    "- converting from one data type  to another data type is nothing but type casting\n",
    "\n",
    "- integer type to all other(float,str,bool)\n",
    "\n",
    "- float to other type(int,str,bool)\n",
    "\n",
    "- str to other type(int,float,bool)\n",
    "\n",
    "- bool to other type (int,float,str) data types"
   ]
  },
  {
   "cell_type": "markdown",
   "id": "c1b6b1c4",
   "metadata": {},
   "source": [
    "**int to other data types**"
   ]
  },
  {
   "cell_type": "markdown",
   "id": "70049236",
   "metadata": {},
   "source": [
    "$num-float$"
   ]
  },
  {
   "cell_type": "code",
   "execution_count": 3,
   "id": "f13d3f22",
   "metadata": {},
   "outputs": [
    {
     "data": {
      "text/plain": [
       "int"
      ]
     },
     "execution_count": 3,
     "metadata": {},
     "output_type": "execute_result"
    }
   ],
   "source": [
    "num = 100\n",
    "type(num)"
   ]
  },
  {
   "cell_type": "code",
   "execution_count": 6,
   "id": "be62cf38",
   "metadata": {},
   "outputs": [
    {
     "name": "stdout",
     "output_type": "stream",
     "text": [
      "100\n",
      "True\n",
      "100.0\n"
     ]
    }
   ],
   "source": [
    "n=str(num)\n",
    "n1=bool(n)\n",
    "n2=float(num)\n",
    "print(n)\n",
    "print(n1)\n",
    "print(n2)"
   ]
  },
  {
   "cell_type": "code",
   "execution_count": 7,
   "id": "ead2c668",
   "metadata": {},
   "outputs": [
    {
     "data": {
      "text/plain": [
       "False"
      ]
     },
     "execution_count": 7,
     "metadata": {},
     "output_type": "execute_result"
    }
   ],
   "source": [
    "# when integer of boolean comversion become false\n",
    "\n",
    "bool(0)"
   ]
  },
  {
   "cell_type": "markdown",
   "id": "1c86056b",
   "metadata": {},
   "source": [
    "**Note**\n",
    "\n",
    "- Integer =0 then only bool conversion becomes false\n",
    "\n",
    "- otherwise for any positive number or any negative number  it become True"
   ]
  },
  {
   "cell_type": "markdown",
   "id": "cad96463",
   "metadata": {},
   "source": [
    "**Float to other**"
   ]
  },
  {
   "cell_type": "code",
   "execution_count": 11,
   "id": "6894b681",
   "metadata": {},
   "outputs": [
    {
     "name": "stdout",
     "output_type": "stream",
     "text": [
      "200\n",
      "True\n"
     ]
    },
    {
     "data": {
      "text/plain": [
       "'200.5'"
      ]
     },
     "execution_count": 11,
     "metadata": {},
     "output_type": "execute_result"
    }
   ],
   "source": [
    "print(int(200.5))\n",
    "print(bool(200.5))\n",
    "str(200.5)"
   ]
  },
  {
   "cell_type": "code",
   "execution_count": 10,
   "id": "62240447",
   "metadata": {},
   "outputs": [
    {
     "data": {
      "text/plain": [
       "(200, '200.5', True)"
      ]
     },
     "execution_count": 10,
     "metadata": {},
     "output_type": "execute_result"
    }
   ],
   "source": [
    "int(200.5),str(200.5),bool(200.5)++++++++++"
   ]
  },
  {
   "cell_type": "markdown",
   "id": "79452058",
   "metadata": {},
   "source": [
    "**String to other **"
   ]
  },
  {
   "cell_type": "code",
   "execution_count": 14,
   "id": "8910659c",
   "metadata": {},
   "outputs": [
    {
     "ename": "ValueError",
     "evalue": "invalid literal for int() with base 10: 'apple'",
     "output_type": "error",
     "traceback": [
      "\u001b[1;31m---------------------------------------------------------------------------\u001b[0m",
      "\u001b[1;31mValueError\u001b[0m                                Traceback (most recent call last)",
      "\u001b[1;32m~\\AppData\\Local\\Temp\\ipykernel_8580\\3413201544.py\u001b[0m in \u001b[0;36m<module>\u001b[1;34m\u001b[0m\n\u001b[1;32m----> 1\u001b[1;33m \u001b[0mint\u001b[0m\u001b[1;33m(\u001b[0m\u001b[1;34m'apple'\u001b[0m\u001b[1;33m)\u001b[0m\u001b[1;33m,\u001b[0m\u001b[0mfloat\u001b[0m\u001b[1;33m(\u001b[0m\u001b[1;34m'apple'\u001b[0m\u001b[1;33m)\u001b[0m\u001b[1;33m\u001b[0m\u001b[1;33m\u001b[0m\u001b[0m\n\u001b[0m\u001b[0;32m      2\u001b[0m \u001b[0mprint\u001b[0m\u001b[1;33m(\u001b[0m\u001b[0mbool\u001b[0m\u001b[1;33m(\u001b[0m\u001b[1;34m'apple'\u001b[0m\u001b[1;33m)\u001b[0m\u001b[1;33m)\u001b[0m\u001b[1;33m\u001b[0m\u001b[1;33m\u001b[0m\u001b[0m\n",
      "\u001b[1;31mValueError\u001b[0m: invalid literal for int() with base 10: 'apple'"
     ]
    }
   ],
   "source": [
    "int('apple'),float('apple')"
   ]
  },
  {
   "cell_type": "code",
   "execution_count": 15,
   "id": "4d8c8501",
   "metadata": {},
   "outputs": [
    {
     "name": "stdout",
     "output_type": "stream",
     "text": [
      "True\n"
     ]
    }
   ],
   "source": [
    "print(bool('apple'))"
   ]
  },
  {
   "cell_type": "markdown",
   "id": "ab492a2d",
   "metadata": {},
   "source": [
    "- float is the boss \n",
    "\n",
    "- float of any value either it is in integer in strings formate\n",
    "\n",
    "- or float in strings format will works \n",
    "\n",
    "- but integer wil works only for integer in string format\n",
    "\n",
    "- integer type casting will fail for folat in string format"
   ]
  },
  {
   "cell_type": "code",
   "execution_count": 17,
   "id": "087e24e3",
   "metadata": {},
   "outputs": [
    {
     "data": {
      "text/plain": [
       "False"
      ]
     },
     "execution_count": 17,
     "metadata": {},
     "output_type": "execute_result"
    }
   ],
   "source": [
    "bool('') #Empty string of boolean will gives False"
   ]
  },
  {
   "cell_type": "markdown",
   "id": "8b677113",
   "metadata": {},
   "source": [
    "**boolean to other **"
   ]
  },
  {
   "cell_type": "code",
   "execution_count": 18,
   "id": "f85325ad",
   "metadata": {},
   "outputs": [
    {
     "data": {
      "text/plain": [
       "1"
      ]
     },
     "execution_count": 18,
     "metadata": {},
     "output_type": "execute_result"
    }
   ],
   "source": [
    "int(True)"
   ]
  },
  {
   "cell_type": "code",
   "execution_count": 19,
   "id": "0e4ff868",
   "metadata": {},
   "outputs": [
    {
     "data": {
      "text/plain": [
       "'True'"
      ]
     },
     "execution_count": 19,
     "metadata": {},
     "output_type": "execute_result"
    }
   ],
   "source": [
    "str(True)"
   ]
  },
  {
   "cell_type": "code",
   "execution_count": 20,
   "id": "e4cc5400",
   "metadata": {},
   "outputs": [
    {
     "data": {
      "text/plain": [
       "1.0"
      ]
     },
     "execution_count": 20,
     "metadata": {},
     "output_type": "execute_result"
    }
   ],
   "source": [
    "float(True)"
   ]
  },
  {
   "cell_type": "code",
   "execution_count": null,
   "id": "7dd36e00",
   "metadata": {},
   "outputs": [],
   "source": []
  }
 ],
 "metadata": {
  "kernelspec": {
   "display_name": "Python 3 (ipykernel)",
   "language": "python",
   "name": "python3"
  },
  "language_info": {
   "codemirror_mode": {
    "name": "ipython",
    "version": 3
   },
   "file_extension": ".py",
   "mimetype": "text/x-python",
   "name": "python",
   "nbconvert_exporter": "python",
   "pygments_lexer": "ipython3",
   "version": "3.9.13"
  }
 },
 "nbformat": 4,
 "nbformat_minor": 5
}
